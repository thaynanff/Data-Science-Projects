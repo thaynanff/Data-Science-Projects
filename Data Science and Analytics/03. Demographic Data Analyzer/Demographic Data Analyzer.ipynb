{
 "cells": [
  {
   "cell_type": "markdown",
   "id": "02772142-faa9-4eed-b713-388a1c29dfbd",
   "metadata": {
    "tags": []
   },
   "source": [
    "# Demographic Data Analyzer\n",
    "\n",
    "With this project, we will analyze demographic data using Pandas. We are given a dataset of demographic data that was extracted from the 1994 Census database. \n",
    "\n",
    "The following questions must be answered:\n",
    "\n",
    "- How many people of each race are represented in this dataset? This should be a Pandas series with race names as the index labels. (race column)\n",
    "- What is the average age of men?\n",
    "- What is the percentage of people who have a Bachelor's degree?\n",
    "- What percentage of people with advanced education (Bachelors, Masters, or Doctorate) make more than 50K?\n",
    "- What percentage of people without advanced education make more than 50K?\n",
    "- What is the minimum number of hours a person works per week?\n",
    "- What percentage of the people who work the minimum number of hours per week have a salary of more than 50K?\n",
    "- What country has the highest percentage of people that earn >50K and what is that percentage?\n",
    "- Identify the most popular occupation for those who earn >50K in India."
   ]
  },
  {
   "cell_type": "code",
   "execution_count": 1,
   "id": "4d5b7531-453a-4eff-a6c6-7d1b7e6713a4",
   "metadata": {},
   "outputs": [],
   "source": [
    "import pandas as pd"
   ]
  },
  {
   "cell_type": "code",
   "execution_count": 2,
   "id": "7c74188c-ad0c-445f-9780-8066b8bebe27",
   "metadata": {},
   "outputs": [
    {
     "data": {
      "text/html": [
       "<div>\n",
       "<style scoped>\n",
       "    .dataframe tbody tr th:only-of-type {\n",
       "        vertical-align: middle;\n",
       "    }\n",
       "\n",
       "    .dataframe tbody tr th {\n",
       "        vertical-align: top;\n",
       "    }\n",
       "\n",
       "    .dataframe thead th {\n",
       "        text-align: right;\n",
       "    }\n",
       "</style>\n",
       "<table border=\"1\" class=\"dataframe\">\n",
       "  <thead>\n",
       "    <tr style=\"text-align: right;\">\n",
       "      <th></th>\n",
       "      <th>age</th>\n",
       "      <th>workclass</th>\n",
       "      <th>fnlwgt</th>\n",
       "      <th>education</th>\n",
       "      <th>education-num</th>\n",
       "      <th>marital-status</th>\n",
       "      <th>occupation</th>\n",
       "      <th>relationship</th>\n",
       "      <th>race</th>\n",
       "      <th>sex</th>\n",
       "      <th>capital-gain</th>\n",
       "      <th>capital-loss</th>\n",
       "      <th>hours-per-week</th>\n",
       "      <th>native-country</th>\n",
       "      <th>salary</th>\n",
       "    </tr>\n",
       "  </thead>\n",
       "  <tbody>\n",
       "    <tr>\n",
       "      <th>0</th>\n",
       "      <td>39</td>\n",
       "      <td>State-gov</td>\n",
       "      <td>77516</td>\n",
       "      <td>Bachelors</td>\n",
       "      <td>13</td>\n",
       "      <td>Never-married</td>\n",
       "      <td>Adm-clerical</td>\n",
       "      <td>Not-in-family</td>\n",
       "      <td>White</td>\n",
       "      <td>Male</td>\n",
       "      <td>2174</td>\n",
       "      <td>0</td>\n",
       "      <td>40</td>\n",
       "      <td>United-States</td>\n",
       "      <td>&lt;=50K</td>\n",
       "    </tr>\n",
       "    <tr>\n",
       "      <th>1</th>\n",
       "      <td>50</td>\n",
       "      <td>Self-emp-not-inc</td>\n",
       "      <td>83311</td>\n",
       "      <td>Bachelors</td>\n",
       "      <td>13</td>\n",
       "      <td>Married-civ-spouse</td>\n",
       "      <td>Exec-managerial</td>\n",
       "      <td>Husband</td>\n",
       "      <td>White</td>\n",
       "      <td>Male</td>\n",
       "      <td>0</td>\n",
       "      <td>0</td>\n",
       "      <td>13</td>\n",
       "      <td>United-States</td>\n",
       "      <td>&lt;=50K</td>\n",
       "    </tr>\n",
       "    <tr>\n",
       "      <th>2</th>\n",
       "      <td>38</td>\n",
       "      <td>Private</td>\n",
       "      <td>215646</td>\n",
       "      <td>HS-grad</td>\n",
       "      <td>9</td>\n",
       "      <td>Divorced</td>\n",
       "      <td>Handlers-cleaners</td>\n",
       "      <td>Not-in-family</td>\n",
       "      <td>White</td>\n",
       "      <td>Male</td>\n",
       "      <td>0</td>\n",
       "      <td>0</td>\n",
       "      <td>40</td>\n",
       "      <td>United-States</td>\n",
       "      <td>&lt;=50K</td>\n",
       "    </tr>\n",
       "    <tr>\n",
       "      <th>3</th>\n",
       "      <td>53</td>\n",
       "      <td>Private</td>\n",
       "      <td>234721</td>\n",
       "      <td>11th</td>\n",
       "      <td>7</td>\n",
       "      <td>Married-civ-spouse</td>\n",
       "      <td>Handlers-cleaners</td>\n",
       "      <td>Husband</td>\n",
       "      <td>Black</td>\n",
       "      <td>Male</td>\n",
       "      <td>0</td>\n",
       "      <td>0</td>\n",
       "      <td>40</td>\n",
       "      <td>United-States</td>\n",
       "      <td>&lt;=50K</td>\n",
       "    </tr>\n",
       "    <tr>\n",
       "      <th>4</th>\n",
       "      <td>28</td>\n",
       "      <td>Private</td>\n",
       "      <td>338409</td>\n",
       "      <td>Bachelors</td>\n",
       "      <td>13</td>\n",
       "      <td>Married-civ-spouse</td>\n",
       "      <td>Prof-specialty</td>\n",
       "      <td>Wife</td>\n",
       "      <td>Black</td>\n",
       "      <td>Female</td>\n",
       "      <td>0</td>\n",
       "      <td>0</td>\n",
       "      <td>40</td>\n",
       "      <td>Cuba</td>\n",
       "      <td>&lt;=50K</td>\n",
       "    </tr>\n",
       "  </tbody>\n",
       "</table>\n",
       "</div>"
      ],
      "text/plain": [
       "   age         workclass  fnlwgt  education  education-num  \\\n",
       "0   39         State-gov   77516  Bachelors             13   \n",
       "1   50  Self-emp-not-inc   83311  Bachelors             13   \n",
       "2   38           Private  215646    HS-grad              9   \n",
       "3   53           Private  234721       11th              7   \n",
       "4   28           Private  338409  Bachelors             13   \n",
       "\n",
       "       marital-status         occupation   relationship   race     sex  \\\n",
       "0       Never-married       Adm-clerical  Not-in-family  White    Male   \n",
       "1  Married-civ-spouse    Exec-managerial        Husband  White    Male   \n",
       "2            Divorced  Handlers-cleaners  Not-in-family  White    Male   \n",
       "3  Married-civ-spouse  Handlers-cleaners        Husband  Black    Male   \n",
       "4  Married-civ-spouse     Prof-specialty           Wife  Black  Female   \n",
       "\n",
       "   capital-gain  capital-loss  hours-per-week native-country salary  \n",
       "0          2174             0              40  United-States  <=50K  \n",
       "1             0             0              13  United-States  <=50K  \n",
       "2             0             0              40  United-States  <=50K  \n",
       "3             0             0              40  United-States  <=50K  \n",
       "4             0             0              40           Cuba  <=50K  "
      ]
     },
     "execution_count": 2,
     "metadata": {},
     "output_type": "execute_result"
    }
   ],
   "source": [
    "url = 'adult.data.csv'\n",
    "\n",
    "df = pd.read_csv(url)\n",
    "\n",
    "df.head()"
   ]
  },
  {
   "cell_type": "markdown",
   "id": "bdc0fc63-487f-457b-b725-6f2aae1ef581",
   "metadata": {},
   "source": [
    "## Answering the questions\n",
    "### 1. How many people of each race are represented in this dataset? This should be a Pandas series with race names as the index labels. (race column)"
   ]
  },
  {
   "cell_type": "code",
   "execution_count": 20,
   "id": "aac04e3e-8c23-4235-8042-d878c99b0dad",
   "metadata": {},
   "outputs": [
    {
     "data": {
      "text/plain": [
       "White                 27816\n",
       "Black                  3124\n",
       "Asian-Pac-Islander     1039\n",
       "Amer-Indian-Eskimo      311\n",
       "Other                   271\n",
       "Name: race, dtype: int64"
      ]
     },
     "execution_count": 20,
     "metadata": {},
     "output_type": "execute_result"
    }
   ],
   "source": [
    "df['race'].value_counts()"
   ]
  },
  {
   "cell_type": "code",
   "execution_count": 4,
   "id": "4e8c5b68-15af-4d88-8e0a-7e798cb5a2bf",
   "metadata": {},
   "outputs": [
    {
     "data": {
      "text/plain": [
       "85.42735173981143"
      ]
     },
     "execution_count": 4,
     "metadata": {},
     "output_type": "execute_result"
    }
   ],
   "source": [
    "white = df[df['race'] == 'White'].shape[0]\n",
    "\n",
    "total = df.shape[0]\n",
    "\n",
    "white_percent = white/total\n",
    "\n",
    "white_percent*100"
   ]
  },
  {
   "cell_type": "markdown",
   "id": "40652dbc-2c0c-4b05-aecc-cccd34a76cc2",
   "metadata": {},
   "source": [
    "As can be seen above, white people are the most represented in the dataset, with a percentage of 85.43% of the total."
   ]
  },
  {
   "cell_type": "markdown",
   "id": "ee9dceef-2f0c-498b-85ad-7d6d5f512e47",
   "metadata": {},
   "source": [
    "### 2. What is the average age of men?"
   ]
  },
  {
   "cell_type": "code",
   "execution_count": 5,
   "id": "6da3a546-6885-4195-8ccc-2a90dbb7f7fa",
   "metadata": {},
   "outputs": [
    {
     "data": {
      "text/plain": [
       "39.4"
      ]
     },
     "execution_count": 5,
     "metadata": {},
     "output_type": "execute_result"
    }
   ],
   "source": [
    "round(df[df['sex'] == 'Male']['age'].mean(),1)"
   ]
  },
  {
   "cell_type": "markdown",
   "id": "b9e76dd7-d98b-4fa0-9f41-409efde91031",
   "metadata": {},
   "source": [
    "The average age of men in the dataset is 39.43 years."
   ]
  },
  {
   "cell_type": "markdown",
   "id": "3fc5e2c1-b12b-478f-9453-ec9d8d25fa34",
   "metadata": {},
   "source": [
    "### 3. What is the percentage of people who have a Bachelor's degree?"
   ]
  },
  {
   "cell_type": "code",
   "execution_count": 6,
   "id": "d03a6dab-3f75-4f3d-8c93-c53e00e9e2f1",
   "metadata": {},
   "outputs": [
    {
     "data": {
      "text/plain": [
       "16.4"
      ]
     },
     "execution_count": 6,
     "metadata": {},
     "output_type": "execute_result"
    }
   ],
   "source": [
    "round(df[df['education'] == 'Bachelors']['education'].shape[0] / df.shape[0] * 100, 1)"
   ]
  },
  {
   "cell_type": "markdown",
   "id": "d536993a-f00a-42d9-9499-fc597b18e6dd",
   "metadata": {},
   "source": [
    "The percentagem of people with Bachelor's degree is 16.4%."
   ]
  },
  {
   "cell_type": "markdown",
   "id": "285f049e-e2fa-49e0-8958-e3dd3953b1b6",
   "metadata": {
    "tags": []
   },
   "source": [
    "### 4. What percentage of people with advanced education (Bachelors, Masters, or Doctorate) make more than 50K?\n",
    "### 5. What percentage of people without advanced education make more than 50K?"
   ]
  },
  {
   "cell_type": "code",
   "execution_count": 7,
   "id": "0ad24477-eb9f-4990-a0f6-54e8af955399",
   "metadata": {},
   "outputs": [],
   "source": [
    "higher_education = df[df['education'].isin(['Bachelors', 'Masters', 'Doctorate'])]"
   ]
  },
  {
   "cell_type": "code",
   "execution_count": 8,
   "id": "e4089833-2a41-4f09-a261-522588d2acc2",
   "metadata": {},
   "outputs": [
    {
     "data": {
      "text/plain": [
       "46.5"
      ]
     },
     "execution_count": 8,
     "metadata": {},
     "output_type": "execute_result"
    }
   ],
   "source": [
    "higher_education_rich = round(len(higher_education[higher_education['salary'] == '>50K']) / len(higher_education) * 100, 1)\n",
    "higher_education_rich"
   ]
  },
  {
   "cell_type": "markdown",
   "id": "c737884f-81cc-40f0-94f2-8fa1ecdd17dd",
   "metadata": {},
   "source": [
    "The percentagem of people with advanced education that make more than 50K is: 46.5%."
   ]
  },
  {
   "cell_type": "code",
   "execution_count": 9,
   "id": "96cc8397-6e92-474d-88c4-defb067b4525",
   "metadata": {},
   "outputs": [],
   "source": [
    "lower_education = df[~df['education'].isin(['Bachelors', 'Masters', 'Doctorate'])]"
   ]
  },
  {
   "cell_type": "code",
   "execution_count": 10,
   "id": "a2260d3f-c2c8-4ac0-9931-8fbe80c81e49",
   "metadata": {},
   "outputs": [
    {
     "data": {
      "text/plain": [
       "17.4"
      ]
     },
     "execution_count": 10,
     "metadata": {},
     "output_type": "execute_result"
    }
   ],
   "source": [
    "lower_education_rich = round(len(lower_education[lower_education['salary'] == '>50K']) / len(lower_education) * 100, 1)\n",
    "lower_education_rich"
   ]
  },
  {
   "cell_type": "markdown",
   "id": "f9902cf9-4906-4ad3-91d8-f3cbb8c9b4e6",
   "metadata": {},
   "source": [
    "The percentagem of people without advanced education that make more than 50K is: 17.4%."
   ]
  },
  {
   "cell_type": "markdown",
   "id": "c6e31dfe-f228-41e3-ad24-82c60a7a7096",
   "metadata": {},
   "source": [
    "### 6. What is the minimum number of hours a person works per week?"
   ]
  },
  {
   "cell_type": "code",
   "execution_count": 11,
   "id": "f271d5b9-aed1-40c9-8abc-d9f57aab77b4",
   "metadata": {},
   "outputs": [
    {
     "data": {
      "text/plain": [
       "1"
      ]
     },
     "execution_count": 11,
     "metadata": {},
     "output_type": "execute_result"
    }
   ],
   "source": [
    "num_min_workers = df['hours-per-week'].min()\n",
    "num_min_workers"
   ]
  },
  {
   "cell_type": "markdown",
   "id": "178fa3e7-942c-45e5-a31a-87f4ded64382",
   "metadata": {},
   "source": [
    "The minimum number of hours a person works per week is 1 hour."
   ]
  },
  {
   "cell_type": "markdown",
   "id": "8f4994ca-cc85-44c5-bd86-d42d651d5173",
   "metadata": {},
   "source": [
    "### 7. What percentage of the people who work the minimum number of hours per week have a salary of more than 50K?"
   ]
  },
  {
   "cell_type": "code",
   "execution_count": 12,
   "id": "95a99c19-1329-4424-9708-66d2264ce722",
   "metadata": {},
   "outputs": [
    {
     "data": {
      "text/plain": [
       "10.0"
      ]
     },
     "execution_count": 12,
     "metadata": {},
     "output_type": "execute_result"
    }
   ],
   "source": [
    "min_workers = df[df['hours-per-week'] == 1]\n",
    "\n",
    "rich_percentage = len(min_workers) / len(min_workers[min_workers['salary'] == '>50K'])\n",
    "\n",
    "rich_percentage"
   ]
  },
  {
   "cell_type": "markdown",
   "id": "2723fb48-898b-46cd-b3b1-d3688d17d7b8",
   "metadata": {},
   "source": [
    "The percentage of the people who work the minimum number of hours per week have a salary of more than 50K is: 10%"
   ]
  },
  {
   "cell_type": "markdown",
   "id": "61ec7667-7d44-45c0-a9e4-f66765c0848d",
   "metadata": {},
   "source": [
    "### 8. What country has the highest percentage of people that earn >50K and what is that percentage?"
   ]
  },
  {
   "cell_type": "code",
   "execution_count": 13,
   "id": "88b595e7-8ae1-4632-b45b-7b7b22664f81",
   "metadata": {},
   "outputs": [
    {
     "data": {
      "text/plain": [
       "United-States         7171\n",
       "?                      146\n",
       "Philippines             61\n",
       "Germany                 44\n",
       "India                   40\n",
       "Canada                  39\n",
       "Mexico                  33\n",
       "England                 30\n",
       "Italy                   25\n",
       "Cuba                    25\n",
       "Japan                   24\n",
       "Taiwan                  20\n",
       "China                   20\n",
       "Iran                    18\n",
       "South                   16\n",
       "Puerto-Rico             12\n",
       "Poland                  12\n",
       "France                  12\n",
       "Jamaica                 10\n",
       "El-Salvador              9\n",
       "Greece                   8\n",
       "Cambodia                 7\n",
       "Hong                     6\n",
       "Yugoslavia               6\n",
       "Ireland                  5\n",
       "Vietnam                  5\n",
       "Portugal                 4\n",
       "Haiti                    4\n",
       "Ecuador                  4\n",
       "Thailand                 3\n",
       "Hungary                  3\n",
       "Guatemala                3\n",
       "Scotland                 3\n",
       "Nicaragua                2\n",
       "Trinadad&Tobago          2\n",
       "Laos                     2\n",
       "Columbia                 2\n",
       "Dominican-Republic       2\n",
       "Peru                     2\n",
       "Honduras                 1\n",
       "Name: native-country, dtype: int64"
      ]
     },
     "execution_count": 13,
     "metadata": {},
     "output_type": "execute_result"
    }
   ],
   "source": [
    "df.loc[df['salary'] == '>50K', 'native-country'].value_counts()"
   ]
  },
  {
   "cell_type": "code",
   "execution_count": 21,
   "id": "c169cbfa-f468-4d3a-b2c5-d296b753935d",
   "metadata": {},
   "outputs": [
    {
     "data": {
      "text/plain": [
       "'Iran'"
      ]
     },
     "execution_count": 21,
     "metadata": {},
     "output_type": "execute_result"
    }
   ],
   "source": [
    "highest_earning_country = round(df.loc[df['salary'] == '>50K', 'native-country'].value_counts() / df['native-country'].value_counts() * 100,1).sort_values(ascending=False).index[0]\n",
    "\n",
    "highest_earning_country"
   ]
  },
  {
   "cell_type": "markdown",
   "id": "96bdf589-9fd9-42a2-9155-b4deb6de92e1",
   "metadata": {},
   "source": [
    "The country with the highest percentage of people that earn >50K is Iran!"
   ]
  },
  {
   "cell_type": "code",
   "execution_count": 15,
   "id": "c3221699-5f39-4cf7-a1c2-95b3f92e2c2a",
   "metadata": {},
   "outputs": [
    {
     "data": {
      "text/plain": [
       "41.9"
      ]
     },
     "execution_count": 15,
     "metadata": {},
     "output_type": "execute_result"
    }
   ],
   "source": [
    "highest_earning_country_percentage = highest_earning_country.sort_values(ascending=False)[0]\n",
    "highest_earning_country_percentage"
   ]
  },
  {
   "cell_type": "markdown",
   "id": "28ab9f0f-99a1-4ec4-93b9-f3f8ec1a6ac8",
   "metadata": {},
   "source": [
    "And the percentage is: 41.9%"
   ]
  },
  {
   "cell_type": "markdown",
   "id": "2f702e61-9fa3-4838-84af-a96ae75a86b5",
   "metadata": {},
   "source": [
    "### 9. Identify the most popular occupation for those who earn >50K in India."
   ]
  },
  {
   "cell_type": "code",
   "execution_count": 18,
   "id": "c39d5897-c7b7-448e-bb3b-d492970132cc",
   "metadata": {},
   "outputs": [
    {
     "data": {
      "text/plain": [
       "'Prof-specialty'"
      ]
     },
     "execution_count": 18,
     "metadata": {},
     "output_type": "execute_result"
    }
   ],
   "source": [
    "top_IN_occupation = df[(df['native-country'] == 'India') & (df['salary'] == '>50K')]['occupation'].value_counts().index[0]\n",
    "\n",
    "top_IN_occupation"
   ]
  },
  {
   "cell_type": "markdown",
   "id": "ba5f4bc8-0fe7-425b-95a8-c2e6faed8754",
   "metadata": {},
   "source": [
    "The most popular occupation for those who earn >50K in India"
   ]
  }
 ],
 "metadata": {
  "kernelspec": {
   "display_name": "Python 3 (ipykernel)",
   "language": "python",
   "name": "python3"
  },
  "language_info": {
   "codemirror_mode": {
    "name": "ipython",
    "version": 3
   },
   "file_extension": ".py",
   "mimetype": "text/x-python",
   "name": "python",
   "nbconvert_exporter": "python",
   "pygments_lexer": "ipython3",
   "version": "3.9.12"
  }
 },
 "nbformat": 4,
 "nbformat_minor": 5
}
