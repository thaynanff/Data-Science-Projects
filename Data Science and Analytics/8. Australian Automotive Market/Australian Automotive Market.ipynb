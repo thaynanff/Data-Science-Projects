{
  "metadata": {
    "kernelspec": {
      "language": "python",
      "display_name": "Python 3",
      "name": "python3"
    },
    "language_info": {
      "name": "python",
      "version": "3.10.10",
      "mimetype": "text/x-python",
      "codemirror_mode": {
        "name": "ipython",
        "version": 3
      },
      "pygments_lexer": "ipython3",
      "nbconvert_exporter": "python",
      "file_extension": ".py"
    },
    "colab": {
      "provenance": []
    }
  },
  "nbformat_minor": 0,
  "nbformat": 4,
  "cells": [
    {
      "cell_type": "markdown",
      "source": [
        "# Australian Automotive Market - Descriptive Analysis"
      ],
      "metadata": {
        "id": "eFyzLYONh8Fk"
      }
    },
    {
      "cell_type": "code",
      "source": [
        "# data\n",
        "\n",
        "import pandas as pd\n",
        "import numpy as np\n",
        "from scipy.stats import variation \n",
        "\n",
        "# visualization\n",
        "import matplotlib as mpl\n",
        "import matplotlib.pyplot as plt\n",
        "import seaborn as sns"
      ],
      "metadata": {
        "execution": {
          "iopub.status.busy": "2023-05-23T00:07:34.217275Z",
          "iopub.execute_input": "2023-05-23T00:07:34.217686Z",
          "iopub.status.idle": "2023-05-23T00:07:34.223077Z",
          "shell.execute_reply.started": "2023-05-23T00:07:34.217653Z",
          "shell.execute_reply": "2023-05-23T00:07:34.221888Z"
        },
        "trusted": true,
        "id": "DAI6Hc8oh8F7"
      },
      "execution_count": 2,
      "outputs": []
    },
    {
      "cell_type": "markdown",
      "source": [
        "We are going to analise the Australian Automotive Market with data extracted from the website Autotrader.com. The dataset's author doesn't provide the information about when this data was extracted.\n",
        "\n",
        "We will try to answer these questions:\n",
        "\n",
        "1. What are the top 10 veicles sold?\n",
        "2. What's the avarage mileage of these cars?\n",
        "3. What's the avarage price of these cars?\n",
        "4. \n"
      ],
      "metadata": {
        "id": "Tl87goIbh8F9"
      }
    },
    {
      "cell_type": "markdown",
      "source": [
        "## 1. Reading, visualising and describing the dataset"
      ],
      "metadata": {
        "id": "QaTLfftYh8F9"
      }
    },
    {
      "cell_type": "code",
      "source": [
        "df = pd.read_csv('/content/cars.csv')\n",
        "\n",
        "df.head()"
      ],
      "metadata": {
        "execution": {
          "iopub.status.busy": "2023-05-23T00:07:36.211890Z",
          "iopub.execute_input": "2023-05-23T00:07:36.212261Z",
          "iopub.status.idle": "2023-05-23T00:07:36.395335Z",
          "shell.execute_reply.started": "2023-05-23T00:07:36.212230Z",
          "shell.execute_reply": "2023-05-23T00:07:36.394262Z"
        },
        "trusted": true,
        "colab": {
          "base_uri": "https://localhost:8080/",
          "height": 371
        },
        "id": "fc3k7LcQh8F_",
        "outputId": "fc00b621-9358-47a5-de57-6603f1fdf813"
      },
      "execution_count": 3,
      "outputs": [
        {
          "output_type": "execute_result",
          "data": {
            "text/plain": [
              "         ID                                               Name   Price  \\\n",
              "0  11530130                  2010 Toyota Rukus Build 2 AZE151R    9999   \n",
              "1  12190570  2021 Mercedes-Benz V 250 D Avantgarde MWB 447 ...  117990   \n",
              "2  12321855  2021 Mercedes-Benz Valente 116 CDI MWB RWD 447...   79990   \n",
              "3  12346971         2010 Mercedes-Benz E250 CDI Avantgarde 207   34990   \n",
              "4  12363884                       2016 Holden Cruze CD JH MY16   15990   \n",
              "\n",
              "           Brand    Model               Variant    Series  Year  Kilometers  \\\n",
              "0         Toyota    Rukus               Build 2   AZE151R  2010      263000   \n",
              "1  Mercedes-Benz        V  250 D Avantgarde MWB  447 MY21  2021          19   \n",
              "2  Mercedes-Benz  Valente       116 CDI MWB RWD  447 MY21  2021          24   \n",
              "3  Mercedes-Benz     E250        CDI Avantgarde       207  2010      120579   \n",
              "4         Holden    Cruze                    CD   JH MY16  2016       72506   \n",
              "\n",
              "          Type    Gearbox             Fuel         Status    CC  Color  \\\n",
              "0        Wagon  Automatic  Unleaded Petrol           Used  2362   Grey   \n",
              "1        Wagon  Automatic           Diesel   New In Stock  2143  Black   \n",
              "2        Wagon  Automatic           Diesel   New In Stock  2143  Black   \n",
              "3    Cabriolet  Automatic           Diesel           Used  2143  Black   \n",
              "4  Sportswagon  Automatic  Unleaded Petrol           Used  1796  White   \n",
              "\n",
              "   Seating Capacity  \n",
              "0                 5  \n",
              "1                 7  \n",
              "2                 8  \n",
              "3                 4  \n",
              "4                 5  "
            ],
            "text/html": [
              "\n",
              "  <div id=\"df-95d64a0f-905a-47ec-be6a-44188ae06d02\">\n",
              "    <div class=\"colab-df-container\">\n",
              "      <div>\n",
              "<style scoped>\n",
              "    .dataframe tbody tr th:only-of-type {\n",
              "        vertical-align: middle;\n",
              "    }\n",
              "\n",
              "    .dataframe tbody tr th {\n",
              "        vertical-align: top;\n",
              "    }\n",
              "\n",
              "    .dataframe thead th {\n",
              "        text-align: right;\n",
              "    }\n",
              "</style>\n",
              "<table border=\"1\" class=\"dataframe\">\n",
              "  <thead>\n",
              "    <tr style=\"text-align: right;\">\n",
              "      <th></th>\n",
              "      <th>ID</th>\n",
              "      <th>Name</th>\n",
              "      <th>Price</th>\n",
              "      <th>Brand</th>\n",
              "      <th>Model</th>\n",
              "      <th>Variant</th>\n",
              "      <th>Series</th>\n",
              "      <th>Year</th>\n",
              "      <th>Kilometers</th>\n",
              "      <th>Type</th>\n",
              "      <th>Gearbox</th>\n",
              "      <th>Fuel</th>\n",
              "      <th>Status</th>\n",
              "      <th>CC</th>\n",
              "      <th>Color</th>\n",
              "      <th>Seating Capacity</th>\n",
              "    </tr>\n",
              "  </thead>\n",
              "  <tbody>\n",
              "    <tr>\n",
              "      <th>0</th>\n",
              "      <td>11530130</td>\n",
              "      <td>2010 Toyota Rukus Build 2 AZE151R</td>\n",
              "      <td>9999</td>\n",
              "      <td>Toyota</td>\n",
              "      <td>Rukus</td>\n",
              "      <td>Build 2</td>\n",
              "      <td>AZE151R</td>\n",
              "      <td>2010</td>\n",
              "      <td>263000</td>\n",
              "      <td>Wagon</td>\n",
              "      <td>Automatic</td>\n",
              "      <td>Unleaded Petrol</td>\n",
              "      <td>Used</td>\n",
              "      <td>2362</td>\n",
              "      <td>Grey</td>\n",
              "      <td>5</td>\n",
              "    </tr>\n",
              "    <tr>\n",
              "      <th>1</th>\n",
              "      <td>12190570</td>\n",
              "      <td>2021 Mercedes-Benz V 250 D Avantgarde MWB 447 ...</td>\n",
              "      <td>117990</td>\n",
              "      <td>Mercedes-Benz</td>\n",
              "      <td>V</td>\n",
              "      <td>250 D Avantgarde MWB</td>\n",
              "      <td>447 MY21</td>\n",
              "      <td>2021</td>\n",
              "      <td>19</td>\n",
              "      <td>Wagon</td>\n",
              "      <td>Automatic</td>\n",
              "      <td>Diesel</td>\n",
              "      <td>New In Stock</td>\n",
              "      <td>2143</td>\n",
              "      <td>Black</td>\n",
              "      <td>7</td>\n",
              "    </tr>\n",
              "    <tr>\n",
              "      <th>2</th>\n",
              "      <td>12321855</td>\n",
              "      <td>2021 Mercedes-Benz Valente 116 CDI MWB RWD 447...</td>\n",
              "      <td>79990</td>\n",
              "      <td>Mercedes-Benz</td>\n",
              "      <td>Valente</td>\n",
              "      <td>116 CDI MWB RWD</td>\n",
              "      <td>447 MY21</td>\n",
              "      <td>2021</td>\n",
              "      <td>24</td>\n",
              "      <td>Wagon</td>\n",
              "      <td>Automatic</td>\n",
              "      <td>Diesel</td>\n",
              "      <td>New In Stock</td>\n",
              "      <td>2143</td>\n",
              "      <td>Black</td>\n",
              "      <td>8</td>\n",
              "    </tr>\n",
              "    <tr>\n",
              "      <th>3</th>\n",
              "      <td>12346971</td>\n",
              "      <td>2010 Mercedes-Benz E250 CDI Avantgarde 207</td>\n",
              "      <td>34990</td>\n",
              "      <td>Mercedes-Benz</td>\n",
              "      <td>E250</td>\n",
              "      <td>CDI Avantgarde</td>\n",
              "      <td>207</td>\n",
              "      <td>2010</td>\n",
              "      <td>120579</td>\n",
              "      <td>Cabriolet</td>\n",
              "      <td>Automatic</td>\n",
              "      <td>Diesel</td>\n",
              "      <td>Used</td>\n",
              "      <td>2143</td>\n",
              "      <td>Black</td>\n",
              "      <td>4</td>\n",
              "    </tr>\n",
              "    <tr>\n",
              "      <th>4</th>\n",
              "      <td>12363884</td>\n",
              "      <td>2016 Holden Cruze CD JH MY16</td>\n",
              "      <td>15990</td>\n",
              "      <td>Holden</td>\n",
              "      <td>Cruze</td>\n",
              "      <td>CD</td>\n",
              "      <td>JH MY16</td>\n",
              "      <td>2016</td>\n",
              "      <td>72506</td>\n",
              "      <td>Sportswagon</td>\n",
              "      <td>Automatic</td>\n",
              "      <td>Unleaded Petrol</td>\n",
              "      <td>Used</td>\n",
              "      <td>1796</td>\n",
              "      <td>White</td>\n",
              "      <td>5</td>\n",
              "    </tr>\n",
              "  </tbody>\n",
              "</table>\n",
              "</div>\n",
              "      <button class=\"colab-df-convert\" onclick=\"convertToInteractive('df-95d64a0f-905a-47ec-be6a-44188ae06d02')\"\n",
              "              title=\"Convert this dataframe to an interactive table.\"\n",
              "              style=\"display:none;\">\n",
              "        \n",
              "  <svg xmlns=\"http://www.w3.org/2000/svg\" height=\"24px\"viewBox=\"0 0 24 24\"\n",
              "       width=\"24px\">\n",
              "    <path d=\"M0 0h24v24H0V0z\" fill=\"none\"/>\n",
              "    <path d=\"M18.56 5.44l.94 2.06.94-2.06 2.06-.94-2.06-.94-.94-2.06-.94 2.06-2.06.94zm-11 1L8.5 8.5l.94-2.06 2.06-.94-2.06-.94L8.5 2.5l-.94 2.06-2.06.94zm10 10l.94 2.06.94-2.06 2.06-.94-2.06-.94-.94-2.06-.94 2.06-2.06.94z\"/><path d=\"M17.41 7.96l-1.37-1.37c-.4-.4-.92-.59-1.43-.59-.52 0-1.04.2-1.43.59L10.3 9.45l-7.72 7.72c-.78.78-.78 2.05 0 2.83L4 21.41c.39.39.9.59 1.41.59.51 0 1.02-.2 1.41-.59l7.78-7.78 2.81-2.81c.8-.78.8-2.07 0-2.86zM5.41 20L4 18.59l7.72-7.72 1.47 1.35L5.41 20z\"/>\n",
              "  </svg>\n",
              "      </button>\n",
              "      \n",
              "  <style>\n",
              "    .colab-df-container {\n",
              "      display:flex;\n",
              "      flex-wrap:wrap;\n",
              "      gap: 12px;\n",
              "    }\n",
              "\n",
              "    .colab-df-convert {\n",
              "      background-color: #E8F0FE;\n",
              "      border: none;\n",
              "      border-radius: 50%;\n",
              "      cursor: pointer;\n",
              "      display: none;\n",
              "      fill: #1967D2;\n",
              "      height: 32px;\n",
              "      padding: 0 0 0 0;\n",
              "      width: 32px;\n",
              "    }\n",
              "\n",
              "    .colab-df-convert:hover {\n",
              "      background-color: #E2EBFA;\n",
              "      box-shadow: 0px 1px 2px rgba(60, 64, 67, 0.3), 0px 1px 3px 1px rgba(60, 64, 67, 0.15);\n",
              "      fill: #174EA6;\n",
              "    }\n",
              "\n",
              "    [theme=dark] .colab-df-convert {\n",
              "      background-color: #3B4455;\n",
              "      fill: #D2E3FC;\n",
              "    }\n",
              "\n",
              "    [theme=dark] .colab-df-convert:hover {\n",
              "      background-color: #434B5C;\n",
              "      box-shadow: 0px 1px 3px 1px rgba(0, 0, 0, 0.15);\n",
              "      filter: drop-shadow(0px 1px 2px rgba(0, 0, 0, 0.3));\n",
              "      fill: #FFFFFF;\n",
              "    }\n",
              "  </style>\n",
              "\n",
              "      <script>\n",
              "        const buttonEl =\n",
              "          document.querySelector('#df-95d64a0f-905a-47ec-be6a-44188ae06d02 button.colab-df-convert');\n",
              "        buttonEl.style.display =\n",
              "          google.colab.kernel.accessAllowed ? 'block' : 'none';\n",
              "\n",
              "        async function convertToInteractive(key) {\n",
              "          const element = document.querySelector('#df-95d64a0f-905a-47ec-be6a-44188ae06d02');\n",
              "          const dataTable =\n",
              "            await google.colab.kernel.invokeFunction('convertToInteractive',\n",
              "                                                     [key], {});\n",
              "          if (!dataTable) return;\n",
              "\n",
              "          const docLinkHtml = 'Like what you see? Visit the ' +\n",
              "            '<a target=\"_blank\" href=https://colab.research.google.com/notebooks/data_table.ipynb>data table notebook</a>'\n",
              "            + ' to learn more about interactive tables.';\n",
              "          element.innerHTML = '';\n",
              "          dataTable['output_type'] = 'display_data';\n",
              "          await google.colab.output.renderOutput(dataTable, element);\n",
              "          const docLink = document.createElement('div');\n",
              "          docLink.innerHTML = docLinkHtml;\n",
              "          element.appendChild(docLink);\n",
              "        }\n",
              "      </script>\n",
              "    </div>\n",
              "  </div>\n",
              "  "
            ]
          },
          "metadata": {},
          "execution_count": 3
        }
      ]
    },
    {
      "cell_type": "markdown",
      "source": [
        "<center> <b> Column meaning </b> </center>\n",
        "\n",
        "---\n",
        "\n",
        "**ID:** Vehicle number.\n",
        "\n",
        "**Name:** Vehicle name.\n",
        "\n",
        "**Price:** The price of the car.\n",
        "\n",
        "**Brand:** The brand of the vehicle.\n",
        "\n",
        "**Model:** Vehicle age.\n",
        "\n",
        "**Variant:** Vehicle variant.\n",
        "\n",
        "**Series:** Series of vehicles.\n",
        "\n",
        "**Year:** Year of manufacture.\n",
        "\n",
        "**Kilometers:** The number of kilometers the vehicle can run (new vehicles have this attribute 0).\n",
        "\n",
        "**Type:** Vehicle type (Sedan, Wagon, Coupe,…).\n",
        "\n",
        "**Gearbox:** Gearbox (Automatic, manual,…).\n",
        "\n",
        "**Fuel:** Fuel (Oil, gasoline,…).\n",
        "\n",
        "**Status:** Status (Used, tested,…).\n",
        "\n",
        "**CC:** Segmentation.\n",
        "\n",
        "**Color:** Car color.\n",
        "\n",
        "**Seating Capacity:** Number of seats.\n",
        "\n",
        "---"
      ],
      "metadata": {
        "id": "9ru9ycZkh8F_"
      }
    },
    {
      "cell_type": "code",
      "source": [
        "df.shape"
      ],
      "metadata": {
        "execution": {
          "iopub.status.busy": "2023-05-23T00:07:45.826673Z",
          "iopub.execute_input": "2023-05-23T00:07:45.827106Z",
          "iopub.status.idle": "2023-05-23T00:07:45.833436Z",
          "shell.execute_reply.started": "2023-05-23T00:07:45.827068Z",
          "shell.execute_reply": "2023-05-23T00:07:45.832587Z"
        },
        "trusted": true,
        "id": "Hk9y9lvIh8GB",
        "outputId": "2e5aca8b-e7d2-4eab-a1eb-58ba6552d3e6",
        "colab": {
          "base_uri": "https://localhost:8080/"
        }
      },
      "execution_count": 4,
      "outputs": [
        {
          "output_type": "execute_result",
          "data": {
            "text/plain": [
              "(17048, 16)"
            ]
          },
          "metadata": {},
          "execution_count": 4
        }
      ]
    },
    {
      "cell_type": "code",
      "source": [
        "df.info()"
      ],
      "metadata": {
        "execution": {
          "iopub.status.busy": "2023-05-23T00:07:47.498710Z",
          "iopub.execute_input": "2023-05-23T00:07:47.499444Z",
          "iopub.status.idle": "2023-05-23T00:07:47.579856Z",
          "shell.execute_reply.started": "2023-05-23T00:07:47.499400Z",
          "shell.execute_reply": "2023-05-23T00:07:47.578546Z"
        },
        "trusted": true,
        "id": "StMNSMiBh8GD",
        "outputId": "9e0d07c3-2dbd-4324-9123-8e0496c7edf6",
        "colab": {
          "base_uri": "https://localhost:8080/"
        }
      },
      "execution_count": 5,
      "outputs": [
        {
          "output_type": "stream",
          "name": "stdout",
          "text": [
            "<class 'pandas.core.frame.DataFrame'>\n",
            "RangeIndex: 17048 entries, 0 to 17047\n",
            "Data columns (total 16 columns):\n",
            " #   Column            Non-Null Count  Dtype \n",
            "---  ------            --------------  ----- \n",
            " 0   ID                17048 non-null  int64 \n",
            " 1   Name              17048 non-null  object\n",
            " 2   Price             17048 non-null  int64 \n",
            " 3   Brand             17048 non-null  object\n",
            " 4   Model             17048 non-null  object\n",
            " 5   Variant           17048 non-null  object\n",
            " 6   Series            17048 non-null  object\n",
            " 7   Year              17048 non-null  int64 \n",
            " 8   Kilometers        17048 non-null  int64 \n",
            " 9   Type              17048 non-null  object\n",
            " 10  Gearbox           17048 non-null  object\n",
            " 11  Fuel              17048 non-null  object\n",
            " 12  Status            17048 non-null  object\n",
            " 13  CC                17048 non-null  int64 \n",
            " 14  Color             17048 non-null  object\n",
            " 15  Seating Capacity  17048 non-null  int64 \n",
            "dtypes: int64(6), object(10)\n",
            "memory usage: 2.1+ MB\n"
          ]
        }
      ]
    },
    {
      "cell_type": "code",
      "source": [
        "df.loc[:,['Price', 'Year', 'Kilometers']].corr()"
      ],
      "metadata": {
        "id": "roAjyDqhf4NJ",
        "outputId": "15f06dad-89bd-47c3-ace6-a2a25eaebdbb",
        "colab": {
          "base_uri": "https://localhost:8080/",
          "height": 143
        }
      },
      "execution_count": 6,
      "outputs": [
        {
          "output_type": "execute_result",
          "data": {
            "text/plain": [
              "               Price      Year  Kilometers\n",
              "Price       1.000000  0.488033   -0.447490\n",
              "Year        0.488033  1.000000   -0.728515\n",
              "Kilometers -0.447490 -0.728515    1.000000"
            ],
            "text/html": [
              "\n",
              "  <div id=\"df-ae1da9d1-4fa0-4afc-a322-70c452af5f1d\">\n",
              "    <div class=\"colab-df-container\">\n",
              "      <div>\n",
              "<style scoped>\n",
              "    .dataframe tbody tr th:only-of-type {\n",
              "        vertical-align: middle;\n",
              "    }\n",
              "\n",
              "    .dataframe tbody tr th {\n",
              "        vertical-align: top;\n",
              "    }\n",
              "\n",
              "    .dataframe thead th {\n",
              "        text-align: right;\n",
              "    }\n",
              "</style>\n",
              "<table border=\"1\" class=\"dataframe\">\n",
              "  <thead>\n",
              "    <tr style=\"text-align: right;\">\n",
              "      <th></th>\n",
              "      <th>Price</th>\n",
              "      <th>Year</th>\n",
              "      <th>Kilometers</th>\n",
              "    </tr>\n",
              "  </thead>\n",
              "  <tbody>\n",
              "    <tr>\n",
              "      <th>Price</th>\n",
              "      <td>1.000000</td>\n",
              "      <td>0.488033</td>\n",
              "      <td>-0.447490</td>\n",
              "    </tr>\n",
              "    <tr>\n",
              "      <th>Year</th>\n",
              "      <td>0.488033</td>\n",
              "      <td>1.000000</td>\n",
              "      <td>-0.728515</td>\n",
              "    </tr>\n",
              "    <tr>\n",
              "      <th>Kilometers</th>\n",
              "      <td>-0.447490</td>\n",
              "      <td>-0.728515</td>\n",
              "      <td>1.000000</td>\n",
              "    </tr>\n",
              "  </tbody>\n",
              "</table>\n",
              "</div>\n",
              "      <button class=\"colab-df-convert\" onclick=\"convertToInteractive('df-ae1da9d1-4fa0-4afc-a322-70c452af5f1d')\"\n",
              "              title=\"Convert this dataframe to an interactive table.\"\n",
              "              style=\"display:none;\">\n",
              "        \n",
              "  <svg xmlns=\"http://www.w3.org/2000/svg\" height=\"24px\"viewBox=\"0 0 24 24\"\n",
              "       width=\"24px\">\n",
              "    <path d=\"M0 0h24v24H0V0z\" fill=\"none\"/>\n",
              "    <path d=\"M18.56 5.44l.94 2.06.94-2.06 2.06-.94-2.06-.94-.94-2.06-.94 2.06-2.06.94zm-11 1L8.5 8.5l.94-2.06 2.06-.94-2.06-.94L8.5 2.5l-.94 2.06-2.06.94zm10 10l.94 2.06.94-2.06 2.06-.94-2.06-.94-.94-2.06-.94 2.06-2.06.94z\"/><path d=\"M17.41 7.96l-1.37-1.37c-.4-.4-.92-.59-1.43-.59-.52 0-1.04.2-1.43.59L10.3 9.45l-7.72 7.72c-.78.78-.78 2.05 0 2.83L4 21.41c.39.39.9.59 1.41.59.51 0 1.02-.2 1.41-.59l7.78-7.78 2.81-2.81c.8-.78.8-2.07 0-2.86zM5.41 20L4 18.59l7.72-7.72 1.47 1.35L5.41 20z\"/>\n",
              "  </svg>\n",
              "      </button>\n",
              "      \n",
              "  <style>\n",
              "    .colab-df-container {\n",
              "      display:flex;\n",
              "      flex-wrap:wrap;\n",
              "      gap: 12px;\n",
              "    }\n",
              "\n",
              "    .colab-df-convert {\n",
              "      background-color: #E8F0FE;\n",
              "      border: none;\n",
              "      border-radius: 50%;\n",
              "      cursor: pointer;\n",
              "      display: none;\n",
              "      fill: #1967D2;\n",
              "      height: 32px;\n",
              "      padding: 0 0 0 0;\n",
              "      width: 32px;\n",
              "    }\n",
              "\n",
              "    .colab-df-convert:hover {\n",
              "      background-color: #E2EBFA;\n",
              "      box-shadow: 0px 1px 2px rgba(60, 64, 67, 0.3), 0px 1px 3px 1px rgba(60, 64, 67, 0.15);\n",
              "      fill: #174EA6;\n",
              "    }\n",
              "\n",
              "    [theme=dark] .colab-df-convert {\n",
              "      background-color: #3B4455;\n",
              "      fill: #D2E3FC;\n",
              "    }\n",
              "\n",
              "    [theme=dark] .colab-df-convert:hover {\n",
              "      background-color: #434B5C;\n",
              "      box-shadow: 0px 1px 3px 1px rgba(0, 0, 0, 0.15);\n",
              "      filter: drop-shadow(0px 1px 2px rgba(0, 0, 0, 0.3));\n",
              "      fill: #FFFFFF;\n",
              "    }\n",
              "  </style>\n",
              "\n",
              "      <script>\n",
              "        const buttonEl =\n",
              "          document.querySelector('#df-ae1da9d1-4fa0-4afc-a322-70c452af5f1d button.colab-df-convert');\n",
              "        buttonEl.style.display =\n",
              "          google.colab.kernel.accessAllowed ? 'block' : 'none';\n",
              "\n",
              "        async function convertToInteractive(key) {\n",
              "          const element = document.querySelector('#df-ae1da9d1-4fa0-4afc-a322-70c452af5f1d');\n",
              "          const dataTable =\n",
              "            await google.colab.kernel.invokeFunction('convertToInteractive',\n",
              "                                                     [key], {});\n",
              "          if (!dataTable) return;\n",
              "\n",
              "          const docLinkHtml = 'Like what you see? Visit the ' +\n",
              "            '<a target=\"_blank\" href=https://colab.research.google.com/notebooks/data_table.ipynb>data table notebook</a>'\n",
              "            + ' to learn more about interactive tables.';\n",
              "          element.innerHTML = '';\n",
              "          dataTable['output_type'] = 'display_data';\n",
              "          await google.colab.output.renderOutput(dataTable, element);\n",
              "          const docLink = document.createElement('div');\n",
              "          docLink.innerHTML = docLinkHtml;\n",
              "          element.appendChild(docLink);\n",
              "        }\n",
              "      </script>\n",
              "    </div>\n",
              "  </div>\n",
              "  "
            ]
          },
          "metadata": {},
          "execution_count": 6
        }
      ]
    },
    {
      "cell_type": "code",
      "source": [
        "fig, axs = plt.subplots()\n",
        "fig.set_size_inches(20,10)\n",
        "sns.heatmap(df.loc[:,['Price', 'Year', 'Kilometers']].corr(), square=True, annot=True)\n",
        "plt.title('Confusion Matrix', fontsize=15)"
      ],
      "metadata": {
        "id": "BQWvzXrHgnyz",
        "outputId": "ea3fe6fd-3d37-4997-d891-24b35ae65ded",
        "colab": {
          "base_uri": "https://localhost:8080/",
          "height": 872
        }
      },
      "execution_count": 7,
      "outputs": [
        {
          "output_type": "execute_result",
          "data": {
            "text/plain": [
              "Text(0.5, 1.0, 'Confusion Matrix')"
            ]
          },
          "metadata": {},
          "execution_count": 7
        },
        {
          "output_type": "display_data",
          "data": {
            "text/plain": [
              "<Figure size 2000x1000 with 2 Axes>"
            ],
            "image/png": "[encoded data removed]"
          },
          "metadata": {}
        }
      ]
    },
    {
      "cell_type": "markdown",
      "source": [
        "**Observations:** we can get some interesting insights here:\n",
        "\n",
        "\n",
        "1.   **Price x Year:** as expected, there's a positive correlation between Price and Year, which means that the newer the car is, the more expensive it tends to be. Although, this correlation is considered weak since it's lower than 0.5.\n",
        "2.   **Price x Kilometers:** one more expected correlation, although it's not as high as expected. The more kilometers run, the lower the price, however, this is another weak correlation, since it's lower than 0.5.\n",
        "3. **Kilometers x Year:** this negative correlation is the strongest among the others, and again, expected. The older the car, the more kilometers it has run.\n",
        "\n"
      ],
      "metadata": {
        "id": "PiQYl4X2hZIM"
      }
    },
    {
      "cell_type": "code",
      "source": [
        "# let's describe just the columns important to us, that is Price, Kilometers and Year\n",
        "\n",
        "df.loc[:,['Price', 'Year', 'Kilometers']].describe().applymap(lambda x: f\"{x:0.5f}\")"
      ],
      "metadata": {
        "colab": {
          "base_uri": "https://localhost:8080/",
          "height": 300
        },
        "id": "P-hxrBV-t3cz",
        "outputId": "4a401765-3c19-484d-fab3-38a147a59833"
      },
      "execution_count": 8,
      "outputs": [
        {
          "output_type": "execute_result",
          "data": {
            "text/plain": [
              "              Price         Year     Kilometers\n",
              "count   17048.00000  17048.00000    17048.00000\n",
              "mean    36777.77804   2015.48129   103231.40169\n",
              "std     30305.01533      4.72159    80413.13148\n",
              "min      1000.00000   1989.00000        1.00000\n",
              "25%     18800.00000   2013.00000    44502.25000\n",
              "50%     29990.00000   2016.00000    88454.00000\n",
              "75%     45990.00000   2019.00000   148873.50000\n",
              "max    999000.00000   2022.00000  2700000.00000"
            ],
            "text/html": [
              "\n",
              "  <div id=\"df-24d0085f-c01f-4aaa-bef9-1e2f5118d8dd\">\n",
              "    <div class=\"colab-df-container\">\n",
              "      <div>\n",
              "<style scoped>\n",
              "    .dataframe tbody tr th:only-of-type {\n",
              "        vertical-align: middle;\n",
              "    }\n",
              "\n",
              "    .dataframe tbody tr th {\n",
              "        vertical-align: top;\n",
              "    }\n",
              "\n",
              "    .dataframe thead th {\n",
              "        text-align: right;\n",
              "    }\n",
              "</style>\n",
              "<table border=\"1\" class=\"dataframe\">\n",
              "  <thead>\n",
              "    <tr style=\"text-align: right;\">\n",
              "      <th></th>\n",
              "      <th>Price</th>\n",
              "      <th>Year</th>\n",
              "      <th>Kilometers</th>\n",
              "    </tr>\n",
              "  </thead>\n",
              "  <tbody>\n",
              "    <tr>\n",
              "      <th>count</th>\n",
              "      <td>17048.00000</td>\n",
              "      <td>17048.00000</td>\n",
              "      <td>17048.00000</td>\n",
              "    </tr>\n",
              "    <tr>\n",
              "      <th>mean</th>\n",
              "      <td>36777.77804</td>\n",
              "      <td>2015.48129</td>\n",
              "      <td>103231.40169</td>\n",
              "    </tr>\n",
              "    <tr>\n",
              "      <th>std</th>\n",
              "      <td>30305.01533</td>\n",
              "      <td>4.72159</td>\n",
              "      <td>80413.13148</td>\n",
              "    </tr>\n",
              "    <tr>\n",
              "      <th>min</th>\n",
              "      <td>1000.00000</td>\n",
              "      <td>1989.00000</td>\n",
              "      <td>1.00000</td>\n",
              "    </tr>\n",
              "    <tr>\n",
              "      <th>25%</th>\n",
              "      <td>18800.00000</td>\n",
              "      <td>2013.00000</td>\n",
              "      <td>44502.25000</td>\n",
              "    </tr>\n",
              "    <tr>\n",
              "      <th>50%</th>\n",
              "      <td>29990.00000</td>\n",
              "      <td>2016.00000</td>\n",
              "      <td>88454.00000</td>\n",
              "    </tr>\n",
              "    <tr>\n",
              "      <th>75%</th>\n",
              "      <td>45990.00000</td>\n",
              "      <td>2019.00000</td>\n",
              "      <td>148873.50000</td>\n",
              "    </tr>\n",
              "    <tr>\n",
              "      <th>max</th>\n",
              "      <td>999000.00000</td>\n",
              "      <td>2022.00000</td>\n",
              "      <td>2700000.00000</td>\n",
              "    </tr>\n",
              "  </tbody>\n",
              "</table>\n",
              "</div>\n",
              "      <button class=\"colab-df-convert\" onclick=\"convertToInteractive('df-24d0085f-c01f-4aaa-bef9-1e2f5118d8dd')\"\n",
              "              title=\"Convert this dataframe to an interactive table.\"\n",
              "              style=\"display:none;\">\n",
              "        \n",
              "  <svg xmlns=\"http://www.w3.org/2000/svg\" height=\"24px\"viewBox=\"0 0 24 24\"\n",
              "       width=\"24px\">\n",
              "    <path d=\"M0 0h24v24H0V0z\" fill=\"none\"/>\n",
              "    <path d=\"M18.56 5.44l.94 2.06.94-2.06 2.06-.94-2.06-.94-.94-2.06-.94 2.06-2.06.94zm-11 1L8.5 8.5l.94-2.06 2.06-.94-2.06-.94L8.5 2.5l-.94 2.06-2.06.94zm10 10l.94 2.06.94-2.06 2.06-.94-2.06-.94-.94-2.06-.94 2.06-2.06.94z\"/><path d=\"M17.41 7.96l-1.37-1.37c-.4-.4-.92-.59-1.43-.59-.52 0-1.04.2-1.43.59L10.3 9.45l-7.72 7.72c-.78.78-.78 2.05 0 2.83L4 21.41c.39.39.9.59 1.41.59.51 0 1.02-.2 1.41-.59l7.78-7.78 2.81-2.81c.8-.78.8-2.07 0-2.86zM5.41 20L4 18.59l7.72-7.72 1.47 1.35L5.41 20z\"/>\n",
              "  </svg>\n",
              "      </button>\n",
              "      \n",
              "  <style>\n",
              "    .colab-df-container {\n",
              "      display:flex;\n",
              "      flex-wrap:wrap;\n",
              "      gap: 12px;\n",
              "    }\n",
              "\n",
              "    .colab-df-convert {\n",
              "      background-color: #E8F0FE;\n",
              "      border: none;\n",
              "      border-radius: 50%;\n",
              "      cursor: pointer;\n",
              "      display: none;\n",
              "      fill: #1967D2;\n",
              "      height: 32px;\n",
              "      padding: 0 0 0 0;\n",
              "      width: 32px;\n",
              "    }\n",
              "\n",
              "    .colab-df-convert:hover {\n",
              "      background-color: #E2EBFA;\n",
              "      box-shadow: 0px 1px 2px rgba(60, 64, 67, 0.3), 0px 1px 3px 1px rgba(60, 64, 67, 0.15);\n",
              "      fill: #174EA6;\n",
              "    }\n",
              "\n",
              "    [theme=dark] .colab-df-convert {\n",
              "      background-color: #3B4455;\n",
              "      fill: #D2E3FC;\n",
              "    }\n",
              "\n",
              "    [theme=dark] .colab-df-convert:hover {\n",
              "      background-color: #434B5C;\n",
              "      box-shadow: 0px 1px 3px 1px rgba(0, 0, 0, 0.15);\n",
              "      filter: drop-shadow(0px 1px 2px rgba(0, 0, 0, 0.3));\n",
              "      fill: #FFFFFF;\n",
              "    }\n",
              "  </style>\n",
              "\n",
              "      <script>\n",
              "        const buttonEl =\n",
              "          document.querySelector('#df-24d0085f-c01f-4aaa-bef9-1e2f5118d8dd button.colab-df-convert');\n",
              "        buttonEl.style.display =\n",
              "          google.colab.kernel.accessAllowed ? 'block' : 'none';\n",
              "\n",
              "        async function convertToInteractive(key) {\n",
              "          const element = document.querySelector('#df-24d0085f-c01f-4aaa-bef9-1e2f5118d8dd');\n",
              "          const dataTable =\n",
              "            await google.colab.kernel.invokeFunction('convertToInteractive',\n",
              "                                                     [key], {});\n",
              "          if (!dataTable) return;\n",
              "\n",
              "          const docLinkHtml = 'Like what you see? Visit the ' +\n",
              "            '<a target=\"_blank\" href=https://colab.research.google.com/notebooks/data_table.ipynb>data table notebook</a>'\n",
              "            + ' to learn more about interactive tables.';\n",
              "          element.innerHTML = '';\n",
              "          dataTable['output_type'] = 'display_data';\n",
              "          await google.colab.output.renderOutput(dataTable, element);\n",
              "          const docLink = document.createElement('div');\n",
              "          docLink.innerHTML = docLinkHtml;\n",
              "          element.appendChild(docLink);\n",
              "        }\n",
              "      </script>\n",
              "    </div>\n",
              "  </div>\n",
              "  "
            ]
          },
          "metadata": {},
          "execution_count": 8
        }
      ]
    },
    {
      "cell_type": "markdown",
      "source": [
        "We can see that the Standard Deviation in Price and Kilometers are very high, which can indicate that we may have outliers in this dataset that may affect our analysis.\n",
        "\n",
        "In order to check out, we're going to take a closer look at the:\n",
        "\n",
        "1. Median: if the mean is distant from the median, we can have a better understanding of the dataset. If the mean is higher, it means that the top values a more distant from the centre of the distribution. If the mean is lower than the median, it means that the bottom values are more distant than the top values\n",
        "2. Coefficient of Variation: to analyze the degree of dispersion of a data set"
      ],
      "metadata": {
        "id": "NtxtY-Ra0Bhj"
      }
    },
    {
      "cell_type": "code",
      "source": [
        "# median\n",
        "\n",
        "df.loc[:,['Price', 'Year', 'Kilometers']].median()"
      ],
      "metadata": {
        "colab": {
          "base_uri": "https://localhost:8080/"
        },
        "id": "qF88cj4az_Yv",
        "outputId": "8873f7ae-7a8b-47dc-8e35-d6ab3666e261"
      },
      "execution_count": 9,
      "outputs": [
        {
          "output_type": "execute_result",
          "data": {
            "text/plain": [
              "Price         29990.0\n",
              "Year           2016.0\n",
              "Kilometers    88454.0\n",
              "dtype: float64"
            ]
          },
          "metadata": {},
          "execution_count": 9
        }
      ]
    },
    {
      "cell_type": "code",
      "source": [
        "# Coefficient of Variation\n",
        "\n",
        "variation(df.loc[:,['Price', 'Year', 'Kilometers']])"
      ],
      "metadata": {
        "colab": {
          "base_uri": "https://localhost:8080/"
        },
        "id": "OKkvDgv5xpXc",
        "outputId": "1b5b38b6-43d4-4e23-8bbe-f7550bcec463"
      },
      "execution_count": 10,
      "outputs": [
        {
          "output_type": "execute_result",
          "data": {
            "text/plain": [
              "array([0.82397926, 0.00234259, 0.77893714])"
            ]
          },
          "metadata": {},
          "execution_count": 10
        }
      ]
    },
    {
      "cell_type": "markdown",
      "source": [
        "We can see that the mean is greater than the median, which means that we have numbers at the top of the dataset pulling the mean higher, causing anomalies in the results and getting in the way of the analysis.\n",
        "\n",
        "In addition, the coefficient of variation is extremely high, reinforcing what was shown in the comparison between the mean and median, which means that we have a high variability in the data.\n",
        "\n",
        "Let's see the data in a boxplot to better visualise it."
      ],
      "metadata": {
        "id": "TL0YiFrh3oXZ"
      }
    },
    {
      "cell_type": "code",
      "source": [
        "red_circle = dict(markerfacecolor='red', marker='o', markeredgecolor='white')\n",
        "\n",
        "fix, axs = plt.subplots(1,2, figsize=(20,10))\n",
        "\n",
        "for i, ax in enumerate(axs.flat):\n",
        "  ax.boxplot(df.loc[:,['Price', 'Kilometers']].iloc[:,i], flierprops=red_circle)\n",
        "  ax.set_title(df.loc[:,['Price', 'Kilometers']].columns[i], fontsize=20, fontweight='bold')\n",
        "  ax.tick_params(axis='y', labelsize=14)\n",
        "\n",
        "plt.tight_layout()"
      ],
      "metadata": {
        "colab": {
          "base_uri": "https://localhost:8080/",
          "height": 720
        },
        "id": "pcHfgeOI53Od",
        "outputId": "9cc6362a-6a0e-44ba-f95a-114faf502133"
      },
      "execution_count": 11,
      "outputs": [
        {
          "output_type": "display_data",
          "data": {
            "text/plain": [
              "<Figure size 2000x1000 with 2 Axes>"
            ],
            "image/png": "[encoded data removed]"
          },
          "metadata": {}
        }
      ]
    },
    {
      "cell_type": "markdown",
      "source": [
        "Taking into account that the scale is in a million, we have cars with a price of almost a million and cars that have run more than 2 million kilometres. \n",
        "\n",
        "Would this be really true? 2 million kilometres seems a lot for a car to run.\n",
        "\n",
        "We will check it after and see if it seems really right. If it's not, we will take it off and filter properly the dataset.\n",
        "\n",
        "First, since we are looking for the used cars, we will filter them and analyse them separated."
      ],
      "metadata": {
        "id": "77_698ohLiM8"
      }
    },
    {
      "cell_type": "markdown",
      "source": [
        "## 2. Used cars\n",
        "\n",
        "As I am looking for the used cars, let's create another dataframe just with the used cars to see if we have differences in the analysis done before."
      ],
      "metadata": {
        "id": "fkiQuHhwm-fO"
      }
    },
    {
      "cell_type": "code",
      "source": [
        "UsedCars = df.copy()\n",
        "\n",
        "UsedCars = UsedCars[UsedCars['Status'] == 'Used']\n",
        "\n",
        "UsedCars"
      ],
      "metadata": {
        "id": "joWB0Hl9m9-H",
        "outputId": "69d8e15b-7832-4dac-d499-14f17f09c16d",
        "colab": {
          "base_uri": "https://localhost:8080/",
          "height": 49
        }
      },
      "execution_count": 12,
      "outputs": [
        {
          "output_type": "execute_result",
          "data": {
            "text/plain": [
              "Empty DataFrame\n",
              "Columns: [ID, Name, Price, Brand, Model, Variant, Series, Year, Kilometers, Type, Gearbox, Fuel, Status, CC, Color, Seating Capacity]\n",
              "Index: []"
            ],
            "text/html": [
              "\n",
              "  <div id=\"df-f3a223da-bb27-45e4-a1f3-3eb5f8436d4a\">\n",
              "    <div class=\"colab-df-container\">\n",
              "      <div>\n",
              "<style scoped>\n",
              "    .dataframe tbody tr th:only-of-type {\n",
              "        vertical-align: middle;\n",
              "    }\n",
              "\n",
              "    .dataframe tbody tr th {\n",
              "        vertical-align: top;\n",
              "    }\n",
              "\n",
              "    .dataframe thead th {\n",
              "        text-align: right;\n",
              "    }\n",
              "</style>\n",
              "<table border=\"1\" class=\"dataframe\">\n",
              "  <thead>\n",
              "    <tr style=\"text-align: right;\">\n",
              "      <th></th>\n",
              "      <th>ID</th>\n",
              "      <th>Name</th>\n",
              "      <th>Price</th>\n",
              "      <th>Brand</th>\n",
              "      <th>Model</th>\n",
              "      <th>Variant</th>\n",
              "      <th>Series</th>\n",
              "      <th>Year</th>\n",
              "      <th>Kilometers</th>\n",
              "      <th>Type</th>\n",
              "      <th>Gearbox</th>\n",
              "      <th>Fuel</th>\n",
              "      <th>Status</th>\n",
              "      <th>CC</th>\n",
              "      <th>Color</th>\n",
              "      <th>Seating Capacity</th>\n",
              "    </tr>\n",
              "  </thead>\n",
              "  <tbody>\n",
              "  </tbody>\n",
              "</table>\n",
              "</div>\n",
              "      <button class=\"colab-df-convert\" onclick=\"convertToInteractive('df-f3a223da-bb27-45e4-a1f3-3eb5f8436d4a')\"\n",
              "              title=\"Convert this dataframe to an interactive table.\"\n",
              "              style=\"display:none;\">\n",
              "        \n",
              "  <svg xmlns=\"http://www.w3.org/2000/svg\" height=\"24px\"viewBox=\"0 0 24 24\"\n",
              "       width=\"24px\">\n",
              "    <path d=\"M0 0h24v24H0V0z\" fill=\"none\"/>\n",
              "    <path d=\"M18.56 5.44l.94 2.06.94-2.06 2.06-.94-2.06-.94-.94-2.06-.94 2.06-2.06.94zm-11 1L8.5 8.5l.94-2.06 2.06-.94-2.06-.94L8.5 2.5l-.94 2.06-2.06.94zm10 10l.94 2.06.94-2.06 2.06-.94-2.06-.94-.94-2.06-.94 2.06-2.06.94z\"/><path d=\"M17.41 7.96l-1.37-1.37c-.4-.4-.92-.59-1.43-.59-.52 0-1.04.2-1.43.59L10.3 9.45l-7.72 7.72c-.78.78-.78 2.05 0 2.83L4 21.41c.39.39.9.59 1.41.59.51 0 1.02-.2 1.41-.59l7.78-7.78 2.81-2.81c.8-.78.8-2.07 0-2.86zM5.41 20L4 18.59l7.72-7.72 1.47 1.35L5.41 20z\"/>\n",
              "  </svg>\n",
              "      </button>\n",
              "      \n",
              "  <style>\n",
              "    .colab-df-container {\n",
              "      display:flex;\n",
              "      flex-wrap:wrap;\n",
              "      gap: 12px;\n",
              "    }\n",
              "\n",
              "    .colab-df-convert {\n",
              "      background-color: #E8F0FE;\n",
              "      border: none;\n",
              "      border-radius: 50%;\n",
              "      cursor: pointer;\n",
              "      display: none;\n",
              "      fill: #1967D2;\n",
              "      height: 32px;\n",
              "      padding: 0 0 0 0;\n",
              "      width: 32px;\n",
              "    }\n",
              "\n",
              "    .colab-df-convert:hover {\n",
              "      background-color: #E2EBFA;\n",
              "      box-shadow: 0px 1px 2px rgba(60, 64, 67, 0.3), 0px 1px 3px 1px rgba(60, 64, 67, 0.15);\n",
              "      fill: #174EA6;\n",
              "    }\n",
              "\n",
              "    [theme=dark] .colab-df-convert {\n",
              "      background-color: #3B4455;\n",
              "      fill: #D2E3FC;\n",
              "    }\n",
              "\n",
              "    [theme=dark] .colab-df-convert:hover {\n",
              "      background-color: #434B5C;\n",
              "      box-shadow: 0px 1px 3px 1px rgba(0, 0, 0, 0.15);\n",
              "      filter: drop-shadow(0px 1px 2px rgba(0, 0, 0, 0.3));\n",
              "      fill: #FFFFFF;\n",
              "    }\n",
              "  </style>\n",
              "\n",
              "      <script>\n",
              "        const buttonEl =\n",
              "          document.querySelector('#df-f3a223da-bb27-45e4-a1f3-3eb5f8436d4a button.colab-df-convert');\n",
              "        buttonEl.style.display =\n",
              "          google.colab.kernel.accessAllowed ? 'block' : 'none';\n",
              "\n",
              "        async function convertToInteractive(key) {\n",
              "          const element = document.querySelector('#df-f3a223da-bb27-45e4-a1f3-3eb5f8436d4a');\n",
              "          const dataTable =\n",
              "            await google.colab.kernel.invokeFunction('convertToInteractive',\n",
              "                                                     [key], {});\n",
              "          if (!dataTable) return;\n",
              "\n",
              "          const docLinkHtml = 'Like what you see? Visit the ' +\n",
              "            '<a target=\"_blank\" href=https://colab.research.google.com/notebooks/data_table.ipynb>data table notebook</a>'\n",
              "            + ' to learn more about interactive tables.';\n",
              "          element.innerHTML = '';\n",
              "          dataTable['output_type'] = 'display_data';\n",
              "          await google.colab.output.renderOutput(dataTable, element);\n",
              "          const docLink = document.createElement('div');\n",
              "          docLink.innerHTML = docLinkHtml;\n",
              "          element.appendChild(docLink);\n",
              "        }\n",
              "      </script>\n",
              "    </div>\n",
              "  </div>\n",
              "  "
            ]
          },
          "metadata": {},
          "execution_count": 12
        }
      ]
    },
    {
      "cell_type": "markdown",
      "source": [
        "For some reason, it didn't work. Let's investigate to see what can be the problem."
      ],
      "metadata": {
        "id": "FDq-Vi13o3Q-"
      }
    },
    {
      "cell_type": "code",
      "source": [
        "UsedCars = df.copy()\n",
        "\n",
        "UsedCars.Status[0]"
      ],
      "metadata": {
        "id": "dlgpqjmapDhd",
        "outputId": "0c554b3a-a5ae-4fd8-ef23-7a5d0554d426",
        "colab": {
          "base_uri": "https://localhost:8080/",
          "height": 36
        }
      },
      "execution_count": 13,
      "outputs": [
        {
          "output_type": "execute_result",
          "data": {
            "text/plain": [
              "' Used'"
            ],
            "application/vnd.google.colaboratory.intrinsic+json": {
              "type": "string"
            }
          },
          "metadata": {},
          "execution_count": 13
        }
      ]
    },
    {
      "cell_type": "markdown",
      "source": [
        "Now we can see what is the problem, there's a space before the word \"Used\", so it's not filtering properly.\n",
        "\n",
        "We will have to strip all the existing spaces to ensure the filter works correctly."
      ],
      "metadata": {
        "id": "PnueLoVWpK0l"
      }
    },
    {
      "cell_type": "code",
      "source": [
        "UsedCars = df.copy()\n",
        "\n",
        "UsedCars.Status = UsedCars.Status.str.strip()\n",
        "\n",
        "UsedCars.Status[0]"
      ],
      "metadata": {
        "execution": {
          "iopub.status.busy": "2023-05-20T14:33:52.736497Z",
          "iopub.execute_input": "2023-05-20T14:33:52.736964Z",
          "iopub.status.idle": "2023-05-20T14:33:52.758562Z",
          "shell.execute_reply.started": "2023-05-20T14:33:52.736927Z",
          "shell.execute_reply": "2023-05-20T14:33:52.757590Z"
        },
        "trusted": true,
        "id": "eKi_ig4ih8GE",
        "outputId": "2cb66105-1018-48a0-8273-650508e72bf7",
        "colab": {
          "base_uri": "https://localhost:8080/",
          "height": 36
        }
      },
      "execution_count": 14,
      "outputs": [
        {
          "output_type": "execute_result",
          "data": {
            "text/plain": [
              "'Used'"
            ],
            "application/vnd.google.colaboratory.intrinsic+json": {
              "type": "string"
            }
          },
          "metadata": {},
          "execution_count": 14
        }
      ]
    },
    {
      "cell_type": "markdown",
      "source": [
        "Now we can begin our analysis:"
      ],
      "metadata": {
        "id": "mwM_sffru5lo"
      }
    },
    {
      "cell_type": "code",
      "source": [
        "UsedCars = UsedCars[UsedCars['Status'] == 'Used']\n",
        "\n",
        "UsedCars"
      ],
      "metadata": {
        "id": "0OTt8JdtvB0P",
        "outputId": "220ca3b1-cc45-4e43-b4eb-11c6d226b6ab",
        "colab": {
          "base_uri": "https://localhost:8080/",
          "height": 658
        }
      },
      "execution_count": 15,
      "outputs": [
        {
          "output_type": "execute_result",
          "data": {
            "text/plain": [
              "             ID                                        Name  Price  \\\n",
              "0      11530130           2010 Toyota Rukus Build 2 AZE151R   9999   \n",
              "3      12346971  2010 Mercedes-Benz E250 CDI Avantgarde 207  34990   \n",
              "4      12363884                2016 Holden Cruze CD JH MY16  15990   \n",
              "5      12366036   2017 Nissan X-Trail ST (4WD) T32 Series 2  26800   \n",
              "6      12370057         2016 Ford Territory TX (rwd) SZ MK2  23990   \n",
              "...         ...                                         ...    ...   \n",
              "17043  12852453          2003 Holden Commodore Executive VY   4499   \n",
              "17044  12852460                 2008 Toyota Yaris YR NCP90R   4999   \n",
              "17045  12852462        2002 Holden Jackaroo SE LWB (4X4) U8   7999   \n",
              "17046  12852463        2016 Hyundai I30 Active GD4 Series 2  14000   \n",
              "17047  12852464       2005 Toyota RAV4 Cruiser (4X4) ACA23R   5999   \n",
              "\n",
              "               Brand      Model         Variant        Series  Year  \\\n",
              "0             Toyota      Rukus         Build 2       AZE151R  2010   \n",
              "3      Mercedes-Benz       E250  CDI Avantgarde           207  2010   \n",
              "4             Holden      Cruze              CD       JH MY16  2016   \n",
              "5             Nissan    X-Trail        ST (4WD)  T32 Series 2  2017   \n",
              "6               Ford  Territory        TX (rwd)        SZ MK2  2016   \n",
              "...              ...        ...             ...           ...   ...   \n",
              "17043         Holden  Commodore       Executive            VY  2003   \n",
              "17044         Toyota      Yaris              YR        NCP90R  2008   \n",
              "17045         Holden   Jackaroo    SE LWB (4X4)            U8  2002   \n",
              "17046        Hyundai        I30          Active  GD4 Series 2  2016   \n",
              "17047         Toyota       RAV4   Cruiser (4X4)        ACA23R  2005   \n",
              "\n",
              "       Kilometers         Type    Gearbox             Fuel Status    CC  \\\n",
              "0          263000        Wagon  Automatic  Unleaded Petrol   Used  2362   \n",
              "3          120579    Cabriolet  Automatic           Diesel   Used  2143   \n",
              "4           72506  Sportswagon  Automatic  Unleaded Petrol   Used  1796   \n",
              "5          121870        Wagon  Automatic  Unleaded Petrol   Used  2488   \n",
              "6          154136        Wagon  Automatic           Diesel   Used  2720   \n",
              "...           ...          ...        ...              ...    ...   ...   \n",
              "17043      230441        Sedan  Automatic  Unleaded Petrol   Used  3791   \n",
              "17044      237113    Hatchback     Manual  Unleaded Petrol   Used  1299   \n",
              "17045      238768        Wagon  Automatic           Diesel   Used  2999   \n",
              "17046       49800    Hatchback     Manual  Unleaded Petrol   Used  1797   \n",
              "17047      255809        Wagon     Manual  Unleaded Petrol   Used  2362   \n",
              "\n",
              "        Color  Seating Capacity  \n",
              "0        Grey                 5  \n",
              "3       Black                 4  \n",
              "4       White                 5  \n",
              "5       White                 5  \n",
              "6       White                 5  \n",
              "...       ...               ...  \n",
              "17043    Gold                 5  \n",
              "17044  Yellow                 5  \n",
              "17045    Gold                 7  \n",
              "17046    Blue                 5  \n",
              "17047    Grey                 5  \n",
              "\n",
              "[16304 rows x 16 columns]"
            ],
            "text/html": [
              "\n",
              "  <div id=\"df-d5ce303d-5141-4496-bafd-10cb861805a2\">\n",
              "    <div class=\"colab-df-container\">\n",
              "      <div>\n",
              "<style scoped>\n",
              "    .dataframe tbody tr th:only-of-type {\n",
              "        vertical-align: middle;\n",
              "    }\n",
              "\n",
              "    .dataframe tbody tr th {\n",
              "        vertical-align: top;\n",
              "    }\n",
              "\n",
              "    .dataframe thead th {\n",
              "        text-align: right;\n",
              "    }\n",
              "</style>\n",
              "<table border=\"1\" class=\"dataframe\">\n",
              "  <thead>\n",
              "    <tr style=\"text-align: right;\">\n",
              "      <th></th>\n",
              "      <th>ID</th>\n",
              "      <th>Name</th>\n",
              "      <th>Price</th>\n",
              "      <th>Brand</th>\n",
              "      <th>Model</th>\n",
              "      <th>Variant</th>\n",
              "      <th>Series</th>\n",
              "      <th>Year</th>\n",
              "      <th>Kilometers</th>\n",
              "      <th>Type</th>\n",
              "      <th>Gearbox</th>\n",
              "      <th>Fuel</th>\n",
              "      <th>Status</th>\n",
              "      <th>CC</th>\n",
              "      <th>Color</th>\n",
              "      <th>Seating Capacity</th>\n",
              "    </tr>\n",
              "  </thead>\n",
              "  <tbody>\n",
              "    <tr>\n",
              "      <th>0</th>\n",
              "      <td>11530130</td>\n",
              "      <td>2010 Toyota Rukus Build 2 AZE151R</td>\n",
              "      <td>9999</td>\n",
              "      <td>Toyota</td>\n",
              "      <td>Rukus</td>\n",
              "      <td>Build 2</td>\n",
              "      <td>AZE151R</td>\n",
              "      <td>2010</td>\n",
              "      <td>263000</td>\n",
              "      <td>Wagon</td>\n",
              "      <td>Automatic</td>\n",
              "      <td>Unleaded Petrol</td>\n",
              "      <td>Used</td>\n",
              "      <td>2362</td>\n",
              "      <td>Grey</td>\n",
              "      <td>5</td>\n",
              "    </tr>\n",
              "    <tr>\n",
              "      <th>3</th>\n",
              "      <td>12346971</td>\n",
              "      <td>2010 Mercedes-Benz E250 CDI Avantgarde 207</td>\n",
              "      <td>34990</td>\n",
              "      <td>Mercedes-Benz</td>\n",
              "      <td>E250</td>\n",
              "      <td>CDI Avantgarde</td>\n",
              "      <td>207</td>\n",
              "      <td>2010</td>\n",
              "      <td>120579</td>\n",
              "      <td>Cabriolet</td>\n",
              "      <td>Automatic</td>\n",
              "      <td>Diesel</td>\n",
              "      <td>Used</td>\n",
              "      <td>2143</td>\n",
              "      <td>Black</td>\n",
              "      <td>4</td>\n",
              "    </tr>\n",
              "    <tr>\n",
              "      <th>4</th>\n",
              "      <td>12363884</td>\n",
              "      <td>2016 Holden Cruze CD JH MY16</td>\n",
              "      <td>15990</td>\n",
              "      <td>Holden</td>\n",
              "      <td>Cruze</td>\n",
              "      <td>CD</td>\n",
              "      <td>JH MY16</td>\n",
              "      <td>2016</td>\n",
              "      <td>72506</td>\n",
              "      <td>Sportswagon</td>\n",
              "      <td>Automatic</td>\n",
              "      <td>Unleaded Petrol</td>\n",
              "      <td>Used</td>\n",
              "      <td>1796</td>\n",
              "      <td>White</td>\n",
              "      <td>5</td>\n",
              "    </tr>\n",
              "    <tr>\n",
              "      <th>5</th>\n",
              "      <td>12366036</td>\n",
              "      <td>2017 Nissan X-Trail ST (4WD) T32 Series 2</td>\n",
              "      <td>26800</td>\n",
              "      <td>Nissan</td>\n",
              "      <td>X-Trail</td>\n",
              "      <td>ST (4WD)</td>\n",
              "      <td>T32 Series 2</td>\n",
              "      <td>2017</td>\n",
              "      <td>121870</td>\n",
              "      <td>Wagon</td>\n",
              "      <td>Automatic</td>\n",
              "      <td>Unleaded Petrol</td>\n",
              "      <td>Used</td>\n",
              "      <td>2488</td>\n",
              "      <td>White</td>\n",
              "      <td>5</td>\n",
              "    </tr>\n",
              "    <tr>\n",
              "      <th>6</th>\n",
              "      <td>12370057</td>\n",
              "      <td>2016 Ford Territory TX (rwd) SZ MK2</td>\n",
              "      <td>23990</td>\n",
              "      <td>Ford</td>\n",
              "      <td>Territory</td>\n",
              "      <td>TX (rwd)</td>\n",
              "      <td>SZ MK2</td>\n",
              "      <td>2016</td>\n",
              "      <td>154136</td>\n",
              "      <td>Wagon</td>\n",
              "      <td>Automatic</td>\n",
              "      <td>Diesel</td>\n",
              "      <td>Used</td>\n",
              "      <td>2720</td>\n",
              "      <td>White</td>\n",
              "      <td>5</td>\n",
              "    </tr>\n",
              "    <tr>\n",
              "      <th>...</th>\n",
              "      <td>...</td>\n",
              "      <td>...</td>\n",
              "      <td>...</td>\n",
              "      <td>...</td>\n",
              "      <td>...</td>\n",
              "      <td>...</td>\n",
              "      <td>...</td>\n",
              "      <td>...</td>\n",
              "      <td>...</td>\n",
              "      <td>...</td>\n",
              "      <td>...</td>\n",
              "      <td>...</td>\n",
              "      <td>...</td>\n",
              "      <td>...</td>\n",
              "      <td>...</td>\n",
              "      <td>...</td>\n",
              "    </tr>\n",
              "    <tr>\n",
              "      <th>17043</th>\n",
              "      <td>12852453</td>\n",
              "      <td>2003 Holden Commodore Executive VY</td>\n",
              "      <td>4499</td>\n",
              "      <td>Holden</td>\n",
              "      <td>Commodore</td>\n",
              "      <td>Executive</td>\n",
              "      <td>VY</td>\n",
              "      <td>2003</td>\n",
              "      <td>230441</td>\n",
              "      <td>Sedan</td>\n",
              "      <td>Automatic</td>\n",
              "      <td>Unleaded Petrol</td>\n",
              "      <td>Used</td>\n",
              "      <td>3791</td>\n",
              "      <td>Gold</td>\n",
              "      <td>5</td>\n",
              "    </tr>\n",
              "    <tr>\n",
              "      <th>17044</th>\n",
              "      <td>12852460</td>\n",
              "      <td>2008 Toyota Yaris YR NCP90R</td>\n",
              "      <td>4999</td>\n",
              "      <td>Toyota</td>\n",
              "      <td>Yaris</td>\n",
              "      <td>YR</td>\n",
              "      <td>NCP90R</td>\n",
              "      <td>2008</td>\n",
              "      <td>237113</td>\n",
              "      <td>Hatchback</td>\n",
              "      <td>Manual</td>\n",
              "      <td>Unleaded Petrol</td>\n",
              "      <td>Used</td>\n",
              "      <td>1299</td>\n",
              "      <td>Yellow</td>\n",
              "      <td>5</td>\n",
              "    </tr>\n",
              "    <tr>\n",
              "      <th>17045</th>\n",
              "      <td>12852462</td>\n",
              "      <td>2002 Holden Jackaroo SE LWB (4X4) U8</td>\n",
              "      <td>7999</td>\n",
              "      <td>Holden</td>\n",
              "      <td>Jackaroo</td>\n",
              "      <td>SE LWB (4X4)</td>\n",
              "      <td>U8</td>\n",
              "      <td>2002</td>\n",
              "      <td>238768</td>\n",
              "      <td>Wagon</td>\n",
              "      <td>Automatic</td>\n",
              "      <td>Diesel</td>\n",
              "      <td>Used</td>\n",
              "      <td>2999</td>\n",
              "      <td>Gold</td>\n",
              "      <td>7</td>\n",
              "    </tr>\n",
              "    <tr>\n",
              "      <th>17046</th>\n",
              "      <td>12852463</td>\n",
              "      <td>2016 Hyundai I30 Active GD4 Series 2</td>\n",
              "      <td>14000</td>\n",
              "      <td>Hyundai</td>\n",
              "      <td>I30</td>\n",
              "      <td>Active</td>\n",
              "      <td>GD4 Series 2</td>\n",
              "      <td>2016</td>\n",
              "      <td>49800</td>\n",
              "      <td>Hatchback</td>\n",
              "      <td>Manual</td>\n",
              "      <td>Unleaded Petrol</td>\n",
              "      <td>Used</td>\n",
              "      <td>1797</td>\n",
              "      <td>Blue</td>\n",
              "      <td>5</td>\n",
              "    </tr>\n",
              "    <tr>\n",
              "      <th>17047</th>\n",
              "      <td>12852464</td>\n",
              "      <td>2005 Toyota RAV4 Cruiser (4X4) ACA23R</td>\n",
              "      <td>5999</td>\n",
              "      <td>Toyota</td>\n",
              "      <td>RAV4</td>\n",
              "      <td>Cruiser (4X4)</td>\n",
              "      <td>ACA23R</td>\n",
              "      <td>2005</td>\n",
              "      <td>255809</td>\n",
              "      <td>Wagon</td>\n",
              "      <td>Manual</td>\n",
              "      <td>Unleaded Petrol</td>\n",
              "      <td>Used</td>\n",
              "      <td>2362</td>\n",
              "      <td>Grey</td>\n",
              "      <td>5</td>\n",
              "    </tr>\n",
              "  </tbody>\n",
              "</table>\n",
              "<p>16304 rows × 16 columns</p>\n",
              "</div>\n",
              "      <button class=\"colab-df-convert\" onclick=\"convertToInteractive('df-d5ce303d-5141-4496-bafd-10cb861805a2')\"\n",
              "              title=\"Convert this dataframe to an interactive table.\"\n",
              "              style=\"display:none;\">\n",
              "        \n",
              "  <svg xmlns=\"http://www.w3.org/2000/svg\" height=\"24px\"viewBox=\"0 0 24 24\"\n",
              "       width=\"24px\">\n",
              "    <path d=\"M0 0h24v24H0V0z\" fill=\"none\"/>\n",
              "    <path d=\"M18.56 5.44l.94 2.06.94-2.06 2.06-.94-2.06-.94-.94-2.06-.94 2.06-2.06.94zm-11 1L8.5 8.5l.94-2.06 2.06-.94-2.06-.94L8.5 2.5l-.94 2.06-2.06.94zm10 10l.94 2.06.94-2.06 2.06-.94-2.06-.94-.94-2.06-.94 2.06-2.06.94z\"/><path d=\"M17.41 7.96l-1.37-1.37c-.4-.4-.92-.59-1.43-.59-.52 0-1.04.2-1.43.59L10.3 9.45l-7.72 7.72c-.78.78-.78 2.05 0 2.83L4 21.41c.39.39.9.59 1.41.59.51 0 1.02-.2 1.41-.59l7.78-7.78 2.81-2.81c.8-.78.8-2.07 0-2.86zM5.41 20L4 18.59l7.72-7.72 1.47 1.35L5.41 20z\"/>\n",
              "  </svg>\n",
              "      </button>\n",
              "      \n",
              "  <style>\n",
              "    .colab-df-container {\n",
              "      display:flex;\n",
              "      flex-wrap:wrap;\n",
              "      gap: 12px;\n",
              "    }\n",
              "\n",
              "    .colab-df-convert {\n",
              "      background-color: #E8F0FE;\n",
              "      border: none;\n",
              "      border-radius: 50%;\n",
              "      cursor: pointer;\n",
              "      display: none;\n",
              "      fill: #1967D2;\n",
              "      height: 32px;\n",
              "      padding: 0 0 0 0;\n",
              "      width: 32px;\n",
              "    }\n",
              "\n",
              "    .colab-df-convert:hover {\n",
              "      background-color: #E2EBFA;\n",
              "      box-shadow: 0px 1px 2px rgba(60, 64, 67, 0.3), 0px 1px 3px 1px rgba(60, 64, 67, 0.15);\n",
              "      fill: #174EA6;\n",
              "    }\n",
              "\n",
              "    [theme=dark] .colab-df-convert {\n",
              "      background-color: #3B4455;\n",
              "      fill: #D2E3FC;\n",
              "    }\n",
              "\n",
              "    [theme=dark] .colab-df-convert:hover {\n",
              "      background-color: #434B5C;\n",
              "      box-shadow: 0px 1px 3px 1px rgba(0, 0, 0, 0.15);\n",
              "      filter: drop-shadow(0px 1px 2px rgba(0, 0, 0, 0.3));\n",
              "      fill: #FFFFFF;\n",
              "    }\n",
              "  </style>\n",
              "\n",
              "      <script>\n",
              "        const buttonEl =\n",
              "          document.querySelector('#df-d5ce303d-5141-4496-bafd-10cb861805a2 button.colab-df-convert');\n",
              "        buttonEl.style.display =\n",
              "          google.colab.kernel.accessAllowed ? 'block' : 'none';\n",
              "\n",
              "        async function convertToInteractive(key) {\n",
              "          const element = document.querySelector('#df-d5ce303d-5141-4496-bafd-10cb861805a2');\n",
              "          const dataTable =\n",
              "            await google.colab.kernel.invokeFunction('convertToInteractive',\n",
              "                                                     [key], {});\n",
              "          if (!dataTable) return;\n",
              "\n",
              "          const docLinkHtml = 'Like what you see? Visit the ' +\n",
              "            '<a target=\"_blank\" href=https://colab.research.google.com/notebooks/data_table.ipynb>data table notebook</a>'\n",
              "            + ' to learn more about interactive tables.';\n",
              "          element.innerHTML = '';\n",
              "          dataTable['output_type'] = 'display_data';\n",
              "          await google.colab.output.renderOutput(dataTable, element);\n",
              "          const docLink = document.createElement('div');\n",
              "          docLink.innerHTML = docLinkHtml;\n",
              "          element.appendChild(docLink);\n",
              "        }\n",
              "      </script>\n",
              "    </div>\n",
              "  </div>\n",
              "  "
            ]
          },
          "metadata": {},
          "execution_count": 15
        }
      ]
    },
    {
      "cell_type": "code",
      "source": [
        "UsedCars.info()"
      ],
      "metadata": {
        "id": "dCpPw9dBvVp7",
        "outputId": "54f42ec5-5c58-43ae-a697-0dc751dc6d85",
        "colab": {
          "base_uri": "https://localhost:8080/"
        }
      },
      "execution_count": 16,
      "outputs": [
        {
          "output_type": "stream",
          "name": "stdout",
          "text": [
            "<class 'pandas.core.frame.DataFrame'>\n",
            "Int64Index: 16304 entries, 0 to 17047\n",
            "Data columns (total 16 columns):\n",
            " #   Column            Non-Null Count  Dtype \n",
            "---  ------            --------------  ----- \n",
            " 0   ID                16304 non-null  int64 \n",
            " 1   Name              16304 non-null  object\n",
            " 2   Price             16304 non-null  int64 \n",
            " 3   Brand             16304 non-null  object\n",
            " 4   Model             16304 non-null  object\n",
            " 5   Variant           16304 non-null  object\n",
            " 6   Series            16304 non-null  object\n",
            " 7   Year              16304 non-null  int64 \n",
            " 8   Kilometers        16304 non-null  int64 \n",
            " 9   Type              16304 non-null  object\n",
            " 10  Gearbox           16304 non-null  object\n",
            " 11  Fuel              16304 non-null  object\n",
            " 12  Status            16304 non-null  object\n",
            " 13  CC                16304 non-null  int64 \n",
            " 14  Color             16304 non-null  object\n",
            " 15  Seating Capacity  16304 non-null  int64 \n",
            "dtypes: int64(6), object(10)\n",
            "memory usage: 2.1+ MB\n"
          ]
        }
      ]
    },
    {
      "cell_type": "code",
      "source": [
        "UsedCars.loc[:,['Price', 'Year', 'Kilometers']].describe().applymap(lambda x: f\"{x:0.5f}\")"
      ],
      "metadata": {
        "id": "elh5cElfvaxg",
        "outputId": "af1e02b5-0f46-4cc2-f750-7d254e838499",
        "colab": {
          "base_uri": "https://localhost:8080/",
          "height": 300
        }
      },
      "execution_count": 17,
      "outputs": [
        {
          "output_type": "execute_result",
          "data": {
            "text/plain": [
              "              Price         Year     Kilometers\n",
              "count   16304.00000  16304.00000    16304.00000\n",
              "mean    35638.70725   2015.19492   107796.91198\n",
              "std     29747.38417      4.61934    79181.72872\n",
              "min      1000.00000   1989.00000        5.00000\n",
              "25%     17990.00000   2013.00000    50585.25000\n",
              "50%     29888.00000   2016.00000    92488.50000\n",
              "75%     44405.00000   2018.00000   152000.00000\n",
              "max    999000.00000   2022.00000  2700000.00000"
            ],
            "text/html": [
              "\n",
              "  <div id=\"df-9f0ab1a8-9284-4a5c-9cad-78730e9aa3de\">\n",
              "    <div class=\"colab-df-container\">\n",
              "      <div>\n",
              "<style scoped>\n",
              "    .dataframe tbody tr th:only-of-type {\n",
              "        vertical-align: middle;\n",
              "    }\n",
              "\n",
              "    .dataframe tbody tr th {\n",
              "        vertical-align: top;\n",
              "    }\n",
              "\n",
              "    .dataframe thead th {\n",
              "        text-align: right;\n",
              "    }\n",
              "</style>\n",
              "<table border=\"1\" class=\"dataframe\">\n",
              "  <thead>\n",
              "    <tr style=\"text-align: right;\">\n",
              "      <th></th>\n",
              "      <th>Price</th>\n",
              "      <th>Year</th>\n",
              "      <th>Kilometers</th>\n",
              "    </tr>\n",
              "  </thead>\n",
              "  <tbody>\n",
              "    <tr>\n",
              "      <th>count</th>\n",
              "      <td>16304.00000</td>\n",
              "      <td>16304.00000</td>\n",
              "      <td>16304.00000</td>\n",
              "    </tr>\n",
              "    <tr>\n",
              "      <th>mean</th>\n",
              "      <td>35638.70725</td>\n",
              "      <td>2015.19492</td>\n",
              "      <td>107796.91198</td>\n",
              "    </tr>\n",
              "    <tr>\n",
              "      <th>std</th>\n",
              "      <td>29747.38417</td>\n",
              "      <td>4.61934</td>\n",
              "      <td>79181.72872</td>\n",
              "    </tr>\n",
              "    <tr>\n",
              "      <th>min</th>\n",
              "      <td>1000.00000</td>\n",
              "      <td>1989.00000</td>\n",
              "      <td>5.00000</td>\n",
              "    </tr>\n",
              "    <tr>\n",
              "      <th>25%</th>\n",
              "      <td>17990.00000</td>\n",
              "      <td>2013.00000</td>\n",
              "      <td>50585.25000</td>\n",
              "    </tr>\n",
              "    <tr>\n",
              "      <th>50%</th>\n",
              "      <td>29888.00000</td>\n",
              "      <td>2016.00000</td>\n",
              "      <td>92488.50000</td>\n",
              "    </tr>\n",
              "    <tr>\n",
              "      <th>75%</th>\n",
              "      <td>44405.00000</td>\n",
              "      <td>2018.00000</td>\n",
              "      <td>152000.00000</td>\n",
              "    </tr>\n",
              "    <tr>\n",
              "      <th>max</th>\n",
              "      <td>999000.00000</td>\n",
              "      <td>2022.00000</td>\n",
              "      <td>2700000.00000</td>\n",
              "    </tr>\n",
              "  </tbody>\n",
              "</table>\n",
              "</div>\n",
              "      <button class=\"colab-df-convert\" onclick=\"convertToInteractive('df-9f0ab1a8-9284-4a5c-9cad-78730e9aa3de')\"\n",
              "              title=\"Convert this dataframe to an interactive table.\"\n",
              "              style=\"display:none;\">\n",
              "        \n",
              "  <svg xmlns=\"http://www.w3.org/2000/svg\" height=\"24px\"viewBox=\"0 0 24 24\"\n",
              "       width=\"24px\">\n",
              "    <path d=\"M0 0h24v24H0V0z\" fill=\"none\"/>\n",
              "    <path d=\"M18.56 5.44l.94 2.06.94-2.06 2.06-.94-2.06-.94-.94-2.06-.94 2.06-2.06.94zm-11 1L8.5 8.5l.94-2.06 2.06-.94-2.06-.94L8.5 2.5l-.94 2.06-2.06.94zm10 10l.94 2.06.94-2.06 2.06-.94-2.06-.94-.94-2.06-.94 2.06-2.06.94z\"/><path d=\"M17.41 7.96l-1.37-1.37c-.4-.4-.92-.59-1.43-.59-.52 0-1.04.2-1.43.59L10.3 9.45l-7.72 7.72c-.78.78-.78 2.05 0 2.83L4 21.41c.39.39.9.59 1.41.59.51 0 1.02-.2 1.41-.59l7.78-7.78 2.81-2.81c.8-.78.8-2.07 0-2.86zM5.41 20L4 18.59l7.72-7.72 1.47 1.35L5.41 20z\"/>\n",
              "  </svg>\n",
              "      </button>\n",
              "      \n",
              "  <style>\n",
              "    .colab-df-container {\n",
              "      display:flex;\n",
              "      flex-wrap:wrap;\n",
              "      gap: 12px;\n",
              "    }\n",
              "\n",
              "    .colab-df-convert {\n",
              "      background-color: #E8F0FE;\n",
              "      border: none;\n",
              "      border-radius: 50%;\n",
              "      cursor: pointer;\n",
              "      display: none;\n",
              "      fill: #1967D2;\n",
              "      height: 32px;\n",
              "      padding: 0 0 0 0;\n",
              "      width: 32px;\n",
              "    }\n",
              "\n",
              "    .colab-df-convert:hover {\n",
              "      background-color: #E2EBFA;\n",
              "      box-shadow: 0px 1px 2px rgba(60, 64, 67, 0.3), 0px 1px 3px 1px rgba(60, 64, 67, 0.15);\n",
              "      fill: #174EA6;\n",
              "    }\n",
              "\n",
              "    [theme=dark] .colab-df-convert {\n",
              "      background-color: #3B4455;\n",
              "      fill: #D2E3FC;\n",
              "    }\n",
              "\n",
              "    [theme=dark] .colab-df-convert:hover {\n",
              "      background-color: #434B5C;\n",
              "      box-shadow: 0px 1px 3px 1px rgba(0, 0, 0, 0.15);\n",
              "      filter: drop-shadow(0px 1px 2px rgba(0, 0, 0, 0.3));\n",
              "      fill: #FFFFFF;\n",
              "    }\n",
              "  </style>\n",
              "\n",
              "      <script>\n",
              "        const buttonEl =\n",
              "          document.querySelector('#df-9f0ab1a8-9284-4a5c-9cad-78730e9aa3de button.colab-df-convert');\n",
              "        buttonEl.style.display =\n",
              "          google.colab.kernel.accessAllowed ? 'block' : 'none';\n",
              "\n",
              "        async function convertToInteractive(key) {\n",
              "          const element = document.querySelector('#df-9f0ab1a8-9284-4a5c-9cad-78730e9aa3de');\n",
              "          const dataTable =\n",
              "            await google.colab.kernel.invokeFunction('convertToInteractive',\n",
              "                                                     [key], {});\n",
              "          if (!dataTable) return;\n",
              "\n",
              "          const docLinkHtml = 'Like what you see? Visit the ' +\n",
              "            '<a target=\"_blank\" href=https://colab.research.google.com/notebooks/data_table.ipynb>data table notebook</a>'\n",
              "            + ' to learn more about interactive tables.';\n",
              "          element.innerHTML = '';\n",
              "          dataTable['output_type'] = 'display_data';\n",
              "          await google.colab.output.renderOutput(dataTable, element);\n",
              "          const docLink = document.createElement('div');\n",
              "          docLink.innerHTML = docLinkHtml;\n",
              "          element.appendChild(docLink);\n",
              "        }\n",
              "      </script>\n",
              "    </div>\n",
              "  </div>\n",
              "  "
            ]
          },
          "metadata": {},
          "execution_count": 17
        }
      ]
    },
    {
      "cell_type": "code",
      "source": [
        "# Median\n",
        "\n",
        "UsedCars.loc[:, ['Price', 'Year', 'Kilometers']].median()"
      ],
      "metadata": {
        "id": "jGwLPtzfyv83",
        "outputId": "29853a21-7eb1-44ea-8243-c918b58aef8b",
        "colab": {
          "base_uri": "https://localhost:8080/"
        }
      },
      "execution_count": 18,
      "outputs": [
        {
          "output_type": "execute_result",
          "data": {
            "text/plain": [
              "Price         29888.0\n",
              "Year           2016.0\n",
              "Kilometers    92488.5\n",
              "dtype: float64"
            ]
          },
          "metadata": {},
          "execution_count": 18
        }
      ]
    },
    {
      "cell_type": "code",
      "source": [
        "# Coefficient of Variation\n",
        "\n",
        "variation(UsedCars.loc[:,['Price', 'Year', 'Kilometers']])"
      ],
      "metadata": {
        "id": "aMWL4wdVy-NI",
        "outputId": "47c80754-c820-43fe-e5b0-d5b580639ed1",
        "colab": {
          "base_uri": "https://localhost:8080/"
        }
      },
      "execution_count": 19,
      "outputs": [
        {
          "output_type": "execute_result",
          "data": {
            "text/plain": [
              "array([0.83466753, 0.00229219, 0.7345229 ])"
            ]
          },
          "metadata": {},
          "execution_count": 19
        }
      ]
    },
    {
      "cell_type": "markdown",
      "source": [
        "The numbers decreased a little bit but didn't cause any major effects, even because the number of used cars represent the majority of the data set.\n",
        "\n",
        "The Coefficient of Variation of the Price increased a little while the Kilometers decreased.\n",
        "\n",
        "Before filtering, there were 17048 cars and after filtering the number is 16304, a porcentage of:"
      ],
      "metadata": {
        "id": "aXftXbP3v1k4"
      }
    },
    {
      "cell_type": "code",
      "source": [
        "(UsedCars.ID.count()/df.ID.count()*100).round(2)"
      ],
      "metadata": {
        "id": "1sUlla-LxdBi",
        "outputId": "8fbc40b7-98df-41be-cbd0-c7b2e822133b",
        "colab": {
          "base_uri": "https://localhost:8080/"
        }
      },
      "execution_count": 20,
      "outputs": [
        {
          "output_type": "execute_result",
          "data": {
            "text/plain": [
              "95.64"
            ]
          },
          "metadata": {},
          "execution_count": 20
        }
      ]
    },
    {
      "cell_type": "code",
      "source": [
        "UsedCars.loc[:,['Price', 'Year', 'Kilometers']].corr()"
      ],
      "metadata": {
        "id": "YKOuOJQgyDvG",
        "outputId": "ecf6c2f5-af2e-409e-d79f-2d2eb53aadcc",
        "colab": {
          "base_uri": "https://localhost:8080/",
          "height": 143
        }
      },
      "execution_count": 21,
      "outputs": [
        {
          "output_type": "execute_result",
          "data": {
            "text/plain": [
              "               Price      Year  Kilometers\n",
              "Price       1.000000  0.474708   -0.431873\n",
              "Year        0.474708  1.000000   -0.705814\n",
              "Kilometers -0.431873 -0.705814    1.000000"
            ],
            "text/html": [
              "\n",
              "  <div id=\"df-bc97cbbb-1d74-420b-b286-c432afcd5221\">\n",
              "    <div class=\"colab-df-container\">\n",
              "      <div>\n",
              "<style scoped>\n",
              "    .dataframe tbody tr th:only-of-type {\n",
              "        vertical-align: middle;\n",
              "    }\n",
              "\n",
              "    .dataframe tbody tr th {\n",
              "        vertical-align: top;\n",
              "    }\n",
              "\n",
              "    .dataframe thead th {\n",
              "        text-align: right;\n",
              "    }\n",
              "</style>\n",
              "<table border=\"1\" class=\"dataframe\">\n",
              "  <thead>\n",
              "    <tr style=\"text-align: right;\">\n",
              "      <th></th>\n",
              "      <th>Price</th>\n",
              "      <th>Year</th>\n",
              "      <th>Kilometers</th>\n",
              "    </tr>\n",
              "  </thead>\n",
              "  <tbody>\n",
              "    <tr>\n",
              "      <th>Price</th>\n",
              "      <td>1.000000</td>\n",
              "      <td>0.474708</td>\n",
              "      <td>-0.431873</td>\n",
              "    </tr>\n",
              "    <tr>\n",
              "      <th>Year</th>\n",
              "      <td>0.474708</td>\n",
              "      <td>1.000000</td>\n",
              "      <td>-0.705814</td>\n",
              "    </tr>\n",
              "    <tr>\n",
              "      <th>Kilometers</th>\n",
              "      <td>-0.431873</td>\n",
              "      <td>-0.705814</td>\n",
              "      <td>1.000000</td>\n",
              "    </tr>\n",
              "  </tbody>\n",
              "</table>\n",
              "</div>\n",
              "      <button class=\"colab-df-convert\" onclick=\"convertToInteractive('df-bc97cbbb-1d74-420b-b286-c432afcd5221')\"\n",
              "              title=\"Convert this dataframe to an interactive table.\"\n",
              "              style=\"display:none;\">\n",
              "        \n",
              "  <svg xmlns=\"http://www.w3.org/2000/svg\" height=\"24px\"viewBox=\"0 0 24 24\"\n",
              "       width=\"24px\">\n",
              "    <path d=\"M0 0h24v24H0V0z\" fill=\"none\"/>\n",
              "    <path d=\"M18.56 5.44l.94 2.06.94-2.06 2.06-.94-2.06-.94-.94-2.06-.94 2.06-2.06.94zm-11 1L8.5 8.5l.94-2.06 2.06-.94-2.06-.94L8.5 2.5l-.94 2.06-2.06.94zm10 10l.94 2.06.94-2.06 2.06-.94-2.06-.94-.94-2.06-.94 2.06-2.06.94z\"/><path d=\"M17.41 7.96l-1.37-1.37c-.4-.4-.92-.59-1.43-.59-.52 0-1.04.2-1.43.59L10.3 9.45l-7.72 7.72c-.78.78-.78 2.05 0 2.83L4 21.41c.39.39.9.59 1.41.59.51 0 1.02-.2 1.41-.59l7.78-7.78 2.81-2.81c.8-.78.8-2.07 0-2.86zM5.41 20L4 18.59l7.72-7.72 1.47 1.35L5.41 20z\"/>\n",
              "  </svg>\n",
              "      </button>\n",
              "      \n",
              "  <style>\n",
              "    .colab-df-container {\n",
              "      display:flex;\n",
              "      flex-wrap:wrap;\n",
              "      gap: 12px;\n",
              "    }\n",
              "\n",
              "    .colab-df-convert {\n",
              "      background-color: #E8F0FE;\n",
              "      border: none;\n",
              "      border-radius: 50%;\n",
              "      cursor: pointer;\n",
              "      display: none;\n",
              "      fill: #1967D2;\n",
              "      height: 32px;\n",
              "      padding: 0 0 0 0;\n",
              "      width: 32px;\n",
              "    }\n",
              "\n",
              "    .colab-df-convert:hover {\n",
              "      background-color: #E2EBFA;\n",
              "      box-shadow: 0px 1px 2px rgba(60, 64, 67, 0.3), 0px 1px 3px 1px rgba(60, 64, 67, 0.15);\n",
              "      fill: #174EA6;\n",
              "    }\n",
              "\n",
              "    [theme=dark] .colab-df-convert {\n",
              "      background-color: #3B4455;\n",
              "      fill: #D2E3FC;\n",
              "    }\n",
              "\n",
              "    [theme=dark] .colab-df-convert:hover {\n",
              "      background-color: #434B5C;\n",
              "      box-shadow: 0px 1px 3px 1px rgba(0, 0, 0, 0.15);\n",
              "      filter: drop-shadow(0px 1px 2px rgba(0, 0, 0, 0.3));\n",
              "      fill: #FFFFFF;\n",
              "    }\n",
              "  </style>\n",
              "\n",
              "      <script>\n",
              "        const buttonEl =\n",
              "          document.querySelector('#df-bc97cbbb-1d74-420b-b286-c432afcd5221 button.colab-df-convert');\n",
              "        buttonEl.style.display =\n",
              "          google.colab.kernel.accessAllowed ? 'block' : 'none';\n",
              "\n",
              "        async function convertToInteractive(key) {\n",
              "          const element = document.querySelector('#df-bc97cbbb-1d74-420b-b286-c432afcd5221');\n",
              "          const dataTable =\n",
              "            await google.colab.kernel.invokeFunction('convertToInteractive',\n",
              "                                                     [key], {});\n",
              "          if (!dataTable) return;\n",
              "\n",
              "          const docLinkHtml = 'Like what you see? Visit the ' +\n",
              "            '<a target=\"_blank\" href=https://colab.research.google.com/notebooks/data_table.ipynb>data table notebook</a>'\n",
              "            + ' to learn more about interactive tables.';\n",
              "          element.innerHTML = '';\n",
              "          dataTable['output_type'] = 'display_data';\n",
              "          await google.colab.output.renderOutput(dataTable, element);\n",
              "          const docLink = document.createElement('div');\n",
              "          docLink.innerHTML = docLinkHtml;\n",
              "          element.appendChild(docLink);\n",
              "        }\n",
              "      </script>\n",
              "    </div>\n",
              "  </div>\n",
              "  "
            ]
          },
          "metadata": {},
          "execution_count": 21
        }
      ]
    },
    {
      "cell_type": "markdown",
      "source": [
        "**Observation:** The correlation among the used cars decreased in all cases"
      ],
      "metadata": {
        "id": "ETwqNytPyV6m"
      }
    },
    {
      "cell_type": "markdown",
      "source": [
        "## 3. Questions"
      ],
      "metadata": {
        "id": "g4exGqmOu3w-"
      }
    },
    {
      "cell_type": "markdown",
      "source": [
        "### 3.1. What are the top 10 veicles sold?\n",
        "\n",
        "Since my budget is up to $5.000, I will analyse either the number of sold cars with no limitation on budget and with limitation on budget."
      ],
      "metadata": {
        "id": "WL3p0X0zwO0U"
      }
    },
    {
      "cell_type": "code",
      "source": [
        "# with no limitation\n",
        "\n",
        "UsedCars.groupby(['Brand','Model'])['ID'].size().nlargest(10)"
      ],
      "metadata": {
        "colab": {
          "base_uri": "https://localhost:8080/"
        },
        "id": "3PwG2cHVvfvY",
        "outputId": "06ce7801-7b4e-452e-ff17-0c09316c65d9"
      },
      "execution_count": 22,
      "outputs": [
        {
          "output_type": "execute_result",
          "data": {
            "text/plain": [
              "Brand       Model    \n",
              "Ford        Ranger       648\n",
              "Toyota      Hilux        539\n",
              "Holden      Commodore    491\n",
              "Mitsubishi  Triton       362\n",
              "Toyota      Corolla      355\n",
              "            RAV4         307\n",
              "Nissan      Navara       298\n",
              "Holden      Colorado     279\n",
              "Nissan      X-Trail      272\n",
              "Mazda       3            271\n",
              "Name: ID, dtype: int64"
            ]
          },
          "metadata": {},
          "execution_count": 22
        }
      ]
    },
    {
      "cell_type": "code",
      "source": [
        "brands = [x[0] for x in UsedCars.groupby(['Brand','Model'])['ID'].size().nlargest(10).index]\n",
        "models = [x[1] for x in UsedCars.groupby(['Brand','Model'])['ID'].size().nlargest(10).index]\n",
        "\n",
        "PlotDF = UsedCars[(UsedCars['Brand'].isin(brands)) & (UsedCars['Model'].isin(models))]\n",
        "\n",
        "PlotDF['Brand_Model'] = PlotDF[['Brand', 'Model']].apply(' '.join, axis=1)\n",
        "\n",
        "PlotDF = PlotDF[['Brand_Model', 'Year']]\n",
        "\n",
        "PlotDF = PlotDF.groupby(['Brand_Model', 'Year']).size().reset_index(name='Count')"
      ],
      "metadata": {
        "id": "mwiAQDdw55A6"
      },
      "execution_count": null,
      "outputs": []
    },
    {
      "cell_type": "code",
      "source": [
        "fig, axs = plt.subplots(5,2, figsize=(12, 18))\n",
        "\n",
        "# Iterate over each Brand_Model\n",
        "for i, brand_model in enumerate(PlotDF['Brand_Model'].unique()):\n",
        "    row = i // 2\n",
        "    col = i % 2\n",
        "    \n",
        "    # Filter data for the current Brand_Model\n",
        "    brand_model_data = PlotDF[PlotDF['Brand_Model'] == brand_model]\n",
        "    \n",
        "    # Plot the count per year\n",
        "    axs[row, col].bar(brand_model_data['Year'], brand_model_data['Count'])\n",
        "    axs[row, col].set_title(brand_model)\n",
        "    axs[row, col].set_xlabel('Year')\n",
        "    axs[row, col].set_ylabel('Count')\n",
        "\n",
        "# Adjust spacing between subplots\n",
        "plt.tight_layout()\n",
        "\n",
        "# Show the plot\n",
        "plt.show()"
      ],
      "metadata": {
        "id": "AtA-EUdeSaHe",
        "outputId": "60123809-8a75-49c5-f622-5630b9b693c1",
        "colab": {
          "base_uri": "https://localhost:8080/",
          "height": 1000
        }
      },
      "execution_count": 128,
      "outputs": [
        {
          "output_type": "display_data",
          "data": {
            "text/plain": [
              "<Figure size 1200x1800 with 10 Axes>"
            ],
            "image/png": "[encoded data removed]"
          },
          "metadata": {}
        }
      ]
    },
    {
      "cell_type": "code",
      "source": [
        "# with limitation\n",
        "\n",
        "UsedCars[UsedCars.Price <= 5000].groupby(['Brand','Model']).size().nlargest(10)"
      ],
      "metadata": {
        "colab": {
          "base_uri": "https://localhost:8080/"
        },
        "id": "qnB0wI040jyX",
        "outputId": "929d7703-bafb-4346-d066-9da2db4276d5"
      },
      "execution_count": 24,
      "outputs": [
        {
          "output_type": "execute_result",
          "data": {
            "text/plain": [
              "Brand       Model    \n",
              "Holden      Commodore    22\n",
              "Toyota      Camry        11\n",
              "            Corolla      11\n",
              "Ford        Falcon       10\n",
              "Mitsubishi  Lancer       10\n",
              "Mazda       3             9\n",
              "Nissan      Pulsar        9\n",
              "Holden      Astra         8\n",
              "Ford        Focus         7\n",
              "Honda       Civic         7\n",
              "dtype: int64"
            ]
          },
          "metadata": {},
          "execution_count": 24
        }
      ]
    }
  ]
}