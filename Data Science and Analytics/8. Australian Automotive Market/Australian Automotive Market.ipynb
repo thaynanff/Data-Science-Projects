{
  "metadata": {
    "kernelspec": {
      "language": "python",
      "display_name": "Python 3",
      "name": "python3"
    },
    "language_info": {
      "name": "python",
      "version": "3.10.10",
      "mimetype": "text/x-python",
      "codemirror_mode": {
        "name": "ipython",
        "version": 3
      },
      "pygments_lexer": "ipython3",
      "nbconvert_exporter": "python",
      "file_extension": ".py"
    },
    "colab": {
      "provenance": []
    }
  },
  "nbformat_minor": 0,
  "nbformat": 4,
  "cells": [
    {
      "cell_type": "markdown",
      "source": [
        "# Australian Automotive Market - Descriptive Analysis"
      ],
      "metadata": {
        "id": "eFyzLYONh8Fk"
      }
    },
    {
      "cell_type": "code",
      "source": [
        "# data\n",
        "\n",
        "import pandas as pd\n",
        "import numpy as np\n",
        "from scipy.stats import variation \n",
        "\n",
        "# visualization\n",
        "import matplotlib as mpl\n",
        "import matplotlib.pyplot as plt"
      ],
      "metadata": {
        "execution": {
          "iopub.status.busy": "2023-05-23T00:07:34.217275Z",
          "iopub.execute_input": "2023-05-23T00:07:34.217686Z",
          "iopub.status.idle": "2023-05-23T00:07:34.223077Z",
          "shell.execute_reply.started": "2023-05-23T00:07:34.217653Z",
          "shell.execute_reply": "2023-05-23T00:07:34.221888Z"
        },
        "trusted": true,
        "id": "DAI6Hc8oh8F7"
      },
      "execution_count": 3,
      "outputs": []
    },
    {
      "cell_type": "markdown",
      "source": [
        "We are going to analise the Australian Automotive Market with data extracted from the website Autotrader.com. The dataset's author doesn't provide the information about when this data was extracted.\n",
        "\n",
        "We will try to answer these questions:\n",
        "\n",
        "1. What are the top 10 veicles sold?\n",
        "2. What's the avarage mileage of these cars?\n",
        "3. What's the avarage price of these cars?\n",
        "4. \n"
      ],
      "metadata": {
        "id": "Tl87goIbh8F9"
      }
    },
    {
      "cell_type": "markdown",
      "source": [
        "## 1. Reading, visualising and describing the dataset"
      ],
      "metadata": {
        "id": "QaTLfftYh8F9"
      }
    },
    {
      "cell_type": "code",
      "source": [
        "df = pd.read_csv('/content/cars.csv')\n",
        "\n",
        "df.head()"
      ],
      "metadata": {
        "execution": {
          "iopub.status.busy": "2023-05-23T00:07:36.211890Z",
          "iopub.execute_input": "2023-05-23T00:07:36.212261Z",
          "iopub.status.idle": "2023-05-23T00:07:36.395335Z",
          "shell.execute_reply.started": "2023-05-23T00:07:36.212230Z",
          "shell.execute_reply": "2023-05-23T00:07:36.394262Z"
        },
        "trusted": true,
        "colab": {
          "base_uri": "https://localhost:8080/",
          "height": 371
        },
        "id": "fc3k7LcQh8F_",
        "outputId": "2bb60618-3dc7-4668-8514-970f1bb94194"
      },
      "execution_count": 4,
      "outputs": [
        {
          "output_type": "execute_result",
          "data": {
            "text/plain": [
              "         ID                                               Name   Price  \\\n",
              "0  11530130                  2010 Toyota Rukus Build 2 AZE151R    9999   \n",
              "1  12190570  2021 Mercedes-Benz V 250 D Avantgarde MWB 447 ...  117990   \n",
              "2  12321855  2021 Mercedes-Benz Valente 116 CDI MWB RWD 447...   79990   \n",
              "3  12346971         2010 Mercedes-Benz E250 CDI Avantgarde 207   34990   \n",
              "4  12363884                       2016 Holden Cruze CD JH MY16   15990   \n",
              "\n",
              "           Brand    Model               Variant    Series  Year  Kilometers  \\\n",
              "0         Toyota    Rukus               Build 2   AZE151R  2010      263000   \n",
              "1  Mercedes-Benz        V  250 D Avantgarde MWB  447 MY21  2021          19   \n",
              "2  Mercedes-Benz  Valente       116 CDI MWB RWD  447 MY21  2021          24   \n",
              "3  Mercedes-Benz     E250        CDI Avantgarde       207  2010      120579   \n",
              "4         Holden    Cruze                    CD   JH MY16  2016       72506   \n",
              "\n",
              "          Type    Gearbox             Fuel         Status    CC  Color  \\\n",
              "0        Wagon  Automatic  Unleaded Petrol           Used  2362   Grey   \n",
              "1        Wagon  Automatic           Diesel   New In Stock  2143  Black   \n",
              "2        Wagon  Automatic           Diesel   New In Stock  2143  Black   \n",
              "3    Cabriolet  Automatic           Diesel           Used  2143  Black   \n",
              "4  Sportswagon  Automatic  Unleaded Petrol           Used  1796  White   \n",
              "\n",
              "   Seating Capacity  \n",
              "0                 5  \n",
              "1                 7  \n",
              "2                 8  \n",
              "3                 4  \n",
              "4                 5  "
            ],
            "text/html": [
              "\n",
              "  <div id=\"df-52213044-a6c7-428d-b906-15f72b37a096\">\n",
              "    <div class=\"colab-df-container\">\n",
              "      <div>\n",
              "<style scoped>\n",
              "    .dataframe tbody tr th:only-of-type {\n",
              "        vertical-align: middle;\n",
              "    }\n",
              "\n",
              "    .dataframe tbody tr th {\n",
              "        vertical-align: top;\n",
              "    }\n",
              "\n",
              "    .dataframe thead th {\n",
              "        text-align: right;\n",
              "    }\n",
              "</style>\n",
              "<table border=\"1\" class=\"dataframe\">\n",
              "  <thead>\n",
              "    <tr style=\"text-align: right;\">\n",
              "      <th></th>\n",
              "      <th>ID</th>\n",
              "      <th>Name</th>\n",
              "      <th>Price</th>\n",
              "      <th>Brand</th>\n",
              "      <th>Model</th>\n",
              "      <th>Variant</th>\n",
              "      <th>Series</th>\n",
              "      <th>Year</th>\n",
              "      <th>Kilometers</th>\n",
              "      <th>Type</th>\n",
              "      <th>Gearbox</th>\n",
              "      <th>Fuel</th>\n",
              "      <th>Status</th>\n",
              "      <th>CC</th>\n",
              "      <th>Color</th>\n",
              "      <th>Seating Capacity</th>\n",
              "    </tr>\n",
              "  </thead>\n",
              "  <tbody>\n",
              "    <tr>\n",
              "      <th>0</th>\n",
              "      <td>11530130</td>\n",
              "      <td>2010 Toyota Rukus Build 2 AZE151R</td>\n",
              "      <td>9999</td>\n",
              "      <td>Toyota</td>\n",
              "      <td>Rukus</td>\n",
              "      <td>Build 2</td>\n",
              "      <td>AZE151R</td>\n",
              "      <td>2010</td>\n",
              "      <td>263000</td>\n",
              "      <td>Wagon</td>\n",
              "      <td>Automatic</td>\n",
              "      <td>Unleaded Petrol</td>\n",
              "      <td>Used</td>\n",
              "      <td>2362</td>\n",
              "      <td>Grey</td>\n",
              "      <td>5</td>\n",
              "    </tr>\n",
              "    <tr>\n",
              "      <th>1</th>\n",
              "      <td>12190570</td>\n",
              "      <td>2021 Mercedes-Benz V 250 D Avantgarde MWB 447 ...</td>\n",
              "      <td>117990</td>\n",
              "      <td>Mercedes-Benz</td>\n",
              "      <td>V</td>\n",
              "      <td>250 D Avantgarde MWB</td>\n",
              "      <td>447 MY21</td>\n",
              "      <td>2021</td>\n",
              "      <td>19</td>\n",
              "      <td>Wagon</td>\n",
              "      <td>Automatic</td>\n",
              "      <td>Diesel</td>\n",
              "      <td>New In Stock</td>\n",
              "      <td>2143</td>\n",
              "      <td>Black</td>\n",
              "      <td>7</td>\n",
              "    </tr>\n",
              "    <tr>\n",
              "      <th>2</th>\n",
              "      <td>12321855</td>\n",
              "      <td>2021 Mercedes-Benz Valente 116 CDI MWB RWD 447...</td>\n",
              "      <td>79990</td>\n",
              "      <td>Mercedes-Benz</td>\n",
              "      <td>Valente</td>\n",
              "      <td>116 CDI MWB RWD</td>\n",
              "      <td>447 MY21</td>\n",
              "      <td>2021</td>\n",
              "      <td>24</td>\n",
              "      <td>Wagon</td>\n",
              "      <td>Automatic</td>\n",
              "      <td>Diesel</td>\n",
              "      <td>New In Stock</td>\n",
              "      <td>2143</td>\n",
              "      <td>Black</td>\n",
              "      <td>8</td>\n",
              "    </tr>\n",
              "    <tr>\n",
              "      <th>3</th>\n",
              "      <td>12346971</td>\n",
              "      <td>2010 Mercedes-Benz E250 CDI Avantgarde 207</td>\n",
              "      <td>34990</td>\n",
              "      <td>Mercedes-Benz</td>\n",
              "      <td>E250</td>\n",
              "      <td>CDI Avantgarde</td>\n",
              "      <td>207</td>\n",
              "      <td>2010</td>\n",
              "      <td>120579</td>\n",
              "      <td>Cabriolet</td>\n",
              "      <td>Automatic</td>\n",
              "      <td>Diesel</td>\n",
              "      <td>Used</td>\n",
              "      <td>2143</td>\n",
              "      <td>Black</td>\n",
              "      <td>4</td>\n",
              "    </tr>\n",
              "    <tr>\n",
              "      <th>4</th>\n",
              "      <td>12363884</td>\n",
              "      <td>2016 Holden Cruze CD JH MY16</td>\n",
              "      <td>15990</td>\n",
              "      <td>Holden</td>\n",
              "      <td>Cruze</td>\n",
              "      <td>CD</td>\n",
              "      <td>JH MY16</td>\n",
              "      <td>2016</td>\n",
              "      <td>72506</td>\n",
              "      <td>Sportswagon</td>\n",
              "      <td>Automatic</td>\n",
              "      <td>Unleaded Petrol</td>\n",
              "      <td>Used</td>\n",
              "      <td>1796</td>\n",
              "      <td>White</td>\n",
              "      <td>5</td>\n",
              "    </tr>\n",
              "  </tbody>\n",
              "</table>\n",
              "</div>\n",
              "      <button class=\"colab-df-convert\" onclick=\"convertToInteractive('df-52213044-a6c7-428d-b906-15f72b37a096')\"\n",
              "              title=\"Convert this dataframe to an interactive table.\"\n",
              "              style=\"display:none;\">\n",
              "        \n",
              "  <svg xmlns=\"http://www.w3.org/2000/svg\" height=\"24px\"viewBox=\"0 0 24 24\"\n",
              "       width=\"24px\">\n",
              "    <path d=\"M0 0h24v24H0V0z\" fill=\"none\"/>\n",
              "    <path d=\"M18.56 5.44l.94 2.06.94-2.06 2.06-.94-2.06-.94-.94-2.06-.94 2.06-2.06.94zm-11 1L8.5 8.5l.94-2.06 2.06-.94-2.06-.94L8.5 2.5l-.94 2.06-2.06.94zm10 10l.94 2.06.94-2.06 2.06-.94-2.06-.94-.94-2.06-.94 2.06-2.06.94z\"/><path d=\"M17.41 7.96l-1.37-1.37c-.4-.4-.92-.59-1.43-.59-.52 0-1.04.2-1.43.59L10.3 9.45l-7.72 7.72c-.78.78-.78 2.05 0 2.83L4 21.41c.39.39.9.59 1.41.59.51 0 1.02-.2 1.41-.59l7.78-7.78 2.81-2.81c.8-.78.8-2.07 0-2.86zM5.41 20L4 18.59l7.72-7.72 1.47 1.35L5.41 20z\"/>\n",
              "  </svg>\n",
              "      </button>\n",
              "      \n",
              "  <style>\n",
              "    .colab-df-container {\n",
              "      display:flex;\n",
              "      flex-wrap:wrap;\n",
              "      gap: 12px;\n",
              "    }\n",
              "\n",
              "    .colab-df-convert {\n",
              "      background-color: #E8F0FE;\n",
              "      border: none;\n",
              "      border-radius: 50%;\n",
              "      cursor: pointer;\n",
              "      display: none;\n",
              "      fill: #1967D2;\n",
              "      height: 32px;\n",
              "      padding: 0 0 0 0;\n",
              "      width: 32px;\n",
              "    }\n",
              "\n",
              "    .colab-df-convert:hover {\n",
              "      background-color: #E2EBFA;\n",
              "      box-shadow: 0px 1px 2px rgba(60, 64, 67, 0.3), 0px 1px 3px 1px rgba(60, 64, 67, 0.15);\n",
              "      fill: #174EA6;\n",
              "    }\n",
              "\n",
              "    [theme=dark] .colab-df-convert {\n",
              "      background-color: #3B4455;\n",
              "      fill: #D2E3FC;\n",
              "    }\n",
              "\n",
              "    [theme=dark] .colab-df-convert:hover {\n",
              "      background-color: #434B5C;\n",
              "      box-shadow: 0px 1px 3px 1px rgba(0, 0, 0, 0.15);\n",
              "      filter: drop-shadow(0px 1px 2px rgba(0, 0, 0, 0.3));\n",
              "      fill: #FFFFFF;\n",
              "    }\n",
              "  </style>\n",
              "\n",
              "      <script>\n",
              "        const buttonEl =\n",
              "          document.querySelector('#df-52213044-a6c7-428d-b906-15f72b37a096 button.colab-df-convert');\n",
              "        buttonEl.style.display =\n",
              "          google.colab.kernel.accessAllowed ? 'block' : 'none';\n",
              "\n",
              "        async function convertToInteractive(key) {\n",
              "          const element = document.querySelector('#df-52213044-a6c7-428d-b906-15f72b37a096');\n",
              "          const dataTable =\n",
              "            await google.colab.kernel.invokeFunction('convertToInteractive',\n",
              "                                                     [key], {});\n",
              "          if (!dataTable) return;\n",
              "\n",
              "          const docLinkHtml = 'Like what you see? Visit the ' +\n",
              "            '<a target=\"_blank\" href=https://colab.research.google.com/notebooks/data_table.ipynb>data table notebook</a>'\n",
              "            + ' to learn more about interactive tables.';\n",
              "          element.innerHTML = '';\n",
              "          dataTable['output_type'] = 'display_data';\n",
              "          await google.colab.output.renderOutput(dataTable, element);\n",
              "          const docLink = document.createElement('div');\n",
              "          docLink.innerHTML = docLinkHtml;\n",
              "          element.appendChild(docLink);\n",
              "        }\n",
              "      </script>\n",
              "    </div>\n",
              "  </div>\n",
              "  "
            ]
          },
          "metadata": {},
          "execution_count": 4
        }
      ]
    },
    {
      "cell_type": "markdown",
      "source": [
        "<center> <b> Column meaning </b> </center>\n",
        "\n",
        "---\n",
        "\n",
        "**ID:** Vehicle number.\n",
        "\n",
        "**Name:** Vehicle name.\n",
        "\n",
        "**Price:** The price of the car.\n",
        "\n",
        "**Brand:** The brand of the vehicle.\n",
        "\n",
        "**Model:** Vehicle age.\n",
        "\n",
        "**Variant:** Vehicle variant.\n",
        "\n",
        "**Series:** Series of vehicles.\n",
        "\n",
        "**Year:** Year of manufacture.\n",
        "\n",
        "**Kilometers:** The number of kilometers the vehicle can run (new vehicles have this attribute 0).\n",
        "\n",
        "**Type:** Vehicle type (Sedan, Wagon, Coupe,…).\n",
        "\n",
        "**Gearbox:** Gearbox (Automatic, manual,…).\n",
        "\n",
        "**Fuel:** Fuel (Oil, gasoline,…).\n",
        "\n",
        "**Status:** Status (Used, tested,…).\n",
        "\n",
        "**CC:** Segmentation.\n",
        "\n",
        "**Color:** Car color.\n",
        "\n",
        "**Seating Capacity:** Number of seats.\n",
        "\n",
        "---"
      ],
      "metadata": {
        "id": "9ru9ycZkh8F_"
      }
    },
    {
      "cell_type": "code",
      "source": [
        "df.shape"
      ],
      "metadata": {
        "execution": {
          "iopub.status.busy": "2023-05-23T00:07:45.826673Z",
          "iopub.execute_input": "2023-05-23T00:07:45.827106Z",
          "iopub.status.idle": "2023-05-23T00:07:45.833436Z",
          "shell.execute_reply.started": "2023-05-23T00:07:45.827068Z",
          "shell.execute_reply": "2023-05-23T00:07:45.832587Z"
        },
        "trusted": true,
        "id": "Hk9y9lvIh8GB",
        "outputId": "64335128-0954-4654-dbac-2518520d72e4",
        "colab": {
          "base_uri": "https://localhost:8080/"
        }
      },
      "execution_count": 5,
      "outputs": [
        {
          "output_type": "execute_result",
          "data": {
            "text/plain": [
              "(17048, 16)"
            ]
          },
          "metadata": {},
          "execution_count": 5
        }
      ]
    },
    {
      "cell_type": "code",
      "source": [
        "df.info()"
      ],
      "metadata": {
        "execution": {
          "iopub.status.busy": "2023-05-23T00:07:47.498710Z",
          "iopub.execute_input": "2023-05-23T00:07:47.499444Z",
          "iopub.status.idle": "2023-05-23T00:07:47.579856Z",
          "shell.execute_reply.started": "2023-05-23T00:07:47.499400Z",
          "shell.execute_reply": "2023-05-23T00:07:47.578546Z"
        },
        "trusted": true,
        "id": "StMNSMiBh8GD",
        "outputId": "ccc6d977-6448-4d64-b461-fd359b29ecef",
        "colab": {
          "base_uri": "https://localhost:8080/"
        }
      },
      "execution_count": 6,
      "outputs": [
        {
          "output_type": "stream",
          "name": "stdout",
          "text": [
            "<class 'pandas.core.frame.DataFrame'>\n",
            "RangeIndex: 17048 entries, 0 to 17047\n",
            "Data columns (total 16 columns):\n",
            " #   Column            Non-Null Count  Dtype \n",
            "---  ------            --------------  ----- \n",
            " 0   ID                17048 non-null  int64 \n",
            " 1   Name              17048 non-null  object\n",
            " 2   Price             17048 non-null  int64 \n",
            " 3   Brand             17048 non-null  object\n",
            " 4   Model             17048 non-null  object\n",
            " 5   Variant           17048 non-null  object\n",
            " 6   Series            17048 non-null  object\n",
            " 7   Year              17048 non-null  int64 \n",
            " 8   Kilometers        17048 non-null  int64 \n",
            " 9   Type              17048 non-null  object\n",
            " 10  Gearbox           17048 non-null  object\n",
            " 11  Fuel              17048 non-null  object\n",
            " 12  Status            17048 non-null  object\n",
            " 13  CC                17048 non-null  int64 \n",
            " 14  Color             17048 non-null  object\n",
            " 15  Seating Capacity  17048 non-null  int64 \n",
            "dtypes: int64(6), object(10)\n",
            "memory usage: 2.1+ MB\n"
          ]
        }
      ]
    },
    {
      "cell_type": "code",
      "source": [
        "# let's describe just the columns important to us, that is Price, Kilometers and Year\n",
        "\n",
        "df.loc[:,['Price', 'Year', 'Kilometers']].describe()"
      ],
      "metadata": {
        "colab": {
          "base_uri": "https://localhost:8080/",
          "height": 300
        },
        "id": "P-hxrBV-t3cz",
        "outputId": "23d49079-5cfe-4e0c-8bf8-c240aaf02f0c"
      },
      "execution_count": 35,
      "outputs": [
        {
          "output_type": "execute_result",
          "data": {
            "text/plain": [
              "               Price          Year    Kilometers\n",
              "count   17048.000000  17048.000000  1.704800e+04\n",
              "mean    36777.778038   2015.481288  1.032314e+05\n",
              "std     30305.015328      4.721591  8.041313e+04\n",
              "min      1000.000000   1989.000000  1.000000e+00\n",
              "25%     18800.000000   2013.000000  4.450225e+04\n",
              "50%     29990.000000   2016.000000  8.845400e+04\n",
              "75%     45990.000000   2019.000000  1.488735e+05\n",
              "max    999000.000000   2022.000000  2.700000e+06"
            ],
            "text/html": [
              "\n",
              "  <div id=\"df-f14beaee-dc7b-449e-be33-fa4519e1bc09\">\n",
              "    <div class=\"colab-df-container\">\n",
              "      <div>\n",
              "<style scoped>\n",
              "    .dataframe tbody tr th:only-of-type {\n",
              "        vertical-align: middle;\n",
              "    }\n",
              "\n",
              "    .dataframe tbody tr th {\n",
              "        vertical-align: top;\n",
              "    }\n",
              "\n",
              "    .dataframe thead th {\n",
              "        text-align: right;\n",
              "    }\n",
              "</style>\n",
              "<table border=\"1\" class=\"dataframe\">\n",
              "  <thead>\n",
              "    <tr style=\"text-align: right;\">\n",
              "      <th></th>\n",
              "      <th>Price</th>\n",
              "      <th>Year</th>\n",
              "      <th>Kilometers</th>\n",
              "    </tr>\n",
              "  </thead>\n",
              "  <tbody>\n",
              "    <tr>\n",
              "      <th>count</th>\n",
              "      <td>17048.000000</td>\n",
              "      <td>17048.000000</td>\n",
              "      <td>1.704800e+04</td>\n",
              "    </tr>\n",
              "    <tr>\n",
              "      <th>mean</th>\n",
              "      <td>36777.778038</td>\n",
              "      <td>2015.481288</td>\n",
              "      <td>1.032314e+05</td>\n",
              "    </tr>\n",
              "    <tr>\n",
              "      <th>std</th>\n",
              "      <td>30305.015328</td>\n",
              "      <td>4.721591</td>\n",
              "      <td>8.041313e+04</td>\n",
              "    </tr>\n",
              "    <tr>\n",
              "      <th>min</th>\n",
              "      <td>1000.000000</td>\n",
              "      <td>1989.000000</td>\n",
              "      <td>1.000000e+00</td>\n",
              "    </tr>\n",
              "    <tr>\n",
              "      <th>25%</th>\n",
              "      <td>18800.000000</td>\n",
              "      <td>2013.000000</td>\n",
              "      <td>4.450225e+04</td>\n",
              "    </tr>\n",
              "    <tr>\n",
              "      <th>50%</th>\n",
              "      <td>29990.000000</td>\n",
              "      <td>2016.000000</td>\n",
              "      <td>8.845400e+04</td>\n",
              "    </tr>\n",
              "    <tr>\n",
              "      <th>75%</th>\n",
              "      <td>45990.000000</td>\n",
              "      <td>2019.000000</td>\n",
              "      <td>1.488735e+05</td>\n",
              "    </tr>\n",
              "    <tr>\n",
              "      <th>max</th>\n",
              "      <td>999000.000000</td>\n",
              "      <td>2022.000000</td>\n",
              "      <td>2.700000e+06</td>\n",
              "    </tr>\n",
              "  </tbody>\n",
              "</table>\n",
              "</div>\n",
              "      <button class=\"colab-df-convert\" onclick=\"convertToInteractive('df-f14beaee-dc7b-449e-be33-fa4519e1bc09')\"\n",
              "              title=\"Convert this dataframe to an interactive table.\"\n",
              "              style=\"display:none;\">\n",
              "        \n",
              "  <svg xmlns=\"http://www.w3.org/2000/svg\" height=\"24px\"viewBox=\"0 0 24 24\"\n",
              "       width=\"24px\">\n",
              "    <path d=\"M0 0h24v24H0V0z\" fill=\"none\"/>\n",
              "    <path d=\"M18.56 5.44l.94 2.06.94-2.06 2.06-.94-2.06-.94-.94-2.06-.94 2.06-2.06.94zm-11 1L8.5 8.5l.94-2.06 2.06-.94-2.06-.94L8.5 2.5l-.94 2.06-2.06.94zm10 10l.94 2.06.94-2.06 2.06-.94-2.06-.94-.94-2.06-.94 2.06-2.06.94z\"/><path d=\"M17.41 7.96l-1.37-1.37c-.4-.4-.92-.59-1.43-.59-.52 0-1.04.2-1.43.59L10.3 9.45l-7.72 7.72c-.78.78-.78 2.05 0 2.83L4 21.41c.39.39.9.59 1.41.59.51 0 1.02-.2 1.41-.59l7.78-7.78 2.81-2.81c.8-.78.8-2.07 0-2.86zM5.41 20L4 18.59l7.72-7.72 1.47 1.35L5.41 20z\"/>\n",
              "  </svg>\n",
              "      </button>\n",
              "      \n",
              "  <style>\n",
              "    .colab-df-container {\n",
              "      display:flex;\n",
              "      flex-wrap:wrap;\n",
              "      gap: 12px;\n",
              "    }\n",
              "\n",
              "    .colab-df-convert {\n",
              "      background-color: #E8F0FE;\n",
              "      border: none;\n",
              "      border-radius: 50%;\n",
              "      cursor: pointer;\n",
              "      display: none;\n",
              "      fill: #1967D2;\n",
              "      height: 32px;\n",
              "      padding: 0 0 0 0;\n",
              "      width: 32px;\n",
              "    }\n",
              "\n",
              "    .colab-df-convert:hover {\n",
              "      background-color: #E2EBFA;\n",
              "      box-shadow: 0px 1px 2px rgba(60, 64, 67, 0.3), 0px 1px 3px 1px rgba(60, 64, 67, 0.15);\n",
              "      fill: #174EA6;\n",
              "    }\n",
              "\n",
              "    [theme=dark] .colab-df-convert {\n",
              "      background-color: #3B4455;\n",
              "      fill: #D2E3FC;\n",
              "    }\n",
              "\n",
              "    [theme=dark] .colab-df-convert:hover {\n",
              "      background-color: #434B5C;\n",
              "      box-shadow: 0px 1px 3px 1px rgba(0, 0, 0, 0.15);\n",
              "      filter: drop-shadow(0px 1px 2px rgba(0, 0, 0, 0.3));\n",
              "      fill: #FFFFFF;\n",
              "    }\n",
              "  </style>\n",
              "\n",
              "      <script>\n",
              "        const buttonEl =\n",
              "          document.querySelector('#df-f14beaee-dc7b-449e-be33-fa4519e1bc09 button.colab-df-convert');\n",
              "        buttonEl.style.display =\n",
              "          google.colab.kernel.accessAllowed ? 'block' : 'none';\n",
              "\n",
              "        async function convertToInteractive(key) {\n",
              "          const element = document.querySelector('#df-f14beaee-dc7b-449e-be33-fa4519e1bc09');\n",
              "          const dataTable =\n",
              "            await google.colab.kernel.invokeFunction('convertToInteractive',\n",
              "                                                     [key], {});\n",
              "          if (!dataTable) return;\n",
              "\n",
              "          const docLinkHtml = 'Like what you see? Visit the ' +\n",
              "            '<a target=\"_blank\" href=https://colab.research.google.com/notebooks/data_table.ipynb>data table notebook</a>'\n",
              "            + ' to learn more about interactive tables.';\n",
              "          element.innerHTML = '';\n",
              "          dataTable['output_type'] = 'display_data';\n",
              "          await google.colab.output.renderOutput(dataTable, element);\n",
              "          const docLink = document.createElement('div');\n",
              "          docLink.innerHTML = docLinkHtml;\n",
              "          element.appendChild(docLink);\n",
              "        }\n",
              "      </script>\n",
              "    </div>\n",
              "  </div>\n",
              "  "
            ]
          },
          "metadata": {},
          "execution_count": 35
        }
      ]
    },
    {
      "cell_type": "markdown",
      "source": [
        "We can see that the Standard Deviation in Price and Kilometers are very high, which can indicate that we may have outliers in this dataset that may affect our analysis.\n",
        "\n",
        "In order to check out, we're going to take a closer look at the:\n",
        "\n",
        "1. Median: if the mean is distant from the median, we can have a better understanding of the dataset. If the mean is higher, it means that the top values a more distant from the centre of the distribution. If the mean is lower than the median, it means that the bottom values are more distant than the top values\n",
        "2. Coefficient of Variation: to analyze the degree of dispersion of a data set"
      ],
      "metadata": {
        "id": "NtxtY-Ra0Bhj"
      }
    },
    {
      "cell_type": "code",
      "source": [
        "# median\n",
        "\n",
        "df.loc[:,['Price', 'Year', 'Kilometers']].median()"
      ],
      "metadata": {
        "colab": {
          "base_uri": "https://localhost:8080/"
        },
        "id": "qF88cj4az_Yv",
        "outputId": "979df0e8-4c0a-4f88-d97d-9ffb4c260bee"
      },
      "execution_count": 8,
      "outputs": [
        {
          "output_type": "execute_result",
          "data": {
            "text/plain": [
              "Price         29990.0\n",
              "Year           2016.0\n",
              "Kilometers    88454.0\n",
              "dtype: float64"
            ]
          },
          "metadata": {},
          "execution_count": 8
        }
      ]
    },
    {
      "cell_type": "code",
      "source": [
        "# Coefficient of Variation\n",
        "\n",
        "variation(df.loc[:,['Price', 'Year', 'Kilometers']])"
      ],
      "metadata": {
        "colab": {
          "base_uri": "https://localhost:8080/"
        },
        "id": "OKkvDgv5xpXc",
        "outputId": "8ff6cfff-9d61-41b3-8c5a-3da0f50c1613"
      },
      "execution_count": 9,
      "outputs": [
        {
          "output_type": "execute_result",
          "data": {
            "text/plain": [
              "array([0.82397926, 0.00234259, 0.77893714])"
            ]
          },
          "metadata": {},
          "execution_count": 9
        }
      ]
    },
    {
      "cell_type": "markdown",
      "source": [
        "We can see that the mean is greater than the median, which means that we have numbers at the top of the dataset pulling the mean higher, causing anomalies in the results and getting in the way of the analysis.\n",
        "\n",
        "In addition, the coefficient of variation is extremely high, reinforcing what was shown in the comparison between the mean and median, which means that we have a high variability in the data.\n",
        "\n",
        "Let's see the data in a boxplot to better visualise it."
      ],
      "metadata": {
        "id": "TL0YiFrh3oXZ"
      }
    },
    {
      "cell_type": "code",
      "source": [
        "red_circle = dict(markerfacecolor='red', marker='o', markeredgecolor='white')\n",
        "\n",
        "fix, axs = plt.subplots(1,2, figsize=(20,10))\n",
        "\n",
        "for i, ax in enumerate(axs.flat):\n",
        "  ax.boxplot(df.loc[:,['Price', 'Kilometers']].iloc[:,i], flierprops=red_circle)\n",
        "  ax.set_title(df.loc[:,['Price', 'Kilometers']].columns[i], fontsize=20, fontweight='bold')\n",
        "  ax.tick_params(axis='y', labelsize=14)\n",
        "\n",
        "plt.tight_layout()"
      ],
      "metadata": {
        "colab": {
          "base_uri": "https://localhost:8080/",
          "height": 720
        },
        "id": "pcHfgeOI53Od",
        "outputId": "4e1e94cb-cb3d-48fc-b32a-388c556d3017"
      },
      "execution_count": 33,
      "outputs": [
        {
          "output_type": "display_data",
          "data": {
            "text/plain": [
              "<Figure size 2000x1000 with 2 Axes>"
            ],
            "image/png": "[encoded data removed]"
          },
          "metadata": {}
        }
      ]
    },
    {
      "cell_type": "markdown",
      "source": [
        "Taking into account that the scale is in a million, we have cars with a price of almost a million and cars that have run more than 2 million kilometres. \n",
        "\n",
        "Would this be really true? 2 million kilometres seems a lot for a car to run.\n",
        "\n",
        "We will check it after and see if it seems really right. If it's not, we will take it off and filter properly the dataset.\n",
        "\n",
        "First, since we are looking for the used cars, we will filter them and analyse them separated."
      ],
      "metadata": {
        "id": "77_698ohLiM8"
      }
    },
    {
      "cell_type": "code",
      "source": [
        "df2 = df.copy()\n",
        "\n",
        "df2.Status = df2.Status.str.strip()\n",
        "\n",
        "df2.Status[0]"
      ],
      "metadata": {
        "execution": {
          "iopub.status.busy": "2023-05-20T14:33:52.736497Z",
          "iopub.execute_input": "2023-05-20T14:33:52.736964Z",
          "iopub.status.idle": "2023-05-20T14:33:52.758562Z",
          "shell.execute_reply.started": "2023-05-20T14:33:52.736927Z",
          "shell.execute_reply": "2023-05-20T14:33:52.757590Z"
        },
        "trusted": true,
        "id": "eKi_ig4ih8GE",
        "outputId": "30aeccf0-9232-4bb1-d2fe-e3cd4275f78b",
        "colab": {
          "base_uri": "https://localhost:8080/",
          "height": 36
        }
      },
      "execution_count": 36,
      "outputs": [
        {
          "output_type": "execute_result",
          "data": {
            "text/plain": [
              "'Used'"
            ],
            "application/vnd.google.colaboratory.intrinsic+json": {
              "type": "string"
            }
          },
          "metadata": {},
          "execution_count": 36
        }
      ]
    }
  ]
}