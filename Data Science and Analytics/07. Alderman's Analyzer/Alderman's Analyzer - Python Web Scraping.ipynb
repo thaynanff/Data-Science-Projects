{
 "cells": [
  {
   "cell_type": "markdown",
   "id": "c2ec5c34",
   "metadata": {},
   "source": [
    "# Alderman's Analyzer\n",
    "\n",
    "With this script, we will collect data on alderman's projects from a website of the **City Hall of Indaial**, in the state of Santa Catarina, in Brazil, and create a database, which can have incremental updates and, of course, feed a **Power BI** dashboard.\n",
    "\n",
    "This project was created for the Observatório Social, a project born in Indaial, in Santa Catarina.\n",
    "\n",
    "**Python** will be used for collection and web scrapping and a local **SQL Server** database will be used for data insertion. Later, the data will be consumed to create a dashboard."
   ]
  },
  {
   "cell_type": "markdown",
   "id": "4a35961e",
   "metadata": {},
   "source": [
    "## 1. Understanding the project\n",
    "\n",
    "We intend to create a script that web scraps the City Hall of Indaial site to collect data on suggested measures of public interest from the aldermen to the competent authorities, and, with this, to evaluate their engagement throughout the year."
   ]
  },
  {
   "cell_type": "markdown",
   "id": "f0e47993",
   "metadata": {},
   "source": [
    "The website is going to be https://camaraindaial.sc.gov.br/pg/proposicoes and we will go through the first option, that shows all propositions of each year:\n",
    "\n",
    "<img src=\"Indaial's website.png\" alt=\"Indaial's website\" width=\"800\"/>"
   ]
  },
  {
   "cell_type": "markdown",
   "id": "92dbb15f",
   "metadata": {},
   "source": [
    "When clicking on the link, a list of all propositions will appear, starting by the last one:\n",
    "\n",
    "<img src=\"Propositions.png\" alt=\"Propositions\" width=\"800\"/>"
   ]
  },
  {
   "cell_type": "markdown",
   "id": "cb71343f",
   "metadata": {},
   "source": [
    "Finally, clicking on the first option, which represents the last proposition made, the information we are going to collect will appear:\n",
    "\n",
    "<img src=\"Proposition940.png\" alt=\"Proposition940\" width=\"800\"/>"
   ]
  },
  {
   "cell_type": "markdown",
   "id": "a63f5f59",
   "metadata": {},
   "source": [
    "The information contained on the page is:\n",
    "\n",
    "- The date of the meeting\n",
    "- The current situation of the proposition\n",
    "- The subject of the proposition\n",
    "- The author, and finally\n",
    "- The text that explains what the proposition is about"
   ]
  },
  {
   "cell_type": "markdown",
   "id": "7adf6722-fddc-4a15-8de8-f6a7091a3cd8",
   "metadata": {},
   "source": [
    "### 1.1. Used tools and its versions "
   ]
  },
  {
   "cell_type": "markdown",
   "id": "3315d31a-0b7b-459b-9e54-f2dfada6d16d",
   "metadata": {},
   "source": [
    "We will use these free softwares:\n",
    "\n",
    "- Python in version 3.9.12\n",
    "    - Specific libraries in this projetc:\n",
    "        - pip install beautifulsoup4==4.11.1\n",
    "        - pip install pandas==1.4.2\n",
    "        - pip install requests==2.27.1\n",
    "        - pip install beautifulsoup4==4.11.1\n",
    "- SQL Server Developer Edition (mos recent version)\n",
    "- SSMS - Microsoft Management Studio (most recent version)"
   ]
  },
  {
   "cell_type": "markdown",
   "id": "bebe8928",
   "metadata": {},
   "source": [
    "## 2. Getting started"
   ]
  },
  {
   "cell_type": "markdown",
   "id": "8f1866ad",
   "metadata": {},
   "source": [
    "Let's start by creating the variable that will serve as the user agent for our web scrap.\n",
    "\n",
    "The \"user-agent\" is the identification that the browser passes to the websites and that they use to deliver the appropriate support or layout."
   ]
  },
  {
   "cell_type": "code",
   "execution_count": 1,
   "id": "05b7d0b5",
   "metadata": {},
   "outputs": [],
   "source": [
    "agent = 'Mozilla/5.0 (Windows NT 10.0; Win64; x64) AppleWebKit/537.36 (KHTML, like Gecko) Chrome/108.0.0.0 Safari/537.36'"
   ]
  },
  {
   "cell_type": "markdown",
   "id": "c3c8d2b7",
   "metadata": {},
   "source": [
    "After, let's import the libraries we will use to web scrap the information:"
   ]
  },
  {
   "cell_type": "code",
   "execution_count": 2,
   "id": "56997ae3",
   "metadata": {},
   "outputs": [],
   "source": [
    "import pandas as pd\n",
    "\n",
    "from urllib.request import Request, urlopen\n",
    "\n",
    "# to connect to the SQL Server\n",
    "import pyodbc\n",
    "\n",
    "# to parse the HTML\n",
    "import bs4"
   ]
  },
  {
   "cell_type": "markdown",
   "id": "59806e06",
   "metadata": {},
   "source": [
    "### 2.1. Taking a look at the HTML"
   ]
  },
  {
   "cell_type": "markdown",
   "id": "45156b06",
   "metadata": {},
   "source": [
    "Now, let's take a look at how the information comes when we make a request. In order to see in a more beautiful way, we will use the ```prettify``` function in the BeautifulSoup library."
   ]
  },
  {
   "cell_type": "code",
   "execution_count": 3,
   "id": "acb3d7ed",
   "metadata": {
    "scrolled": true
   },
   "outputs": [
    {
     "name": "stdout",
     "output_type": "stream",
     "text": [
      "<!DOCTYPE html>\n",
      "<html>\n",
      " <head>\n",
      "  <meta charset=\"utf-8\"/>\n",
      "  <meta content=\"width=device-width, initial-scale=1, shrink-to-fit=no\" name=\"viewport\"/>\n",
      "  <link href=\"legis.ico\" rel=\"shortcut icon\" type=\"image/x-ico\"/>\n",
      "  <title>\n",
      "   Câmara Municipal de Indaial _ Indicação nº 940/2022 de 05/12/2022\n",
      "  </title>\n",
      "  <meta content=\"Câmara Municipal de Indaial _ Indicação nº 940/2022 de 05/12/2022\" name=\"description\">\n",
      "   <link href=\"css/geral3.css\" rel=\"stylesheet\"/>\n",
      "   <link href=\"https://d11gitgevq44cw.cloudfront.net/libs/font-awesome/5x/css/all.min.css\" rel=\"stylesheet\"/>\n",
      "   <link crossorigin=\"anonymous\" href=\"https://maxcdn.bootstrapcdn.com/bootstrap/4.0.0/css/bootstrap.min.css\" integrity=\"sha384-Gn5384xqQ1aoWXA+058RXPxPg6fy4IWvTNh0E263XmFcJlSAwiGgFAW/dAiS6JXm\" rel=\"stylesheet\"/>\n",
      "   <script crossorigin=\"anonymous\" integrity=\"sha256-FgpCb/KJQlLNfOu91ta32o/NMZxltwRo8QtmkMRdAu8=\" src=\"https://code.jquery.com/jquery-3.3.1.min.js\">\n",
      "   </script>\n",
      "   <script crossorigin=\"anonymous\" integrity=\"sha384-ApNbgh9B+Y1QKtv3Rn7W3mgPxhU9K/ScQsAP7hUibX39j7fakFPskvXusvfa0b4Q\" src=\"https://cdnjs.cloudflare.com/ajax/libs/popper.js/1.12.9/umd/popper.min.js\">\n",
      "   </script>\n",
      "   <script crossorigin=\"anonymous\" integrity=\"sha384-JZR6Spejh4U02d8jOt6vLEHfe/JQGiRRSQQxSfFWpi1MquVdAyjUar5+76PVCmYl\" src=\"https://maxcdn.bootstrapcdn.com/bootstrap/4.0.0/js/bootstrap.min.js\">\n",
      "   </script>\n",
      "   <script type=\"text/javascript\">\n",
      "    $(document).ready(function(){\r\n",
      "\t\t$.fn.goTo = function(){\r\n",
      "\t\t\tvar vTop=$(this).offset().top-100;\r\n",
      "\t\t\t$('html, body').animate({scrollTop:vTop+'px'},400);\r\n",
      "\t\t\treturn this;\r\n",
      "\t\t}\r\n",
      "  });\n",
      "   </script>\n",
      "  </meta>\n",
      " </head>\n",
      " <body class=\"imprimirTexto\">\n",
      "  <header>\n",
      "   <div class=\"container\">\n",
      "    <!-- cabeçalho -->\n",
      "    <div class=\"row align-items-center mb-2\" id=\"idCab\">\n",
      "     <div class=\"col-2 text-center d-none d-lg-block d-xl-block\" id=\"idLogo1\">\n",
      "      <span id=\"imgLogo1\">\n",
      "      </span>\n",
      "     </div>\n",
      "     <div class=\"col text-center\">\n",
      "      <h2 id=\"dsCli\">\n",
      "       <span>\n",
      "        Câmara Municipal de Indaial\n",
      "       </span>\n",
      "      </h2>\n",
      "     </div>\n",
      "     <div class=\"col-2 text-center d-none d-lg-block d-xl-block\" id=\"idLogo2\">\n",
      "      <span id=\"imgLogo2\">\n",
      "      </span>\n",
      "     </div>\n",
      "    </div>\n",
      "    <script>\n",
      "     function isframe(){\r\n",
      "\t\t\t\t\tif(parent.frames.length!=0){return true;}\r\n",
      "\t\t\t\t\telse{return false;}\r\n",
      "\t\t\t\t}\r\n",
      "\t\t\t\tfunction semFrame(aHTTP){\r\n",
      "\t\t\t\t\tif(isframe()){parent.location=aHTTP}\r\n",
      "\t\t\t\t\telse{window.open(aHTTP,'_self')}\r\n",
      "\t\t\t\t}\r\n",
      "\t\t\t\tfunction ctrlFrame(){\r\n",
      "\t\t\t\t\tif(isframe()){\r\n",
      "\t\t\t\t\t\tvar _el = document.getElementById(\"idCab\");\r\n",
      "\t\t\t\t\t\tif(_el){_el.style.display = \"none\";}\r\n",
      "\t\t\t\t\t}\r\n",
      "\t\t\t\t}\r\n",
      "\t\t\t\tctrlFrame();\n",
      "    </script>\n",
      "   </div>\n",
      "  </header>\n",
      "  <section class=\"container\">\n",
      "   <div class=\"card\">\n",
      "    <div class=\"card-header\">\n",
      "     <h5 class=\"card-title\">\n",
      "      Indicação nº 940/2022\n",
      "     </h5>\n",
      "     <h6 class=\"card-subtitle mb-2 text-muted\">\n",
      "      de 05/12/2022\n",
      "     </h6>\n",
      "    </div>\n",
      "    <div class=\"card-body\">\n",
      "     <div class=\"row\">\n",
      "      <div class=\"col-lg\">\n",
      "       <dl class=\"row\">\n",
      "        <dt class=\"col-sm-3\">\n",
      "         Reunião\n",
      "        </dt>\n",
      "        <dd class=\"col-sm-9\">\n",
      "         05/12/2022\n",
      "        </dd>\n",
      "        <dt class=\"col-sm-3\">\n",
      "         Situação\n",
      "        </dt>\n",
      "        <dd class=\"col-sm-9\">\n",
      "         Entrada no Expediente\n",
      "        </dd>\n",
      "        <dt class=\"col-sm-3\">\n",
      "         Assunto\n",
      "        </dt>\n",
      "        <dd class=\"col-sm-9\">\n",
      "         Manutenção de via pública\n",
      "        </dd>\n",
      "        <dt class=\"col-sm-3\">\n",
      "         Autor\n",
      "        </dt>\n",
      "        <dd class=\"col-sm-9\">\n",
      "         Vereador\n",
      "         <br/>\n",
      "         <b>\n",
      "          Elton Marcos Possamai\n",
      "         </b>\n",
      "         .\n",
      "        </dd>\n",
      "       </dl>\n",
      "      </div>\n",
      "      <!-- class=fim-col-lg  -->\n",
      "      <div class=\"col-lg-5\">\n",
      "       <span class=\"btn btn-outline-secondary btn-block d-flex\" onclick=\"carregarAD(3,3,'1,3,2,1,940,2022,1,0,0,1');return false;\" title=\"Documento Oficial (Assinatura Digital)\">\n",
      "        <i class=\"fas fa-file-contract\">\n",
      "         Documento Oficial\n",
      "        </i>\n",
      "       </span>\n",
      "      </div>\n",
      "     </div>\n",
      "     <!-- class=fim-row -->\n",
      "    </div>\n",
      "    <div class=\"card-header\">\n",
      "     <h5 class=\"card-title\">\n",
      "      Texto\n",
      "     </h5>\n",
      "    </div>\n",
      "    <div class=\"card-body\">\n",
      "     <p class=\"card-text\">\n",
      "      O vereador abaixo firmado requer encaminhamento de cópia da presente Indicação à Secretaria de Urbanização e Meio Ambiente solicitando manutenção (fechar buraco) na avenida Brasil, trecho próximo à rua Corupá, Rio Morto.\n",
      "     </p>\n",
      "    </div>\n",
      "   </div>\n",
      "   <!-- fim card -->\n",
      "  </section>\n",
      "  <script src=\"js/enquete.js\">\n",
      "  </script>\n",
      "  <footer>\n",
      "   <div class=\"d-flex flex-row-reverse rodape d-print-none\">\n",
      "    <div class=\"m-1\">\n",
      "     Direitos Autorais\n",
      "     <sup>\n",
      "      ©\n",
      "     </sup>\n",
      "     2001\n",
      "     <a href=\"http://www.lancer.com.br\" target=\"_blank\">\n",
      "      Lancer\n",
      "     </a>\n",
      "     <br/>\n",
      "     Legislador\n",
      "     <sup>\n",
      "      ®\n",
      "     </sup>\n",
      "     WEB - Desenvolvido por\n",
      "     <a href=\"http://www.lancer.com.br\" target=\"_blank\">\n",
      "      Lancer\n",
      "     </a>\n",
      "    </div>\n",
      "    <div class=\"m-1\">\n",
      "     versão do sistema 2.7.9\n",
      "     <br/>\n",
      "     58 - 14:22 01/12/2022\n",
      "    </div>\n",
      "   </div>\n",
      "  </footer>\n",
      "  <div id=\"imgAdicional\">\n",
      "  </div>\n",
      "  <script src=\"js/cookie.js\">\n",
      "  </script>\n",
      "  <div aria-hidden=\"true\" class=\"modal\" id=\"idDownloadProgresso\" tabindex=\"-1\">\n",
      "   <div class=\"modal-dialog modal-sm modal-dialog-centered\">\n",
      "    <div class=\"modal-content\">\n",
      "     <div class=\"modal-body\">\n",
      "      <span class=\"btn btn-light btn-block disabled\">\n",
      "       <i class=\"fas fa-download\">\n",
      "        Carregando arquivo ...\n",
      "       </i>\n",
      "      </span>\n",
      "      <div class=\"progress\">\n",
      "       <div class=\"progress-bar progress-bar-striped progress-bar-animated\" role=\"progressbar\" style=\"width:100%;\">\n",
      "       </div>\n",
      "      </div>\n",
      "     </div>\n",
      "    </div>\n",
      "   </div>\n",
      "  </div>\n",
      "  <script>\n",
      "   /* Google Analytics */\r\n",
      "\tfunction WCI(){\r\n",
      "\t\tlet _href=window.location.href;\r\n",
      "\t\t_href=_href.indexOf('&')==-1?_href.slice(_href.indexOf('WCI')+4):_href.slice(_href.indexOf('WCI')+4,_href.indexOf('&'));\r\n",
      "\t\treturn '/WCI/C00003/'+_href.toUpperCase();\r\n",
      "\t}\r\n",
      "\t(function(i,s,o,g,r,a,m){i['GoogleAnalyticsObject']=r;i[r]=i[r]||function(){\r\n",
      "\t(i[r].q=i[r].q||[]).push(arguments)},i[r].l=1*new Date();a=s.createElement(o),\r\n",
      "\tm=s.getElementsByTagName(o)[0];a.async=1;a.src=g;m.parentNode.insertBefore(a,m)\r\n",
      "\t})(window,document,'script','https://www.google-analytics.com/analytics.js','ga');\r\n",
      "\t\r\n",
      "\tga('create', 'UA-905256-1', 'auto');\r\n",
      "\tga('send', 'pageview',WCI());\n",
      "  </script>\n",
      "  <section>\n",
      "   <h5 class=\"fixed-bottom p-3 w-100 bg-warning visible text-center\" id=\"idLGPD\" style=\"z-index:1000;\">\n",
      "    <p>\n",
      "     Usamos cookies e tecnologias semelhantes para melhorar sua experiência neste site.\n",
      "     <p>\n",
      "      Ao utilizar nossos serviços, você concorda com esse monitoramento.\n",
      "      <div>\n",
      "       <a class=\"btn btn-success m-2\" href=\"https://www.legislador.com.br/LGPD\" target=\"_blank\">\n",
      "        Política de privacidade\n",
      "       </a>\n",
      "       <button aria-pressed=\"false\" class=\"btn btn-success m-2\" data-toggle=\"button\" onclick=\"okLGPD();\" type=\"button\">\n",
      "        Aceito\n",
      "       </button>\n",
      "      </div>\n",
      "     </p>\n",
      "    </p>\n",
      "   </h5>\n",
      "   <script>\n",
      "    function okLGPD(){\r\n",
      "\t\t\tlet _idLGPD=document.getElementById('idLGPD');\r\n",
      "\t\t\t_idLGPD.className = 'invisible'\r\n",
      "\t\t\tcookieCriar('LGPD','OK',365);\r\n",
      "\t\t}\r\n",
      "\t\tif(cookieLer('LGPD')=='OK'){\r\n",
      "\t\t\tokLGPD();\r\n",
      "\t\t}\n",
      "   </script>\n",
      "  </section>\n",
      "  <script type=\"text/javascript\">\n",
      "   function verOcultar(_id){\r\n",
      "\t\tvar _el=document.getElementById(_id).style;\r\n",
      "\t\t_el.display==='none'?_el.display='block':_el.display='none';\r\n",
      "\t}\r\n",
      "\tvar FF=navigator.userAgent.toLowerCase().indexOf('firefox')>0;\r\n",
      "\tvar vDominio=window.location.href.toLowerCase();\r\n",
      "\tvDominio=vDominio.slice(0,vDominio.lastIndexOf('legisladorweb.asp'));\r\n",
      "\tfunction pageRequest(){\r\n",
      "\t\tvar page_request=false;\r\n",
      "\t\tif (window.XMLHttpRequest){ // if Mozilla, Safari etc\r\n",
      "\t\t\tpage_request=new XMLHttpRequest();\r\n",
      "\t\t\tif (page_request.overrideMimeType) {page_request.overrideMimeType('text/xml');}\r\n",
      "\t\t}\r\n",
      "\t\telse if (window.ActiveXObject){ // if IE\r\n",
      "\t\t\ttry {page_request=new ActiveXObject('Msxml2.XMLHTTP')}\r\n",
      "\t\t\tcatch (e){\r\n",
      "\t\t\t\ttry{page_request=new ActiveXObject('Microsoft.XMLHTTP')}\r\n",
      "\t\t\t\tcatch (e){}\r\n",
      "\t\t\t}\r\n",
      "\t\t}\r\n",
      "\t\telse return false;\r\n",
      "\t\treturn page_request;\r\n",
      "\t}\r\n",
      "\tfunction carregarURL(argURL, argPR){\r\n",
      "\t\t$('#idDownloadProgresso').modal('show');\r\n",
      "\t\targPR.onreadystatechange=function(){\r\n",
      "\t\t\tif (argPR.readyState==4){\r\n",
      "\t\t\t\tif (argPR.status==200){\r\n",
      "\t\t\t\t\tvar retorno = argPR.responseText;\r\n",
      "\t\t\t\t\t$('#idDownloadProgresso').modal('hide');\r\n",
      "\t\t\t\t\tlet _iOS = navigator.userAgent.match(/iPhone|iPad|iPod/i);\r\n",
      "\t\t\t\t\tif(_iOS){return window.location.href = retorno};\r\n",
      "\t\t\t\t\tvar mWin=window.open(retorno);\r\n",
      "\t\t\t\t\tmWin.focus();\r\n",
      "\t\t\t\t}\r\n",
      "\t\t\t}\r\n",
      "\t\t}\r\n",
      "\t\targPR.open('GET', argURL, true);\r\n",
      "\t\targPR.setRequestHeader('Cache-Control', 'no-store, no-cache, must-revalidate');\r\n",
      "\t\targPR.setRequestHeader('Cache-Control', 'post-check=0, pre-check=0');\r\n",
      "\t\targPR.setRequestHeader('Pragma', 'no-cache');\r\n",
      "\t\targPR.send(null);\r\n",
      "\t}\r\n",
      "\r\n",
      "\tfunction carregarPDFx(argID,argINDocAssociado,argTPDocAssociado,argNRDocAssociado,argAADocAssociado){\r\n",
      "\t\tvar oAtual=pageRequest();\r\n",
      "\t\tvar vURL=vDominio+'LegisladorWEB.ASP?WCI=carregarPDF&ID=' + argID + '&inDocAssociado=' + argINDocAssociado + '&tpDocAssociado=' + argTPDocAssociado + '&nrDocAssociado=' + argNRDocAssociado + '&aaDocAssociado=' + argAADocAssociado\r\n",
      "\t\t\tcarregarURL(vURL,oAtual);\r\n",
      "\t}\r\n",
      "\tfunction carregarAnexoDOC(argID,argINDocAssociado,argTPDocAssociado,argNRDocAssociado,argAADocAssociado,argNRSequencia, argAD){\r\n",
      "\t\tvar oAtual=pageRequest();\r\n",
      "\t\tvar vURL=vDominio+'LegisladorWEB.ASP?WCI=AnexoDOC&ID=' + argID + '&inDocAssociado=' + argINDocAssociado + '&tpDocAssociado=' + argTPDocAssociado + '&nrDocAssociado=' + argNRDocAssociado + '&aaDocAssociado=' + argAADocAssociado + '&nrSequencia=' + argNRSequencia + '&inAD=' + argAD\r\n",
      "\t\tcarregarURL(vURL,oAtual);\r\n",
      "\t}\r\n",
      "\r\n",
      "\tfunction carregarAD(argID,argIDDoc,argDoc){\r\n",
      "\t\tvar oAtual=pageRequest();\r\n",
      "\t\tvar vURL=vDominio + 'LegisladorWEB.ASP?WCI=carregarAD&id=' + argID + '&idDoc=' + argIDDoc + '&doc='+ argDoc;\r\n",
      "\t\tcarregarURL(vURL,oAtual);\r\n",
      "\t}\r\n",
      "\r\n",
      "\tfunction carregarVotacaoPDF(_ID,_IdVotacao){\r\n",
      "\t\tlet oAtual=pageRequest();\r\n",
      "\t\tlet vURL=vDominio+'LegisladorWEB.ASP?WCI=carregarVotacao&id='+_ID+'&idvotacao='+_IdVotacao;\r\n",
      "\t\tcarregarURL(vURL,oAtual);\r\n",
      "\t}\r\n",
      "\r\n",
      "\tfunction carregarFotoPDF(_ID,_Doc){\r\n",
      "\t\tlet oAtual=pageRequest();\r\n",
      "\t\tlet vURL=vDominio+'LegisladorWEB.ASP?WCI=carregarFoto&id='+_ID+'&doc='+_Doc;\r\n",
      "\t\tcarregarURL(vURL,oAtual);\r\n",
      "\t}\n",
      "  </script>\n",
      "  <script type=\"text/javascript\">\n",
      "   function fullscreen(url){\r\n",
      "\t\tlet _iOS = navigator.userAgent.match(/iPhone|iPad|iPod/i);\r\n",
      "\t\tif(_iOS){return window.location.href = url};\r\n",
      "\t\treturn window.open(url);\r\n",
      "\t}\n",
      "  </script>\n",
      " </body>\n",
      "</html>\n",
      "\n"
     ]
    }
   ],
   "source": [
    "# creating the url variable\n",
    "url='https://www.legislador.com.br//LegisladorWEB.ASP?WCI=ProposicaoTexto&ID=3&TPProposicao=1&nrProposicao=940&aaProposicao=2022'\n",
    "\n",
    "# loading the agent that will be used in the request\n",
    "headers = {'User-Agent': agent}\n",
    "\n",
    "# executing the query\n",
    "req = Request(url, headers = headers)\n",
    "response = urlopen(req)\n",
    "\n",
    "print(bs4.BeautifulSoup(response, 'html.parser').prettify())"
   ]
  },
  {
   "cell_type": "markdown",
   "id": "89ab5821",
   "metadata": {},
   "source": [
    "### 2.2. Finding the information we need"
   ]
  },
  {
   "cell_type": "markdown",
   "id": "29cb3f83",
   "metadata": {
    "tags": []
   },
   "source": [
    "If we take a closer look at the HTML's tags, the information we need is in the tags ```dt```, ```dd``` and ```p```. So, this way, it will be easier to get the information we need, because we already know where they are.\n",
    "\n",
    "Let's creat a function that will execute the query for us anytime we need it, and a function to parse the HTLM:"
   ]
  },
  {
   "cell_type": "code",
   "execution_count": 4,
   "id": "a01366eb",
   "metadata": {},
   "outputs": [],
   "source": [
    "# creating a function that will execute the query for us\n",
    "\n",
    "def WebRequest(url):\n",
    "    req = Request(url, headers = headers)\n",
    "    response = urlopen(req)\n",
    "    return response.read()"
   ]
  },
  {
   "cell_type": "code",
   "execution_count": 5,
   "id": "38a654ea",
   "metadata": {},
   "outputs": [],
   "source": [
    "# creating a function to parse and read the HTML\n",
    "\n",
    "def parse_html(url):\n",
    "    html = WebRequest(url)\n",
    "    soup = bs4.BeautifulSoup(html, 'html.parser')    \n",
    "    return soup"
   ]
  },
  {
   "cell_type": "code",
   "execution_count": 6,
   "id": "4320dd43",
   "metadata": {},
   "outputs": [],
   "source": [
    "html = parse_html(url)"
   ]
  },
  {
   "cell_type": "code",
   "execution_count": 7,
   "id": "6009014f",
   "metadata": {
    "scrolled": true
   },
   "outputs": [
    {
     "data": {
      "text/plain": [
       "[<dt class=\"col-sm-3\">Reunião</dt>,\n",
       " <dt class=\"col-sm-3\">Situação</dt>,\n",
       " <dt class=\"col-sm-3\">Assunto</dt>,\n",
       " <dt class=\"col-sm-3\">Autor</dt>]"
      ]
     },
     "execution_count": 7,
     "metadata": {},
     "output_type": "execute_result"
    }
   ],
   "source": [
    "# the information's title\n",
    "\n",
    "html.findAll('dt')"
   ]
  },
  {
   "cell_type": "code",
   "execution_count": 8,
   "id": "cdc5a17d",
   "metadata": {},
   "outputs": [
    {
     "name": "stdout",
     "output_type": "stream",
     "text": [
      "Reunião\n",
      "Situação\n",
      "Assunto\n",
      "Autor\n"
     ]
    }
   ],
   "source": [
    "# getting just the text\n",
    "\n",
    "for i in html.findAll('dt'):\n",
    "    print(i.get_text())"
   ]
  },
  {
   "cell_type": "code",
   "execution_count": 9,
   "id": "10aa8a73",
   "metadata": {},
   "outputs": [
    {
     "data": {
      "text/plain": [
       "[<dd class=\"col-sm-9\">05/12/2022</dd>,\n",
       " <dd class=\"col-sm-9\">Entrada no Expediente</dd>,\n",
       " <dd class=\"col-sm-9\">Manutenção de via pública</dd>,\n",
       " <dd class=\"col-sm-9\">Vereador <br/><b>Elton Marcos Possamai</b>.</dd>]"
      ]
     },
     "execution_count": 9,
     "metadata": {},
     "output_type": "execute_result"
    }
   ],
   "source": [
    "# the information's content\n",
    "\n",
    "html.find_all('dd')"
   ]
  },
  {
   "cell_type": "code",
   "execution_count": 10,
   "id": "248abd7e",
   "metadata": {},
   "outputs": [
    {
     "name": "stdout",
     "output_type": "stream",
     "text": [
      "05/12/2022\n",
      "Entrada no Expediente\n",
      "Manutenção de via pública\n",
      "Vereador Elton Marcos Possamai.\n"
     ]
    }
   ],
   "source": [
    "# getting just the text\n",
    "\n",
    "for i in html.findAll('dd'):\n",
    "    print(i.get_text())"
   ]
  },
  {
   "cell_type": "markdown",
   "id": "a8735704",
   "metadata": {},
   "source": [
    "### 2.3. Collecting the content\n",
    "\n",
    "Now that we know where the information is, let's create a function that you iterate through the HTML and put it into a dictionary."
   ]
  },
  {
   "cell_type": "code",
   "execution_count": 11,
   "id": "dd082704",
   "metadata": {},
   "outputs": [],
   "source": [
    "# creating a function to get the content of the page\n",
    "\n",
    "def get_content(html):\n",
    "    dt = html.find_all('dt')\n",
    "    dd = html.find_all('dd')\n",
    "    dic = {}\n",
    "    for i in range(len(dt)):\n",
    "        x = dt[i].get_text()\n",
    "        y = dd[i].get_text()\n",
    "        dic[x] = y\n",
    "    return dic"
   ]
  },
  {
   "cell_type": "code",
   "execution_count": 12,
   "id": "dca91019",
   "metadata": {},
   "outputs": [
    {
     "data": {
      "text/plain": [
       "{'Reunião': '05/12/2022',\n",
       " 'Situação': 'Entrada no Expediente',\n",
       " 'Assunto': 'Manutenção de via pública',\n",
       " 'Autor': 'Vereador Elton Marcos Possamai.'}"
      ]
     },
     "execution_count": 12,
     "metadata": {},
     "output_type": "execute_result"
    }
   ],
   "source": [
    "# visualising the results\n",
    "\n",
    "get_content(html)"
   ]
  },
  {
   "cell_type": "markdown",
   "id": "0ab3c39f",
   "metadata": {},
   "source": [
    "#### 2.3.1. Improving the ```get_content``` function\n",
    "\n",
    "We also need to have the year and number of the proposition, so we will implement an improvement to the last function to put this information into the dictionary.\n",
    "\n",
    "Additionally, we will implement an improvement that change the url by itself, that is, that changes the page we are. But how to do it?\n",
    "\n",
    "If we pay closer attention to the url, at the end, we see that the year and number of the proposition are there:\n",
    "\n",
    "<img src=\"url.png\" alt=\"url\" width=\"800\"/>"
   ]
  },
  {
   "cell_type": "markdown",
   "id": "a90404b6",
   "metadata": {},
   "source": [
    "Therefore, we will also implement an improvement to change the number of the year and the proposition to whatever we want.\n",
    "\n",
    "Also, we will complete the information we need inserting the number of the proposition, the year and the text that explains what the proposition is about:"
   ]
  },
  {
   "cell_type": "code",
   "execution_count": 13,
   "id": "03598e17",
   "metadata": {},
   "outputs": [],
   "source": [
    "def get_fullcontent(prop, year):\n",
    "    url = 'https://www.legislador.com.br//LegisladorWEB.ASP?WCI=ProposicaoTexto&ID=3&TPProposicao=1&nrProposicao='+str(prop)+'&aaProposicao='+str(year)\n",
    "    html = parse_html(url)\n",
    "    dic = get_content(html)                                                                                           \n",
    "    dic['Proposição'] = prop\n",
    "    dic['Ano'] = year\n",
    "    dic['Texto'] = html.p.get_text()\n",
    "    return dic"
   ]
  },
  {
   "cell_type": "code",
   "execution_count": 14,
   "id": "34b291c6",
   "metadata": {
    "scrolled": true
   },
   "outputs": [
    {
     "data": {
      "text/plain": [
       "{'Reunião': '05/12/2022',\n",
       " 'Situação': 'Entrada no Expediente',\n",
       " 'Assunto': 'Limpeza, Macadamização, Patrolamento, Retificação; Alargamento',\n",
       " 'Autor': 'Vereador Flávio Augusto Ferri Molinari.',\n",
       " 'Proposição': 937,\n",
       " 'Ano': 2022,\n",
       " 'Texto': 'O vereador que esta subscreve, no uso das atribuições que lhe confere o Regimento Interno desta Casa Legislativa, vem requerer encaminhamento de cópia da presente Indicação à Secretaria de Obras sugerindo o exposto a seguir: Macadamização, patrolamento e, sobretudo, fechamento de valetas geradas por chuvas na rua Ervino Schroeder, Encano Baixo. A pedido dos moradores.'}"
      ]
     },
     "execution_count": 14,
     "metadata": {},
     "output_type": "execute_result"
    }
   ],
   "source": [
    "get_fullcontent(937,2022)"
   ]
  },
  {
   "cell_type": "markdown",
   "id": "57baa7bd",
   "metadata": {},
   "source": [
    "### 2.4. Query loop\n",
    "\n",
    "Now, that we have the function to query the whole information we need, we will create a loop to query as many propositions we want."
   ]
  },
  {
   "cell_type": "code",
   "execution_count": 15,
   "id": "1467c6e7",
   "metadata": {},
   "outputs": [],
   "source": [
    "def query_loop(start, quantity, year, possible_erros = 2, waitime = 0.5):\n",
    "    import time\n",
    "    \n",
    "    last_query = start + quantity -1\n",
    "    \n",
    "    # erros\n",
    "    erros = 0\n",
    "    \n",
    "    # variables fot the loop\n",
    "    props = []\n",
    "    \n",
    "    while start <= last_query and erros <= possible_erros:\n",
    "        try:\n",
    "            x = get_fullcontent(start,year)\n",
    "            x['Situação'] # if there's no key named 'Situação', it means that the page is empty\n",
    "            props = props + [get_fullcontent(start,year)]\n",
    "        except:\n",
    "            erros += 1\n",
    "            pass\n",
    "        \n",
    "        time.sleep(waitime)\n",
    "        \n",
    "        start += 1\n",
    "    \n",
    "    return pd.DataFrame(props)"
   ]
  },
  {
   "cell_type": "markdown",
   "id": "6c62fa14",
   "metadata": {},
   "source": [
    "## 3. Conecting to SQL Server\n",
    "\n",
    "After creating the database and the table in SQL Server, we will proceed generating the connection with the SQL Server."
   ]
  },
  {
   "cell_type": "code",
   "execution_count": 16,
   "id": "655b05b6",
   "metadata": {
    "scrolled": true
   },
   "outputs": [
    {
     "name": "stderr",
     "output_type": "stream",
     "text": [
      "C:\\Users\\thayn\\anaconda3\\lib\\site-packages\\pandas\\io\\sql.py:761: UserWarning: pandas only support SQLAlchemy connectable(engine/connection) ordatabase string URI or sqlite3 DBAPI2 connectionother DBAPI2 objects are not tested, please consider using SQLAlchemy\n",
      "  warnings.warn(\n"
     ]
    },
    {
     "data": {
      "text/html": [
       "<div>\n",
       "<style scoped>\n",
       "    .dataframe tbody tr th:only-of-type {\n",
       "        vertical-align: middle;\n",
       "    }\n",
       "\n",
       "    .dataframe tbody tr th {\n",
       "        vertical-align: top;\n",
       "    }\n",
       "\n",
       "    .dataframe thead th {\n",
       "        text-align: right;\n",
       "    }\n",
       "</style>\n",
       "<table border=\"1\" class=\"dataframe\">\n",
       "  <thead>\n",
       "    <tr style=\"text-align: right;\">\n",
       "      <th></th>\n",
       "      <th>DataReuniao</th>\n",
       "      <th>DataDeliberacao</th>\n",
       "      <th>Situacao</th>\n",
       "      <th>Assunto</th>\n",
       "      <th>Autor</th>\n",
       "      <th>Proposicao</th>\n",
       "      <th>Ano</th>\n",
       "      <th>Texto</th>\n",
       "    </tr>\n",
       "  </thead>\n",
       "  <tbody>\n",
       "    <tr>\n",
       "      <th>0</th>\n",
       "      <td>1996-02-22</td>\n",
       "      <td>1996-02-22</td>\n",
       "      <td>Proposição Aprovada</td>\n",
       "      <td>Serviços e Obras</td>\n",
       "      <td>Vereador Henrique Fritz.</td>\n",
       "      <td>1</td>\n",
       "      <td>1996</td>\n",
       "      <td>construção de Escola de 1º grau no Bairro Nova...</td>\n",
       "    </tr>\n",
       "    <tr>\n",
       "      <th>1</th>\n",
       "      <td>1996-02-22</td>\n",
       "      <td>1996-02-22</td>\n",
       "      <td>Proposição Aprovada</td>\n",
       "      <td>Serviços e Obras</td>\n",
       "      <td>Vereador Henrique Fritz.</td>\n",
       "      <td>2</td>\n",
       "      <td>1996</td>\n",
       "      <td>construção de Escola nas imediações dos Loteam...</td>\n",
       "    </tr>\n",
       "    <tr>\n",
       "      <th>2</th>\n",
       "      <td>1996-02-22</td>\n",
       "      <td>1996-02-22</td>\n",
       "      <td>Proposição Aprovada</td>\n",
       "      <td>Limpeza, Macadamização, Patrolamento, Retifica...</td>\n",
       "      <td>Vereador Henrique Fritz.</td>\n",
       "      <td>3</td>\n",
       "      <td>1996</td>\n",
       "      <td>alargamento da Rua ID 90                      ...</td>\n",
       "    </tr>\n",
       "    <tr>\n",
       "      <th>3</th>\n",
       "      <td>1996-02-22</td>\n",
       "      <td>1996-02-22</td>\n",
       "      <td>Proposição Aprovada</td>\n",
       "      <td>Rede de Água / Esgoto / Pluvial</td>\n",
       "      <td>Vereador Henrique Fritz.</td>\n",
       "      <td>4</td>\n",
       "      <td>1996</td>\n",
       "      <td>prolongamento da rede d'água na Rua Reinhold S...</td>\n",
       "    </tr>\n",
       "    <tr>\n",
       "      <th>4</th>\n",
       "      <td>1996-02-22</td>\n",
       "      <td>1996-02-22</td>\n",
       "      <td>Proposição Aprovada</td>\n",
       "      <td>Rede de Água / Esgoto / Pluvial</td>\n",
       "      <td>Vereador Henrique Fritz.</td>\n",
       "      <td>5</td>\n",
       "      <td>1996</td>\n",
       "      <td>Prolongamento de rede d'água na Rua Lorenz até...</td>\n",
       "    </tr>\n",
       "    <tr>\n",
       "      <th>...</th>\n",
       "      <td>...</td>\n",
       "      <td>...</td>\n",
       "      <td>...</td>\n",
       "      <td>...</td>\n",
       "      <td>...</td>\n",
       "      <td>...</td>\n",
       "      <td>...</td>\n",
       "      <td>...</td>\n",
       "    </tr>\n",
       "    <tr>\n",
       "      <th>28578</th>\n",
       "      <td>1996-10-17</td>\n",
       "      <td>1996-10-17</td>\n",
       "      <td>Proposição Aprovada</td>\n",
       "      <td>Diversos</td>\n",
       "      <td>Vereador Sílvio Gonçalves da Luz.</td>\n",
       "      <td>395</td>\n",
       "      <td>1996</td>\n",
       "      <td>Efetuar melhorias na rede elétrica do Beco Rau...</td>\n",
       "    </tr>\n",
       "    <tr>\n",
       "      <th>28579</th>\n",
       "      <td>1996-10-21</td>\n",
       "      <td>1996-10-21</td>\n",
       "      <td>Proposição Aprovada</td>\n",
       "      <td>Diversos</td>\n",
       "      <td>Vereador Antônio Carlos Fink.</td>\n",
       "      <td>396</td>\n",
       "      <td>1996</td>\n",
       "      <td>Alterar o artigo 1º da Lei nº 1.255/82, que in...</td>\n",
       "    </tr>\n",
       "    <tr>\n",
       "      <th>28580</th>\n",
       "      <td>1996-10-29</td>\n",
       "      <td>1996-10-29</td>\n",
       "      <td>Proposição Aprovada</td>\n",
       "      <td>Diversos</td>\n",
       "      <td>Vereador Henrique Fritz.</td>\n",
       "      <td>397</td>\n",
       "      <td>1996</td>\n",
       "      <td>Efetuar levantamento dos artesões estabelecido...</td>\n",
       "    </tr>\n",
       "    <tr>\n",
       "      <th>28581</th>\n",
       "      <td>1996-12-02</td>\n",
       "      <td>1996-12-02</td>\n",
       "      <td>Proposição Aprovada</td>\n",
       "      <td>Iluminação Pública e Rede de Energia Elétrica</td>\n",
       "      <td>Vereador Remir José de Faveri.</td>\n",
       "      <td>398</td>\n",
       "      <td>1996</td>\n",
       "      <td>Colocação de um transformador na Rua Venezuela...</td>\n",
       "    </tr>\n",
       "    <tr>\n",
       "      <th>28582</th>\n",
       "      <td>1996-12-02</td>\n",
       "      <td>1996-12-02</td>\n",
       "      <td>Proposição Aprovada</td>\n",
       "      <td>Limpeza, Macadamização, Patrolamento, Retifica...</td>\n",
       "      <td>Vereador Sílvio Gonçalves da Luz.</td>\n",
       "      <td>399</td>\n",
       "      <td>1996</td>\n",
       "      <td>Patrolar o acesso da Associação dos Funcionári...</td>\n",
       "    </tr>\n",
       "  </tbody>\n",
       "</table>\n",
       "<p>28583 rows × 8 columns</p>\n",
       "</div>"
      ],
      "text/plain": [
       "      DataReuniao DataDeliberacao             Situacao  \\\n",
       "0      1996-02-22      1996-02-22  Proposição Aprovada   \n",
       "1      1996-02-22      1996-02-22  Proposição Aprovada   \n",
       "2      1996-02-22      1996-02-22  Proposição Aprovada   \n",
       "3      1996-02-22      1996-02-22  Proposição Aprovada   \n",
       "4      1996-02-22      1996-02-22  Proposição Aprovada   \n",
       "...           ...             ...                  ...   \n",
       "28578  1996-10-17      1996-10-17  Proposição Aprovada   \n",
       "28579  1996-10-21      1996-10-21  Proposição Aprovada   \n",
       "28580  1996-10-29      1996-10-29  Proposição Aprovada   \n",
       "28581  1996-12-02      1996-12-02  Proposição Aprovada   \n",
       "28582  1996-12-02      1996-12-02  Proposição Aprovada   \n",
       "\n",
       "                                                 Assunto  \\\n",
       "0                                       Serviços e Obras   \n",
       "1                                       Serviços e Obras   \n",
       "2      Limpeza, Macadamização, Patrolamento, Retifica...   \n",
       "3                        Rede de Água / Esgoto / Pluvial   \n",
       "4                        Rede de Água / Esgoto / Pluvial   \n",
       "...                                                  ...   \n",
       "28578                                           Diversos   \n",
       "28579                                           Diversos   \n",
       "28580                                           Diversos   \n",
       "28581      Iluminação Pública e Rede de Energia Elétrica   \n",
       "28582  Limpeza, Macadamização, Patrolamento, Retifica...   \n",
       "\n",
       "                                   Autor  Proposicao   Ano  \\\n",
       "0               Vereador Henrique Fritz.           1  1996   \n",
       "1               Vereador Henrique Fritz.           2  1996   \n",
       "2               Vereador Henrique Fritz.           3  1996   \n",
       "3               Vereador Henrique Fritz.           4  1996   \n",
       "4               Vereador Henrique Fritz.           5  1996   \n",
       "...                                  ...         ...   ...   \n",
       "28578  Vereador Sílvio Gonçalves da Luz.         395  1996   \n",
       "28579      Vereador Antônio Carlos Fink.         396  1996   \n",
       "28580           Vereador Henrique Fritz.         397  1996   \n",
       "28581     Vereador Remir José de Faveri.         398  1996   \n",
       "28582  Vereador Sílvio Gonçalves da Luz.         399  1996   \n",
       "\n",
       "                                                   Texto  \n",
       "0      construção de Escola de 1º grau no Bairro Nova...  \n",
       "1      construção de Escola nas imediações dos Loteam...  \n",
       "2      alargamento da Rua ID 90                      ...  \n",
       "3      prolongamento da rede d'água na Rua Reinhold S...  \n",
       "4      Prolongamento de rede d'água na Rua Lorenz até...  \n",
       "...                                                  ...  \n",
       "28578  Efetuar melhorias na rede elétrica do Beco Rau...  \n",
       "28579  Alterar o artigo 1º da Lei nº 1.255/82, que in...  \n",
       "28580  Efetuar levantamento dos artesões estabelecido...  \n",
       "28581  Colocação de um transformador na Rua Venezuela...  \n",
       "28582  Patrolar o acesso da Associação dos Funcionári...  \n",
       "\n",
       "[28583 rows x 8 columns]"
      ]
     },
     "execution_count": 16,
     "metadata": {},
     "output_type": "execute_result"
    }
   ],
   "source": [
    "# connecting with Windows authentication\n",
    "\n",
    "conn = pyodbc.connect('Trusted_Connection=yes', \n",
    "                      driver = '{ODBC Driver 17 for SQL Server}',\n",
    "                      server = 'localhost', \n",
    "                      database = 'Indaial')\n",
    "\n",
    "query = '''\n",
    "    select \n",
    "        * \n",
    "    from Proposicoes\n",
    "'''\n",
    "# the read_sql_query method from pandas is used to read the data from the query\n",
    "sql_query = pd.read_sql_query(query,conn)\n",
    "sql_query"
   ]
  },
  {
   "cell_type": "markdown",
   "id": "3b706f4e",
   "metadata": {},
   "source": [
    "There are some of the propositions that don't have the 'Deliberação' date, so in order to avoid trying to insert into the database we just created a wrong number of columns, we will create a data frame with all of the columns and insert the data into it before inserting it into the SQL Server."
   ]
  },
  {
   "cell_type": "code",
   "execution_count": 17,
   "id": "cfbd9962",
   "metadata": {},
   "outputs": [
    {
     "data": {
      "text/html": [
       "<div>\n",
       "<style scoped>\n",
       "    .dataframe tbody tr th:only-of-type {\n",
       "        vertical-align: middle;\n",
       "    }\n",
       "\n",
       "    .dataframe tbody tr th {\n",
       "        vertical-align: top;\n",
       "    }\n",
       "\n",
       "    .dataframe thead th {\n",
       "        text-align: right;\n",
       "    }\n",
       "</style>\n",
       "<table border=\"1\" class=\"dataframe\">\n",
       "  <thead>\n",
       "    <tr style=\"text-align: right;\">\n",
       "      <th></th>\n",
       "      <th>Reunião</th>\n",
       "      <th>Deliberação</th>\n",
       "      <th>Situação</th>\n",
       "      <th>Assunto</th>\n",
       "      <th>Autor</th>\n",
       "      <th>Proposição</th>\n",
       "      <th>Ano</th>\n",
       "      <th>Texto</th>\n",
       "    </tr>\n",
       "  </thead>\n",
       "  <tbody>\n",
       "  </tbody>\n",
       "</table>\n",
       "</div>"
      ],
      "text/plain": [
       "Empty DataFrame\n",
       "Columns: [Reunião, Deliberação, Situação, Assunto, Autor, Proposição, Ano, Texto]\n",
       "Index: []"
      ]
     },
     "execution_count": 17,
     "metadata": {},
     "output_type": "execute_result"
    }
   ],
   "source": [
    "# Creating a database\n",
    "database = pd.DataFrame(columns=['Reunião', 'Deliberação', 'Situação', 'Assunto', 'Autor', 'Proposição', \n",
    "                                 'Ano', 'Texto'])\n",
    "database"
   ]
  },
  {
   "cell_type": "code",
   "execution_count": 18,
   "id": "eacc8101",
   "metadata": {
    "scrolled": true
   },
   "outputs": [],
   "source": [
    "# testing the database variable. To use it, just remove the # symbol\n",
    "\n",
    "#test = query_loop(900,50,2022)\n",
    "\n",
    "#database = pd.concat([database, test])\n",
    "\n",
    "#database"
   ]
  },
  {
   "cell_type": "markdown",
   "id": "26de1b10",
   "metadata": {
    "tags": []
   },
   "source": [
    "### 3.1. Creating useful functions\n",
    "\n",
    "Let's create some useful functions to help us perform basic actions in the SQL Server"
   ]
  },
  {
   "cell_type": "code",
   "execution_count": 19,
   "id": "b866eb1e",
   "metadata": {},
   "outputs": [],
   "source": [
    "def SQLInsertProposicoes(PropTable):\n",
    "    \n",
    "    # creating the data frame with all columns that will be used to insert the data into SQL Server\n",
    "    base = pd.DataFrame(columns=['Reunião', 'Deliberação', 'Situação', 'Assunto', 'Autor', 'Proposição',\n",
    "                                 'Ano', 'Texto'])\n",
    "    \n",
    "    # concatenating the table with the query (PropTable) with the data frame (base) with all columns\n",
    "    PropTable1 = pd.concat([base,PropTable]).fillna('')\n",
    "\n",
    "    # connecting to the SQL Server\n",
    "    conn = pyodbc.connect('Trusted_Connection=yes', \n",
    "                          driver = '{ODBC Driver 17 for SQL Server}',\n",
    "                          server = 'localhost', \n",
    "                          database = 'Indaial')\n",
    "    \n",
    "    # creating the cursor the will execute the querys in SQL Server\n",
    "    cursor = conn.cursor()\n",
    "\n",
    "    # inserting the data into SQL Server\n",
    "    for index, row in PropTable1.iterrows():\n",
    "\n",
    "        cursor.execute('''\n",
    "\n",
    "            INSERT INTO Proposicoes (\n",
    "                DataReuniao,\n",
    "                DataDeliberacao,\n",
    "                Situacao,\n",
    "                Assunto,\n",
    "                Autor,\n",
    "                Proposicao,\n",
    "                Ano,\n",
    "                Texto\n",
    "            ) \n",
    "            values(?,?,?,?,?,?,?,?)''', \n",
    "\n",
    "            row['Reunião'], \n",
    "            row['Deliberação'], \n",
    "            row['Situação'], \n",
    "            row['Assunto'], \n",
    "            row['Autor'], \n",
    "            row['Proposição'], \n",
    "            row['Ano'], \n",
    "            row['Texto']\n",
    "\n",
    "        )\n",
    "\n",
    "    # commiting and closing the cursor\n",
    "    conn.commit()\n",
    "    cursor.close()"
   ]
  },
  {
   "cell_type": "code",
   "execution_count": 20,
   "id": "f25d6e91",
   "metadata": {},
   "outputs": [],
   "source": [
    "#SQLInsertProposicoes(test)"
   ]
  },
  {
   "cell_type": "code",
   "execution_count": 21,
   "id": "56bdf336",
   "metadata": {},
   "outputs": [],
   "source": [
    "# function to Select everything from the SQL Server\n",
    "\n",
    "def SQLSelect(query):\n",
    "    \n",
    "    # connecting to the SQL Server\n",
    "    conn = pyodbc.connect('Trusted_Connection=yes', \n",
    "                          driver = '{ODBC Driver 17 for SQL Server}',\n",
    "                          server = 'localhost', \n",
    "                          database = 'Indaial')\n",
    "\n",
    "    out = pd.read_sql_query(query,conn)\n",
    "    return out"
   ]
  },
  {
   "cell_type": "code",
   "execution_count": 22,
   "id": "6c3daba0",
   "metadata": {},
   "outputs": [],
   "source": [
    "# function to truncate the table from the SQL Server\n",
    "\n",
    "def SQLTruncate(TableName):\n",
    "    \n",
    "    # connecting to the SQL Server\n",
    "    conn = pyodbc.connect('Trusted_Connection=yes', \n",
    "                          driver = '{ODBC Driver 17 for SQL Server}',\n",
    "                          server = 'localhost', \n",
    "                          database = 'Indaial')\n",
    "    \n",
    "    # creating the cursor the will execute the querys in SQL Server\n",
    "    cursor = conn.cursor()\n",
    "\n",
    "    cursor.execute(f'''\n",
    "\n",
    "                   TRUNCATE TABLE {TableName}\n",
    "\n",
    "                   ''')\n",
    "    \n",
    "    # commiting and closing the cursor\n",
    "    conn.commit()\n",
    "    cursor.close()"
   ]
  },
  {
   "cell_type": "code",
   "execution_count": 23,
   "id": "5b5e786e",
   "metadata": {},
   "outputs": [],
   "source": [
    "# execute to clean the table\n",
    "\n",
    "#SQLTruncate('Proposicoes')"
   ]
  },
  {
   "cell_type": "markdown",
   "id": "f793708f",
   "metadata": {},
   "source": [
    "## 3.2. Incremental update\n",
    "\n",
    "Now that we are already able to get the data from wherever we want, connect to the database, perform queries such as ```SELECT``` and ```TRUNCATE```, and insert the data into the SQL Server, we need to create a way to  **increment** the data based on the last information registered."
   ]
  },
  {
   "cell_type": "code",
   "execution_count": 24,
   "id": "97aeef47",
   "metadata": {},
   "outputs": [],
   "source": [
    "def InsertNextProp(year):\n",
    "\n",
    "    # look for the last proposition number registered in SQL Server\n",
    "    data_year = SQLSelect(f'select Proposicao = max(Proposicao) from Proposicoes where Ano = {year}')\n",
    "    last_prop = data_year['Proposicao'].loc[0]\n",
    "\n",
    "    # verify if there's a registered data for that year    \n",
    "    if last_prop == None:\n",
    "        next_prop = 1\n",
    "    else:\n",
    "        next_prop = int(last_prop) + 1\n",
    "    \n",
    "    \n",
    "    # get and insert data in the table\n",
    "    data = get_fullcontent(next_prop,year)\n",
    "    \n",
    "    # this block tests if the current page is empty and tries the next one if yes\n",
    "    if data.get('Situação') == None:\n",
    "        next_prop += 1\n",
    "        data = get_fullcontent(next_prop,year)\n",
    "    \n",
    "    if data['Situação'] != '':\n",
    "        table = pd.DataFrame([data])\n",
    "        SQLInsertProposicoes(table)\n",
    "    else:\n",
    "        raise"
   ]
  },
  {
   "cell_type": "markdown",
   "id": "f2af3f97",
   "metadata": {},
   "source": [
    "The function above search for the last proposition registered fot that year and if there's none, it starts to **insert the data from the fisrt**, and if there is, **it inserts the next one**.\n",
    "\n",
    "Now, we will create a function that insert data for an entire year, one by one:"
   ]
  },
  {
   "cell_type": "code",
   "execution_count": 25,
   "id": "b0be2aca",
   "metadata": {},
   "outputs": [],
   "source": [
    "def SearchRecordDataYear(year, quantity = 999999, possible_erros = 2, waiTime = 0):\n",
    "    import time\n",
    "    \n",
    "    # erros    \n",
    "    erros = 0\n",
    "\n",
    "    # it searcher for the next proposition. If there's none, it tries twice before stopping\n",
    "    while erros <= possible_erros:\n",
    "        try:\n",
    "            InsertNextProp(year)\n",
    "        except:\n",
    "            erros += 1\n",
    "            pass\n",
    "\n",
    "        time.sleep(waiTime)"
   ]
  },
  {
   "cell_type": "markdown",
   "id": "54793136",
   "metadata": {},
   "source": [
    "## 3.3. Updating the database"
   ]
  },
  {
   "cell_type": "markdown",
   "id": "340800de",
   "metadata": {},
   "source": [
    "Finally, we will create a loop that goes from one year to another, specified by the user:"
   ]
  },
  {
   "cell_type": "code",
   "execution_count": 26,
   "id": "fd497f7c",
   "metadata": {
    "scrolled": true,
    "tags": []
   },
   "outputs": [
    {
     "data": {
      "text/plain": [
       "\"start_year = 1996\\nfinal_year = 1996\\n\\nfor i in list(range(start_year, final_year+1)):\\n    print('Starting recording data of the year: ',i)\\n    try:\\n        SearchRecordDataYear(i)\\n    except:\\n        pass\\n    \\nprint('Insert finished 😁')\""
      ]
     },
     "execution_count": 26,
     "metadata": {},
     "output_type": "execute_result"
    }
   ],
   "source": [
    "'''start_year = 1996\n",
    "final_year = 1996\n",
    "\n",
    "for i in list(range(start_year, final_year+1)):\n",
    "    print('Starting recording data of the year: ',i)\n",
    "    try:\n",
    "        SearchRecordDataYear(i)\n",
    "    except:\n",
    "        pass\n",
    "    \n",
    "print('Insert finished 😁')'''"
   ]
  },
  {
   "cell_type": "markdown",
   "id": "84489f30",
   "metadata": {},
   "source": [
    "Now, our database is ready to be imported to the **Power BI** to create visualisations."
   ]
  },
  {
   "attachments": {},
   "cell_type": "markdown",
   "id": "c3c3cd7e",
   "metadata": {},
   "source": [
    "## 4. Dashboard\n",
    "\n",
    "After getting the data we need, it's time to create our visualisations. The report below was created in Power BI.\n",
    "\n",
    "The dashboard can be accessed at: [Aldermen's Analyser Dashboard](https://app.powerbi.com/view?r=eyJrIjoiZDVkNGM0NTEtZmRkYi00N2FhLTkwY2YtYzIxODc5NWJjNTJjIiwidCI6IjcyNmE2MjA3LTUwZjYtNDlkNS1iMGQ0LTFhNGYwNmRiYjM4OSJ9)"
   ]
  }
 ],
 "metadata": {
  "kernelspec": {
   "display_name": "Python 3 (ipykernel)",
   "language": "python",
   "name": "python3"
  },
  "language_info": {
   "codemirror_mode": {
    "name": "ipython",
    "version": 3
   },
   "file_extension": ".py",
   "mimetype": "text/x-python",
   "name": "python",
   "nbconvert_exporter": "python",
   "pygments_lexer": "ipython3",
   "version": "3.9.12"
  },
  "toc-showtags": false
 },
 "nbformat": 4,
 "nbformat_minor": 5
}
