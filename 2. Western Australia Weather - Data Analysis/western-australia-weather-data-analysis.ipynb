{
 "cells": [
  {
   "cell_type": "markdown",
   "id": "52e3a5cc",
   "metadata": {
    "papermill": {
     "duration": 0.035833,
     "end_time": "2022-05-01T22:04:11.746292",
     "exception": false,
     "start_time": "2022-05-01T22:04:11.710459",
     "status": "completed"
    },
    "tags": []
   },
   "source": [
    "# 1. Importing the libraries"
   ]
  },
  {
   "cell_type": "code",
   "execution_count": 1,
   "id": "9309d88c",
   "metadata": {
    "execution": {
     "iopub.execute_input": "2022-05-01T22:04:11.816949Z",
     "iopub.status.busy": "2022-05-01T22:04:11.816346Z",
     "iopub.status.idle": "2022-05-01T22:04:11.826650Z",
     "shell.execute_reply": "2022-05-01T22:04:11.825717Z"
    },
    "papermill": {
     "duration": 0.048577,
     "end_time": "2022-05-01T22:04:11.829089",
     "exception": false,
     "start_time": "2022-05-01T22:04:11.780512",
     "status": "completed"
    },
    "tags": []
   },
   "outputs": [],
   "source": [
    "import numpy as np # linear algebra\n",
    "import pandas as pd # data processing, CSV file I/O (e.g. pd.read_csv)\n",
    "import matplotlib.pyplot as plt"
   ]
  },
  {
   "cell_type": "markdown",
   "id": "04d99dba",
   "metadata": {
    "papermill": {
     "duration": 0.034156,
     "end_time": "2022-05-01T22:04:11.897088",
     "exception": false,
     "start_time": "2022-05-01T22:04:11.862932",
     "status": "completed"
    },
    "tags": []
   },
   "source": [
    "# 2. Loading the CSV file\n",
    "\n",
    "Let's load the dataset and take a look at the first rows to get familiarized with the dataset."
   ]
  },
  {
   "cell_type": "code",
   "execution_count": 2,
   "id": "ede176ee",
   "metadata": {
    "execution": {
     "iopub.execute_input": "2022-05-01T22:04:11.966180Z",
     "iopub.status.busy": "2022-05-01T22:04:11.965447Z",
     "iopub.status.idle": "2022-05-01T22:04:12.051152Z",
     "shell.execute_reply": "2022-05-01T22:04:12.050269Z"
    },
    "papermill": {
     "duration": 0.122835,
     "end_time": "2022-05-01T22:04:12.053533",
     "exception": false,
     "start_time": "2022-05-01T22:04:11.930698",
     "status": "completed"
    },
    "tags": []
   },
   "outputs": [
    {
     "data": {
      "text/html": [
       "<div>\n",
       "<style scoped>\n",
       "    .dataframe tbody tr th:only-of-type {\n",
       "        vertical-align: middle;\n",
       "    }\n",
       "\n",
       "    .dataframe tbody tr th {\n",
       "        vertical-align: top;\n",
       "    }\n",
       "\n",
       "    .dataframe thead th {\n",
       "        text-align: right;\n",
       "    }\n",
       "</style>\n",
       "<table border=\"1\" class=\"dataframe\">\n",
       "  <thead>\n",
       "    <tr style=\"text-align: right;\">\n",
       "      <th></th>\n",
       "      <th>Year</th>\n",
       "      <th>Month</th>\n",
       "      <th>Day</th>\n",
       "      <th>rainfall_mm</th>\n",
       "      <th>min_temp_C</th>\n",
       "      <th>max_temp_C</th>\n",
       "      <th>daily_avg</th>\n",
       "      <th>daily_range</th>\n",
       "      <th>uv_MJ_m*m</th>\n",
       "      <th>Season</th>\n",
       "    </tr>\n",
       "  </thead>\n",
       "  <tbody>\n",
       "    <tr>\n",
       "      <th>0</th>\n",
       "      <td>1944</td>\n",
       "      <td>5</td>\n",
       "      <td>1</td>\n",
       "      <td>0.0</td>\n",
       "      <td>NaN</td>\n",
       "      <td>NaN</td>\n",
       "      <td>0.0</td>\n",
       "      <td>0.0</td>\n",
       "      <td>NaN</td>\n",
       "      <td>3</td>\n",
       "    </tr>\n",
       "    <tr>\n",
       "      <th>1</th>\n",
       "      <td>1944</td>\n",
       "      <td>5</td>\n",
       "      <td>2</td>\n",
       "      <td>0.0</td>\n",
       "      <td>NaN</td>\n",
       "      <td>NaN</td>\n",
       "      <td>0.0</td>\n",
       "      <td>0.0</td>\n",
       "      <td>NaN</td>\n",
       "      <td>3</td>\n",
       "    </tr>\n",
       "    <tr>\n",
       "      <th>2</th>\n",
       "      <td>1944</td>\n",
       "      <td>5</td>\n",
       "      <td>3</td>\n",
       "      <td>0.0</td>\n",
       "      <td>NaN</td>\n",
       "      <td>NaN</td>\n",
       "      <td>0.0</td>\n",
       "      <td>0.0</td>\n",
       "      <td>NaN</td>\n",
       "      <td>3</td>\n",
       "    </tr>\n",
       "    <tr>\n",
       "      <th>3</th>\n",
       "      <td>1944</td>\n",
       "      <td>5</td>\n",
       "      <td>4</td>\n",
       "      <td>4.3</td>\n",
       "      <td>NaN</td>\n",
       "      <td>NaN</td>\n",
       "      <td>0.0</td>\n",
       "      <td>0.0</td>\n",
       "      <td>NaN</td>\n",
       "      <td>3</td>\n",
       "    </tr>\n",
       "    <tr>\n",
       "      <th>4</th>\n",
       "      <td>1944</td>\n",
       "      <td>5</td>\n",
       "      <td>5</td>\n",
       "      <td>0.0</td>\n",
       "      <td>NaN</td>\n",
       "      <td>NaN</td>\n",
       "      <td>0.0</td>\n",
       "      <td>0.0</td>\n",
       "      <td>NaN</td>\n",
       "      <td>3</td>\n",
       "    </tr>\n",
       "  </tbody>\n",
       "</table>\n",
       "</div>"
      ],
      "text/plain": [
       "   Year  Month  Day  rainfall_mm  min_temp_C  max_temp_C  daily_avg  \\\n",
       "0  1944      5    1          0.0         NaN         NaN        0.0   \n",
       "1  1944      5    2          0.0         NaN         NaN        0.0   \n",
       "2  1944      5    3          0.0         NaN         NaN        0.0   \n",
       "3  1944      5    4          4.3         NaN         NaN        0.0   \n",
       "4  1944      5    5          0.0         NaN         NaN        0.0   \n",
       "\n",
       "   daily_range  uv_MJ_m*m  Season  \n",
       "0          0.0        NaN       3  \n",
       "1          0.0        NaN       3  \n",
       "2          0.0        NaN       3  \n",
       "3          0.0        NaN       3  \n",
       "4          0.0        NaN       3  "
      ]
     },
     "execution_count": 2,
     "metadata": {},
     "output_type": "execute_result"
    }
   ],
   "source": [
    "df = pd.read_csv('../input/west-australia-weather-1944-2016/aus_weather.csv')\n",
    "\n",
    "df.head()"
   ]
  },
  {
   "cell_type": "markdown",
   "id": "a45dc763",
   "metadata": {
    "papermill": {
     "duration": 0.035596,
     "end_time": "2022-05-01T22:04:12.124557",
     "exception": false,
     "start_time": "2022-05-01T22:04:12.088961",
     "status": "completed"
    },
    "tags": []
   },
   "source": [
    "# 3. Describing the dataset\n",
    "\n",
    "Now, we will get some information about the dataset and analyze what has to be done before we start to deal with it."
   ]
  },
  {
   "cell_type": "code",
   "execution_count": 3,
   "id": "e24e9727",
   "metadata": {
    "execution": {
     "iopub.execute_input": "2022-05-01T22:04:12.195025Z",
     "iopub.status.busy": "2022-05-01T22:04:12.194700Z",
     "iopub.status.idle": "2022-05-01T22:04:12.219683Z",
     "shell.execute_reply": "2022-05-01T22:04:12.218836Z"
    },
    "papermill": {
     "duration": 0.0629,
     "end_time": "2022-05-01T22:04:12.222283",
     "exception": false,
     "start_time": "2022-05-01T22:04:12.159383",
     "status": "completed"
    },
    "tags": []
   },
   "outputs": [
    {
     "name": "stdout",
     "output_type": "stream",
     "text": [
      "<class 'pandas.core.frame.DataFrame'>\n",
      "RangeIndex: 26543 entries, 0 to 26542\n",
      "Data columns (total 10 columns):\n",
      " #   Column       Non-Null Count  Dtype  \n",
      "---  ------       --------------  -----  \n",
      " 0   Year         26543 non-null  int64  \n",
      " 1   Month        26543 non-null  int64  \n",
      " 2   Day          26543 non-null  int64  \n",
      " 3   rainfall_mm  26543 non-null  float64\n",
      " 4   min_temp_C   26435 non-null  float64\n",
      " 5   max_temp_C   26480 non-null  float64\n",
      " 6   daily_avg    26543 non-null  float64\n",
      " 7   daily_range  26543 non-null  float64\n",
      " 8   uv_MJ_m*m    9390 non-null   float64\n",
      " 9   Season       26543 non-null  int64  \n",
      "dtypes: float64(6), int64(4)\n",
      "memory usage: 2.0 MB\n"
     ]
    }
   ],
   "source": [
    "df.info()"
   ]
  },
  {
   "cell_type": "code",
   "execution_count": 4,
   "id": "c1675975",
   "metadata": {
    "execution": {
     "iopub.execute_input": "2022-05-01T22:04:12.294708Z",
     "iopub.status.busy": "2022-05-01T22:04:12.294393Z",
     "iopub.status.idle": "2022-05-01T22:04:12.347198Z",
     "shell.execute_reply": "2022-05-01T22:04:12.346304Z"
    },
    "papermill": {
     "duration": 0.090895,
     "end_time": "2022-05-01T22:04:12.349192",
     "exception": false,
     "start_time": "2022-05-01T22:04:12.258297",
     "status": "completed"
    },
    "tags": []
   },
   "outputs": [
    {
     "data": {
      "text/html": [
       "<div>\n",
       "<style scoped>\n",
       "    .dataframe tbody tr th:only-of-type {\n",
       "        vertical-align: middle;\n",
       "    }\n",
       "\n",
       "    .dataframe tbody tr th {\n",
       "        vertical-align: top;\n",
       "    }\n",
       "\n",
       "    .dataframe thead th {\n",
       "        text-align: right;\n",
       "    }\n",
       "</style>\n",
       "<table border=\"1\" class=\"dataframe\">\n",
       "  <thead>\n",
       "    <tr style=\"text-align: right;\">\n",
       "      <th></th>\n",
       "      <th>Year</th>\n",
       "      <th>Month</th>\n",
       "      <th>Day</th>\n",
       "      <th>rainfall_mm</th>\n",
       "      <th>min_temp_C</th>\n",
       "      <th>max_temp_C</th>\n",
       "      <th>daily_avg</th>\n",
       "      <th>daily_range</th>\n",
       "      <th>uv_MJ_m*m</th>\n",
       "      <th>Season</th>\n",
       "    </tr>\n",
       "  </thead>\n",
       "  <tbody>\n",
       "    <tr>\n",
       "      <th>count</th>\n",
       "      <td>26543.000000</td>\n",
       "      <td>26543.000000</td>\n",
       "      <td>26543.000000</td>\n",
       "      <td>26543.000000</td>\n",
       "      <td>26435.000000</td>\n",
       "      <td>26480.000000</td>\n",
       "      <td>26543.000000</td>\n",
       "      <td>26543.000000</td>\n",
       "      <td>9390.000000</td>\n",
       "      <td>26543.000000</td>\n",
       "    </tr>\n",
       "    <tr>\n",
       "      <th>mean</th>\n",
       "      <td>1980.164111</td>\n",
       "      <td>6.541160</td>\n",
       "      <td>15.730437</td>\n",
       "      <td>2.101281</td>\n",
       "      <td>12.104358</td>\n",
       "      <td>24.451828</td>\n",
       "      <td>18.224449</td>\n",
       "      <td>12.338684</td>\n",
       "      <td>18.967348</td>\n",
       "      <td>2.506499</td>\n",
       "    </tr>\n",
       "    <tr>\n",
       "      <th>std</th>\n",
       "      <td>20.979310</td>\n",
       "      <td>3.445064</td>\n",
       "      <td>8.800655</td>\n",
       "      <td>5.851269</td>\n",
       "      <td>4.736770</td>\n",
       "      <td>6.287806</td>\n",
       "      <td>5.203848</td>\n",
       "      <td>4.390402</td>\n",
       "      <td>8.726202</td>\n",
       "      <td>1.120981</td>\n",
       "    </tr>\n",
       "    <tr>\n",
       "      <th>min</th>\n",
       "      <td>1944.000000</td>\n",
       "      <td>1.000000</td>\n",
       "      <td>1.000000</td>\n",
       "      <td>0.000000</td>\n",
       "      <td>-1.300000</td>\n",
       "      <td>9.400000</td>\n",
       "      <td>0.000000</td>\n",
       "      <td>-20.600000</td>\n",
       "      <td>0.200000</td>\n",
       "      <td>1.000000</td>\n",
       "    </tr>\n",
       "    <tr>\n",
       "      <th>25%</th>\n",
       "      <td>1962.000000</td>\n",
       "      <td>4.000000</td>\n",
       "      <td>8.000000</td>\n",
       "      <td>0.000000</td>\n",
       "      <td>8.700000</td>\n",
       "      <td>19.400000</td>\n",
       "      <td>14.250000</td>\n",
       "      <td>9.200000</td>\n",
       "      <td>11.600000</td>\n",
       "      <td>1.000000</td>\n",
       "    </tr>\n",
       "    <tr>\n",
       "      <th>50%</th>\n",
       "      <td>1980.000000</td>\n",
       "      <td>7.000000</td>\n",
       "      <td>16.000000</td>\n",
       "      <td>0.000000</td>\n",
       "      <td>11.800000</td>\n",
       "      <td>23.200000</td>\n",
       "      <td>17.300000</td>\n",
       "      <td>12.400000</td>\n",
       "      <td>17.900000</td>\n",
       "      <td>3.000000</td>\n",
       "    </tr>\n",
       "    <tr>\n",
       "      <th>75%</th>\n",
       "      <td>1998.000000</td>\n",
       "      <td>10.000000</td>\n",
       "      <td>23.000000</td>\n",
       "      <td>0.600000</td>\n",
       "      <td>15.400000</td>\n",
       "      <td>28.800000</td>\n",
       "      <td>21.900000</td>\n",
       "      <td>15.300000</td>\n",
       "      <td>26.900000</td>\n",
       "      <td>4.000000</td>\n",
       "    </tr>\n",
       "    <tr>\n",
       "      <th>max</th>\n",
       "      <td>2016.000000</td>\n",
       "      <td>12.000000</td>\n",
       "      <td>31.000000</td>\n",
       "      <td>132.000000</td>\n",
       "      <td>28.700000</td>\n",
       "      <td>46.700000</td>\n",
       "      <td>36.800000</td>\n",
       "      <td>43.500000</td>\n",
       "      <td>37.100000</td>\n",
       "      <td>4.000000</td>\n",
       "    </tr>\n",
       "  </tbody>\n",
       "</table>\n",
       "</div>"
      ],
      "text/plain": [
       "               Year         Month           Day   rainfall_mm    min_temp_C  \\\n",
       "count  26543.000000  26543.000000  26543.000000  26543.000000  26435.000000   \n",
       "mean    1980.164111      6.541160     15.730437      2.101281     12.104358   \n",
       "std       20.979310      3.445064      8.800655      5.851269      4.736770   \n",
       "min     1944.000000      1.000000      1.000000      0.000000     -1.300000   \n",
       "25%     1962.000000      4.000000      8.000000      0.000000      8.700000   \n",
       "50%     1980.000000      7.000000     16.000000      0.000000     11.800000   \n",
       "75%     1998.000000     10.000000     23.000000      0.600000     15.400000   \n",
       "max     2016.000000     12.000000     31.000000    132.000000     28.700000   \n",
       "\n",
       "         max_temp_C     daily_avg   daily_range    uv_MJ_m*m        Season  \n",
       "count  26480.000000  26543.000000  26543.000000  9390.000000  26543.000000  \n",
       "mean      24.451828     18.224449     12.338684    18.967348      2.506499  \n",
       "std        6.287806      5.203848      4.390402     8.726202      1.120981  \n",
       "min        9.400000      0.000000    -20.600000     0.200000      1.000000  \n",
       "25%       19.400000     14.250000      9.200000    11.600000      1.000000  \n",
       "50%       23.200000     17.300000     12.400000    17.900000      3.000000  \n",
       "75%       28.800000     21.900000     15.300000    26.900000      4.000000  \n",
       "max       46.700000     36.800000     43.500000    37.100000      4.000000  "
      ]
     },
     "execution_count": 4,
     "metadata": {},
     "output_type": "execute_result"
    }
   ],
   "source": [
    "df.describe()"
   ]
  },
  {
   "cell_type": "markdown",
   "id": "b5a58482",
   "metadata": {
    "papermill": {
     "duration": 0.035087,
     "end_time": "2022-05-01T22:04:12.419727",
     "exception": false,
     "start_time": "2022-05-01T22:04:12.384640",
     "status": "completed"
    },
    "tags": []
   },
   "source": [
    "We see that there are too many null values in the \"uv_MJ_m*m\" column. In a total of 26543 rows, just 9390 of them there're values. So, to not interfere in our analysis, we will drop that column:"
   ]
  },
  {
   "cell_type": "code",
   "execution_count": 5,
   "id": "32da06c1",
   "metadata": {
    "execution": {
     "iopub.execute_input": "2022-05-01T22:04:12.492509Z",
     "iopub.status.busy": "2022-05-01T22:04:12.492197Z",
     "iopub.status.idle": "2022-05-01T22:04:12.507283Z",
     "shell.execute_reply": "2022-05-01T22:04:12.506622Z"
    },
    "papermill": {
     "duration": 0.053652,
     "end_time": "2022-05-01T22:04:12.509114",
     "exception": false,
     "start_time": "2022-05-01T22:04:12.455462",
     "status": "completed"
    },
    "tags": []
   },
   "outputs": [
    {
     "data": {
      "text/html": [
       "<div>\n",
       "<style scoped>\n",
       "    .dataframe tbody tr th:only-of-type {\n",
       "        vertical-align: middle;\n",
       "    }\n",
       "\n",
       "    .dataframe tbody tr th {\n",
       "        vertical-align: top;\n",
       "    }\n",
       "\n",
       "    .dataframe thead th {\n",
       "        text-align: right;\n",
       "    }\n",
       "</style>\n",
       "<table border=\"1\" class=\"dataframe\">\n",
       "  <thead>\n",
       "    <tr style=\"text-align: right;\">\n",
       "      <th></th>\n",
       "      <th>Year</th>\n",
       "      <th>Month</th>\n",
       "      <th>Day</th>\n",
       "      <th>rainfall_mm</th>\n",
       "      <th>min_temp_C</th>\n",
       "      <th>max_temp_C</th>\n",
       "      <th>daily_avg</th>\n",
       "      <th>daily_range</th>\n",
       "      <th>Season</th>\n",
       "    </tr>\n",
       "  </thead>\n",
       "  <tbody>\n",
       "    <tr>\n",
       "      <th>0</th>\n",
       "      <td>1944</td>\n",
       "      <td>5</td>\n",
       "      <td>1</td>\n",
       "      <td>0.0</td>\n",
       "      <td>NaN</td>\n",
       "      <td>NaN</td>\n",
       "      <td>0.0</td>\n",
       "      <td>0.0</td>\n",
       "      <td>3</td>\n",
       "    </tr>\n",
       "    <tr>\n",
       "      <th>1</th>\n",
       "      <td>1944</td>\n",
       "      <td>5</td>\n",
       "      <td>2</td>\n",
       "      <td>0.0</td>\n",
       "      <td>NaN</td>\n",
       "      <td>NaN</td>\n",
       "      <td>0.0</td>\n",
       "      <td>0.0</td>\n",
       "      <td>3</td>\n",
       "    </tr>\n",
       "    <tr>\n",
       "      <th>2</th>\n",
       "      <td>1944</td>\n",
       "      <td>5</td>\n",
       "      <td>3</td>\n",
       "      <td>0.0</td>\n",
       "      <td>NaN</td>\n",
       "      <td>NaN</td>\n",
       "      <td>0.0</td>\n",
       "      <td>0.0</td>\n",
       "      <td>3</td>\n",
       "    </tr>\n",
       "    <tr>\n",
       "      <th>3</th>\n",
       "      <td>1944</td>\n",
       "      <td>5</td>\n",
       "      <td>4</td>\n",
       "      <td>4.3</td>\n",
       "      <td>NaN</td>\n",
       "      <td>NaN</td>\n",
       "      <td>0.0</td>\n",
       "      <td>0.0</td>\n",
       "      <td>3</td>\n",
       "    </tr>\n",
       "    <tr>\n",
       "      <th>4</th>\n",
       "      <td>1944</td>\n",
       "      <td>5</td>\n",
       "      <td>5</td>\n",
       "      <td>0.0</td>\n",
       "      <td>NaN</td>\n",
       "      <td>NaN</td>\n",
       "      <td>0.0</td>\n",
       "      <td>0.0</td>\n",
       "      <td>3</td>\n",
       "    </tr>\n",
       "  </tbody>\n",
       "</table>\n",
       "</div>"
      ],
      "text/plain": [
       "   Year  Month  Day  rainfall_mm  min_temp_C  max_temp_C  daily_avg  \\\n",
       "0  1944      5    1          0.0         NaN         NaN        0.0   \n",
       "1  1944      5    2          0.0         NaN         NaN        0.0   \n",
       "2  1944      5    3          0.0         NaN         NaN        0.0   \n",
       "3  1944      5    4          4.3         NaN         NaN        0.0   \n",
       "4  1944      5    5          0.0         NaN         NaN        0.0   \n",
       "\n",
       "   daily_range  Season  \n",
       "0          0.0       3  \n",
       "1          0.0       3  \n",
       "2          0.0       3  \n",
       "3          0.0       3  \n",
       "4          0.0       3  "
      ]
     },
     "execution_count": 5,
     "metadata": {},
     "output_type": "execute_result"
    }
   ],
   "source": [
    "df = df.drop('uv_MJ_m*m', axis=1)\n",
    "df.head()"
   ]
  },
  {
   "cell_type": "markdown",
   "id": "dfe7299e",
   "metadata": {
    "papermill": {
     "duration": 0.035816,
     "end_time": "2022-05-01T22:04:12.581300",
     "exception": false,
     "start_time": "2022-05-01T22:04:12.545484",
     "status": "completed"
    },
    "tags": []
   },
   "source": [
    "The column was droped but we still have some null values left in the rest of the dataset, so let's drop them too:"
   ]
  },
  {
   "cell_type": "code",
   "execution_count": 6,
   "id": "956dd2b7",
   "metadata": {
    "execution": {
     "iopub.execute_input": "2022-05-01T22:04:12.656214Z",
     "iopub.status.busy": "2022-05-01T22:04:12.655503Z",
     "iopub.status.idle": "2022-05-01T22:04:12.674871Z",
     "shell.execute_reply": "2022-05-01T22:04:12.674171Z"
    },
    "papermill": {
     "duration": 0.058207,
     "end_time": "2022-05-01T22:04:12.676724",
     "exception": false,
     "start_time": "2022-05-01T22:04:12.618517",
     "status": "completed"
    },
    "tags": []
   },
   "outputs": [
    {
     "data": {
      "text/html": [
       "<div>\n",
       "<style scoped>\n",
       "    .dataframe tbody tr th:only-of-type {\n",
       "        vertical-align: middle;\n",
       "    }\n",
       "\n",
       "    .dataframe tbody tr th {\n",
       "        vertical-align: top;\n",
       "    }\n",
       "\n",
       "    .dataframe thead th {\n",
       "        text-align: right;\n",
       "    }\n",
       "</style>\n",
       "<table border=\"1\" class=\"dataframe\">\n",
       "  <thead>\n",
       "    <tr style=\"text-align: right;\">\n",
       "      <th></th>\n",
       "      <th>Year</th>\n",
       "      <th>Month</th>\n",
       "      <th>Day</th>\n",
       "      <th>rainfall_mm</th>\n",
       "      <th>min_temp_C</th>\n",
       "      <th>max_temp_C</th>\n",
       "      <th>daily_avg</th>\n",
       "      <th>daily_range</th>\n",
       "      <th>Season</th>\n",
       "    </tr>\n",
       "  </thead>\n",
       "  <tbody>\n",
       "    <tr>\n",
       "      <th>33</th>\n",
       "      <td>1944</td>\n",
       "      <td>6</td>\n",
       "      <td>3</td>\n",
       "      <td>0.0</td>\n",
       "      <td>11.0</td>\n",
       "      <td>22.3</td>\n",
       "      <td>16.65</td>\n",
       "      <td>11.3</td>\n",
       "      <td>4</td>\n",
       "    </tr>\n",
       "    <tr>\n",
       "      <th>34</th>\n",
       "      <td>1944</td>\n",
       "      <td>6</td>\n",
       "      <td>4</td>\n",
       "      <td>0.0</td>\n",
       "      <td>12.2</td>\n",
       "      <td>23.4</td>\n",
       "      <td>17.80</td>\n",
       "      <td>11.2</td>\n",
       "      <td>4</td>\n",
       "    </tr>\n",
       "    <tr>\n",
       "      <th>35</th>\n",
       "      <td>1944</td>\n",
       "      <td>6</td>\n",
       "      <td>5</td>\n",
       "      <td>2.0</td>\n",
       "      <td>12.0</td>\n",
       "      <td>20.3</td>\n",
       "      <td>16.15</td>\n",
       "      <td>8.3</td>\n",
       "      <td>4</td>\n",
       "    </tr>\n",
       "    <tr>\n",
       "      <th>36</th>\n",
       "      <td>1944</td>\n",
       "      <td>6</td>\n",
       "      <td>6</td>\n",
       "      <td>3.3</td>\n",
       "      <td>7.4</td>\n",
       "      <td>18.7</td>\n",
       "      <td>13.05</td>\n",
       "      <td>11.3</td>\n",
       "      <td>4</td>\n",
       "    </tr>\n",
       "    <tr>\n",
       "      <th>37</th>\n",
       "      <td>1944</td>\n",
       "      <td>6</td>\n",
       "      <td>7</td>\n",
       "      <td>0.3</td>\n",
       "      <td>5.9</td>\n",
       "      <td>21.3</td>\n",
       "      <td>13.60</td>\n",
       "      <td>15.4</td>\n",
       "      <td>4</td>\n",
       "    </tr>\n",
       "  </tbody>\n",
       "</table>\n",
       "</div>"
      ],
      "text/plain": [
       "    Year  Month  Day  rainfall_mm  min_temp_C  max_temp_C  daily_avg  \\\n",
       "33  1944      6    3          0.0        11.0        22.3      16.65   \n",
       "34  1944      6    4          0.0        12.2        23.4      17.80   \n",
       "35  1944      6    5          2.0        12.0        20.3      16.15   \n",
       "36  1944      6    6          3.3         7.4        18.7      13.05   \n",
       "37  1944      6    7          0.3         5.9        21.3      13.60   \n",
       "\n",
       "    daily_range  Season  \n",
       "33         11.3       4  \n",
       "34         11.2       4  \n",
       "35          8.3       4  \n",
       "36         11.3       4  \n",
       "37         15.4       4  "
      ]
     },
     "execution_count": 6,
     "metadata": {},
     "output_type": "execute_result"
    }
   ],
   "source": [
    "df = df.dropna()\n",
    "df.head()"
   ]
  },
  {
   "cell_type": "markdown",
   "id": "ba8f2fcc",
   "metadata": {
    "papermill": {
     "duration": 0.036106,
     "end_time": "2022-05-01T22:04:12.749282",
     "exception": false,
     "start_time": "2022-05-01T22:04:12.713176",
     "status": "completed"
    },
    "tags": []
   },
   "source": [
    "Now, we don't have any null value in our dataset, we can get some insights form it."
   ]
  },
  {
   "cell_type": "markdown",
   "id": "78dd30f4",
   "metadata": {
    "papermill": {
     "duration": 0.036056,
     "end_time": "2022-05-01T22:04:12.821418",
     "exception": false,
     "start_time": "2022-05-01T22:04:12.785362",
     "status": "completed"
    },
    "tags": []
   },
   "source": [
    "# 4. Geting insights\n",
    "\n",
    "We will analyze the dataset searching for patterns such as average rain fall per month and per season, average temperature per season, which season has the bigger daily range, etc."
   ]
  },
  {
   "cell_type": "markdown",
   "id": "40fdfe48",
   "metadata": {
    "papermill": {
     "duration": 0.035845,
     "end_time": "2022-05-01T22:04:12.893449",
     "exception": false,
     "start_time": "2022-05-01T22:04:12.857604",
     "status": "completed"
    },
    "tags": []
   },
   "source": [
    "## 4.1 Statistics about the weather"
   ]
  },
  {
   "cell_type": "markdown",
   "id": "17956936",
   "metadata": {
    "papermill": {
     "duration": 0.035725,
     "end_time": "2022-05-01T22:04:12.965406",
     "exception": false,
     "start_time": "2022-05-01T22:04:12.929681",
     "status": "completed"
    },
    "tags": []
   },
   "source": [
    "### 4.1.1 Years\n",
    "\n",
    "Firstly, we will analyse how many diferent years we have in our dataset:"
   ]
  },
  {
   "cell_type": "code",
   "execution_count": 7,
   "id": "f8362e38",
   "metadata": {
    "execution": {
     "iopub.execute_input": "2022-05-01T22:04:13.042644Z",
     "iopub.status.busy": "2022-05-01T22:04:13.042148Z",
     "iopub.status.idle": "2022-05-01T22:04:13.047880Z",
     "shell.execute_reply": "2022-05-01T22:04:13.047248Z"
    },
    "papermill": {
     "duration": 0.047017,
     "end_time": "2022-05-01T22:04:13.049720",
     "exception": false,
     "start_time": "2022-05-01T22:04:13.002703",
     "status": "completed"
    },
    "tags": []
   },
   "outputs": [
    {
     "data": {
      "text/plain": [
       "array([1944, 1945, 1946, 1947, 1948, 1949, 1950, 1951, 1952, 1953, 1954,\n",
       "       1955, 1956, 1957, 1958, 1959, 1960, 1961, 1962, 1963, 1964, 1965,\n",
       "       1966, 1967, 1968, 1969, 1970, 1971, 1972, 1973, 1974, 1975, 1976,\n",
       "       1977, 1978, 1979, 1980, 1981, 1982, 1983, 1984, 1985, 1986, 1987,\n",
       "       1988, 1989, 1990, 1991, 1992, 1993, 1994, 1995, 1996, 1997, 1998,\n",
       "       1999, 2000, 2001, 2002, 2003, 2004, 2005, 2006, 2007, 2008, 2009,\n",
       "       2010, 2011, 2012, 2013, 2014, 2015, 2016])"
      ]
     },
     "execution_count": 7,
     "metadata": {},
     "output_type": "execute_result"
    }
   ],
   "source": [
    "df.Year.unique()"
   ]
  },
  {
   "cell_type": "code",
   "execution_count": 8,
   "id": "300924e4",
   "metadata": {
    "execution": {
     "iopub.execute_input": "2022-05-01T22:04:13.125712Z",
     "iopub.status.busy": "2022-05-01T22:04:13.125197Z",
     "iopub.status.idle": "2022-05-01T22:04:13.130283Z",
     "shell.execute_reply": "2022-05-01T22:04:13.129776Z"
    },
    "papermill": {
     "duration": 0.044732,
     "end_time": "2022-05-01T22:04:13.131987",
     "exception": false,
     "start_time": "2022-05-01T22:04:13.087255",
     "status": "completed"
    },
    "tags": []
   },
   "outputs": [
    {
     "data": {
      "text/plain": [
       "(73,)"
      ]
     },
     "execution_count": 8,
     "metadata": {},
     "output_type": "execute_result"
    }
   ],
   "source": [
    "df.Year.unique().shape"
   ]
  },
  {
   "cell_type": "markdown",
   "id": "2a7fcebd",
   "metadata": {
    "papermill": {
     "duration": 0.036664,
     "end_time": "2022-05-01T22:04:13.205645",
     "exception": false,
     "start_time": "2022-05-01T22:04:13.168981",
     "status": "completed"
    },
    "tags": []
   },
   "source": [
    "#### 4.1.1.1 Average temperature"
   ]
  },
  {
   "cell_type": "markdown",
   "id": "df6b0c44",
   "metadata": {
    "papermill": {
     "duration": 0.036683,
     "end_time": "2022-05-01T22:04:13.279258",
     "exception": false,
     "start_time": "2022-05-01T22:04:13.242575",
     "status": "completed"
    },
    "tags": []
   },
   "source": [
    "We have 73 years in the dataset. Let's see if the average temperature increased ove the years. As the amount of years are big, we will take a closer look from the year 2000:"
   ]
  },
  {
   "cell_type": "code",
   "execution_count": 9,
   "id": "d235c724",
   "metadata": {
    "execution": {
     "iopub.execute_input": "2022-05-01T22:04:13.358314Z",
     "iopub.status.busy": "2022-05-01T22:04:13.357779Z",
     "iopub.status.idle": "2022-05-01T22:04:13.694828Z",
     "shell.execute_reply": "2022-05-01T22:04:13.693842Z"
    },
    "papermill": {
     "duration": 0.380251,
     "end_time": "2022-05-01T22:04:13.697195",
     "exception": false,
     "start_time": "2022-05-01T22:04:13.316944",
     "status": "completed"
    },
    "tags": []
   },
   "outputs": [
    {
     "data": {
      "text/plain": [
       "<AxesSubplot:xlabel='Year'>"
      ]
     },
     "execution_count": 9,
     "metadata": {},
     "output_type": "execute_result"
    },
    {
     "data": {
      "image/png": "[encoded data removed]",
      "text/plain": [
       "<Figure size 432x288 with 1 Axes>"
      ]
     },
     "metadata": {
      "needs_background": "light"
     },
     "output_type": "display_data"
    }
   ],
   "source": [
    "avg_temp_year = df.loc[df.Year >= 2000].groupby(['Year']).daily_avg.mean()\n",
    "avg_temp_year.plot()"
   ]
  },
  {
   "cell_type": "markdown",
   "id": "3a8a0622",
   "metadata": {
    "papermill": {
     "duration": 0.03868,
     "end_time": "2022-05-01T22:04:13.775077",
     "exception": false,
     "start_time": "2022-05-01T22:04:13.736397",
     "status": "completed"
    },
    "tags": []
   },
   "source": [
    "It seems that there was a big drop from 2014 to 2016. To make sure there is nothing wrong with these last years, we will take a closer look at them:"
   ]
  },
  {
   "cell_type": "code",
   "execution_count": 10,
   "id": "8840cbb5",
   "metadata": {
    "execution": {
     "iopub.execute_input": "2022-05-01T22:04:13.855072Z",
     "iopub.status.busy": "2022-05-01T22:04:13.854207Z",
     "iopub.status.idle": "2022-05-01T22:04:13.874551Z",
     "shell.execute_reply": "2022-05-01T22:04:13.873929Z"
    },
    "papermill": {
     "duration": 0.062379,
     "end_time": "2022-05-01T22:04:13.876472",
     "exception": false,
     "start_time": "2022-05-01T22:04:13.814093",
     "status": "completed"
    },
    "tags": []
   },
   "outputs": [
    {
     "data": {
      "text/html": [
       "<div>\n",
       "<style scoped>\n",
       "    .dataframe tbody tr th:only-of-type {\n",
       "        vertical-align: middle;\n",
       "    }\n",
       "\n",
       "    .dataframe tbody tr th {\n",
       "        vertical-align: top;\n",
       "    }\n",
       "\n",
       "    .dataframe thead th {\n",
       "        text-align: right;\n",
       "    }\n",
       "</style>\n",
       "<table border=\"1\" class=\"dataframe\">\n",
       "  <thead>\n",
       "    <tr style=\"text-align: right;\">\n",
       "      <th></th>\n",
       "      <th></th>\n",
       "      <th>days</th>\n",
       "      <th>avg</th>\n",
       "    </tr>\n",
       "    <tr>\n",
       "      <th>Year</th>\n",
       "      <th>Month</th>\n",
       "      <th></th>\n",
       "      <th></th>\n",
       "    </tr>\n",
       "  </thead>\n",
       "  <tbody>\n",
       "    <tr>\n",
       "      <th rowspan=\"12\" valign=\"top\">2014</th>\n",
       "      <th>1</th>\n",
       "      <td>31</td>\n",
       "      <td>25.383871</td>\n",
       "    </tr>\n",
       "    <tr>\n",
       "      <th>2</th>\n",
       "      <td>28</td>\n",
       "      <td>25.937500</td>\n",
       "    </tr>\n",
       "    <tr>\n",
       "      <th>3</th>\n",
       "      <td>31</td>\n",
       "      <td>23.925806</td>\n",
       "    </tr>\n",
       "    <tr>\n",
       "      <th>4</th>\n",
       "      <td>30</td>\n",
       "      <td>20.040000</td>\n",
       "    </tr>\n",
       "    <tr>\n",
       "      <th>5</th>\n",
       "      <td>31</td>\n",
       "      <td>16.546774</td>\n",
       "    </tr>\n",
       "    <tr>\n",
       "      <th>6</th>\n",
       "      <td>30</td>\n",
       "      <td>13.551667</td>\n",
       "    </tr>\n",
       "    <tr>\n",
       "      <th>7</th>\n",
       "      <td>31</td>\n",
       "      <td>13.461290</td>\n",
       "    </tr>\n",
       "    <tr>\n",
       "      <th>8</th>\n",
       "      <td>31</td>\n",
       "      <td>15.882258</td>\n",
       "    </tr>\n",
       "    <tr>\n",
       "      <th>9</th>\n",
       "      <td>30</td>\n",
       "      <td>16.335000</td>\n",
       "    </tr>\n",
       "    <tr>\n",
       "      <th>10</th>\n",
       "      <td>31</td>\n",
       "      <td>18.148387</td>\n",
       "    </tr>\n",
       "    <tr>\n",
       "      <th>11</th>\n",
       "      <td>30</td>\n",
       "      <td>19.446667</td>\n",
       "    </tr>\n",
       "    <tr>\n",
       "      <th>12</th>\n",
       "      <td>31</td>\n",
       "      <td>22.275806</td>\n",
       "    </tr>\n",
       "    <tr>\n",
       "      <th rowspan=\"12\" valign=\"top\">2015</th>\n",
       "      <th>1</th>\n",
       "      <td>31</td>\n",
       "      <td>25.761290</td>\n",
       "    </tr>\n",
       "    <tr>\n",
       "      <th>2</th>\n",
       "      <td>28</td>\n",
       "      <td>25.878571</td>\n",
       "    </tr>\n",
       "    <tr>\n",
       "      <th>3</th>\n",
       "      <td>31</td>\n",
       "      <td>23.048387</td>\n",
       "    </tr>\n",
       "    <tr>\n",
       "      <th>4</th>\n",
       "      <td>30</td>\n",
       "      <td>19.530000</td>\n",
       "    </tr>\n",
       "    <tr>\n",
       "      <th>5</th>\n",
       "      <td>31</td>\n",
       "      <td>15.112903</td>\n",
       "    </tr>\n",
       "    <tr>\n",
       "      <th>6</th>\n",
       "      <td>30</td>\n",
       "      <td>15.483333</td>\n",
       "    </tr>\n",
       "    <tr>\n",
       "      <th>7</th>\n",
       "      <td>31</td>\n",
       "      <td>13.917742</td>\n",
       "    </tr>\n",
       "    <tr>\n",
       "      <th>8</th>\n",
       "      <td>31</td>\n",
       "      <td>14.298387</td>\n",
       "    </tr>\n",
       "    <tr>\n",
       "      <th>9</th>\n",
       "      <td>30</td>\n",
       "      <td>16.011667</td>\n",
       "    </tr>\n",
       "    <tr>\n",
       "      <th>10</th>\n",
       "      <td>31</td>\n",
       "      <td>19.625806</td>\n",
       "    </tr>\n",
       "    <tr>\n",
       "      <th>11</th>\n",
       "      <td>30</td>\n",
       "      <td>21.966667</td>\n",
       "    </tr>\n",
       "    <tr>\n",
       "      <th>12</th>\n",
       "      <td>31</td>\n",
       "      <td>23.059677</td>\n",
       "    </tr>\n",
       "    <tr>\n",
       "      <th rowspan=\"12\" valign=\"top\">2016</th>\n",
       "      <th>1</th>\n",
       "      <td>31</td>\n",
       "      <td>25.717742</td>\n",
       "    </tr>\n",
       "    <tr>\n",
       "      <th>2</th>\n",
       "      <td>29</td>\n",
       "      <td>25.050000</td>\n",
       "    </tr>\n",
       "    <tr>\n",
       "      <th>3</th>\n",
       "      <td>31</td>\n",
       "      <td>23.724194</td>\n",
       "    </tr>\n",
       "    <tr>\n",
       "      <th>4</th>\n",
       "      <td>30</td>\n",
       "      <td>19.775000</td>\n",
       "    </tr>\n",
       "    <tr>\n",
       "      <th>5</th>\n",
       "      <td>31</td>\n",
       "      <td>15.161290</td>\n",
       "    </tr>\n",
       "    <tr>\n",
       "      <th>6</th>\n",
       "      <td>30</td>\n",
       "      <td>13.658333</td>\n",
       "    </tr>\n",
       "    <tr>\n",
       "      <th>7</th>\n",
       "      <td>31</td>\n",
       "      <td>12.516129</td>\n",
       "    </tr>\n",
       "    <tr>\n",
       "      <th>8</th>\n",
       "      <td>31</td>\n",
       "      <td>12.487097</td>\n",
       "    </tr>\n",
       "    <tr>\n",
       "      <th>9</th>\n",
       "      <td>30</td>\n",
       "      <td>12.636667</td>\n",
       "    </tr>\n",
       "    <tr>\n",
       "      <th>10</th>\n",
       "      <td>31</td>\n",
       "      <td>15.656452</td>\n",
       "    </tr>\n",
       "    <tr>\n",
       "      <th>11</th>\n",
       "      <td>30</td>\n",
       "      <td>20.335000</td>\n",
       "    </tr>\n",
       "    <tr>\n",
       "      <th>12</th>\n",
       "      <td>31</td>\n",
       "      <td>21.977419</td>\n",
       "    </tr>\n",
       "  </tbody>\n",
       "</table>\n",
       "</div>"
      ],
      "text/plain": [
       "            days        avg\n",
       "Year Month                 \n",
       "2014 1        31  25.383871\n",
       "     2        28  25.937500\n",
       "     3        31  23.925806\n",
       "     4        30  20.040000\n",
       "     5        31  16.546774\n",
       "     6        30  13.551667\n",
       "     7        31  13.461290\n",
       "     8        31  15.882258\n",
       "     9        30  16.335000\n",
       "     10       31  18.148387\n",
       "     11       30  19.446667\n",
       "     12       31  22.275806\n",
       "2015 1        31  25.761290\n",
       "     2        28  25.878571\n",
       "     3        31  23.048387\n",
       "     4        30  19.530000\n",
       "     5        31  15.112903\n",
       "     6        30  15.483333\n",
       "     7        31  13.917742\n",
       "     8        31  14.298387\n",
       "     9        30  16.011667\n",
       "     10       31  19.625806\n",
       "     11       30  21.966667\n",
       "     12       31  23.059677\n",
       "2016 1        31  25.717742\n",
       "     2        29  25.050000\n",
       "     3        31  23.724194\n",
       "     4        30  19.775000\n",
       "     5        31  15.161290\n",
       "     6        30  13.658333\n",
       "     7        31  12.516129\n",
       "     8        31  12.487097\n",
       "     9        30  12.636667\n",
       "     10       31  15.656452\n",
       "     11       30  20.335000\n",
       "     12       31  21.977419"
      ]
     },
     "execution_count": 10,
     "metadata": {},
     "output_type": "execute_result"
    }
   ],
   "source": [
    "year_analysis = df.loc[df.Year >= 2014].groupby(['Year', 'Month']).daily_avg.count().to_frame()\n",
    "year_analysis = year_analysis.rename(columns={'daily_avg': 'days'})\n",
    "year_analysis['avg'] = df.loc[df.Year >= 2014].groupby(['Year', 'Month']).daily_avg.mean()\n",
    "year_analysis"
   ]
  },
  {
   "cell_type": "markdown",
   "id": "ec112644",
   "metadata": {
    "papermill": {
     "duration": 0.04056,
     "end_time": "2022-05-01T22:04:13.957181",
     "exception": false,
     "start_time": "2022-05-01T22:04:13.916621",
     "status": "completed"
    },
    "tags": []
   },
   "source": [
    " The data seems to be right, with a similar amount of records in each month and we can see that the years 2015 and 2016 there was a drop in temperature, especially in autumn and summer. On the other hand, when comparing the last 16 years, the temperature has been increasing, reaching its peak in **2011**."
   ]
  },
  {
   "cell_type": "markdown",
   "id": "816e0bd4",
   "metadata": {
    "papermill": {
     "duration": 0.04008,
     "end_time": "2022-05-01T22:04:14.036957",
     "exception": false,
     "start_time": "2022-05-01T22:04:13.996877",
     "status": "completed"
    },
    "tags": []
   },
   "source": [
    "#### 4.1.1.2 Daily range\n",
    "\n",
    "We are going to analyse now the average daily range of temperature over the last 16 years, in order to have a better understanding of how much the temperature varies during the day."
   ]
  },
  {
   "cell_type": "code",
   "execution_count": 11,
   "id": "0dc711c8",
   "metadata": {
    "execution": {
     "iopub.execute_input": "2022-05-01T22:04:14.119852Z",
     "iopub.status.busy": "2022-05-01T22:04:14.119380Z",
     "iopub.status.idle": "2022-05-01T22:04:14.128628Z",
     "shell.execute_reply": "2022-05-01T22:04:14.128057Z"
    },
    "papermill": {
     "duration": 0.052003,
     "end_time": "2022-05-01T22:04:14.130673",
     "exception": false,
     "start_time": "2022-05-01T22:04:14.078670",
     "status": "completed"
    },
    "tags": []
   },
   "outputs": [
    {
     "data": {
      "text/plain": [
       "Year\n",
       "2000    12.872404\n",
       "2001    13.458356\n",
       "2002    13.146849\n",
       "2003    12.805479\n",
       "2004    13.185246\n",
       "2005    12.439452\n",
       "2006    13.571507\n",
       "2007    13.021096\n",
       "2008    12.590164\n",
       "2009    13.210411\n",
       "2010    14.138630\n",
       "2011    12.432329\n",
       "2012    13.030874\n",
       "2013    12.752055\n",
       "2014    12.855890\n",
       "2015    13.025753\n",
       "2016    12.318852\n",
       "Name: daily_range, dtype: float64"
      ]
     },
     "execution_count": 11,
     "metadata": {},
     "output_type": "execute_result"
    }
   ],
   "source": [
    "avg_daily_range = df.loc[df.Year >= 2000].groupby(['Year']).daily_range.mean()\n",
    "avg_daily_range"
   ]
  },
  {
   "cell_type": "code",
   "execution_count": 12,
   "id": "fec230f7",
   "metadata": {
    "execution": {
     "iopub.execute_input": "2022-05-01T22:04:14.214965Z",
     "iopub.status.busy": "2022-05-01T22:04:14.214416Z",
     "iopub.status.idle": "2022-05-01T22:04:14.484554Z",
     "shell.execute_reply": "2022-05-01T22:04:14.483694Z"
    },
    "papermill": {
     "duration": 0.315224,
     "end_time": "2022-05-01T22:04:14.487201",
     "exception": false,
     "start_time": "2022-05-01T22:04:14.171977",
     "status": "completed"
    },
    "tags": []
   },
   "outputs": [
    {
     "data": {
      "text/plain": [
       "<AxesSubplot:xlabel='Year'>"
      ]
     },
     "execution_count": 12,
     "metadata": {},
     "output_type": "execute_result"
    },
    {
     "data": {
      "image/png": "[encoded data removed]",
      "text/plain": [
       "<Figure size 432x288 with 2 Axes>"
      ]
     },
     "metadata": {
      "needs_background": "light"
     },
     "output_type": "display_data"
    }
   ],
   "source": [
    "fig, axes = plt.subplots(nrows=2, ncols=1)\n",
    "\n",
    "avg_daily_range.plot(ax=axes[1])\n",
    "avg_temp_year.plot(ax=axes[0])"
   ]
  },
  {
   "cell_type": "markdown",
   "id": "b4706967",
   "metadata": {
    "papermill": {
     "duration": 0.041102,
     "end_time": "2022-05-01T22:04:14.569960",
     "exception": false,
     "start_time": "2022-05-01T22:04:14.528858",
     "status": "completed"
    },
    "tags": []
   },
   "source": [
    "We can get some interesting insights here. In 2011, the hottest year, was also the year with the lowest variation of temperature. On the other hand, 2010, that was also an average hot year, the temperature varied more then 14º."
   ]
  },
  {
   "cell_type": "markdown",
   "id": "9c879c91",
   "metadata": {
    "papermill": {
     "duration": 0.041212,
     "end_time": "2022-05-01T22:04:14.653056",
     "exception": false,
     "start_time": "2022-05-01T22:04:14.611844",
     "status": "completed"
    },
    "tags": []
   },
   "source": [
    "#### 4.1.1.3 Daily rain fall\n",
    "\n",
    "Now, to finish the year analysis, let's look at the the amount of rain per year."
   ]
  },
  {
   "cell_type": "code",
   "execution_count": 13,
   "id": "a21fc2c6",
   "metadata": {
    "execution": {
     "iopub.execute_input": "2022-05-01T22:04:14.738610Z",
     "iopub.status.busy": "2022-05-01T22:04:14.737607Z",
     "iopub.status.idle": "2022-05-01T22:04:15.035296Z",
     "shell.execute_reply": "2022-05-01T22:04:15.034656Z"
    },
    "papermill": {
     "duration": 0.342564,
     "end_time": "2022-05-01T22:04:15.037366",
     "exception": false,
     "start_time": "2022-05-01T22:04:14.694802",
     "status": "completed"
    },
    "tags": []
   },
   "outputs": [
    {
     "data": {
      "text/plain": [
       "<AxesSubplot:xlabel='Year'>"
      ]
     },
     "execution_count": 13,
     "metadata": {},
     "output_type": "execute_result"
    },
    {
     "data": {
      "image/png": "[encoded data removed]",
      "text/plain": [
       "<Figure size 432x288 with 2 Axes>"
      ]
     },
     "metadata": {
      "needs_background": "light"
     },
     "output_type": "display_data"
    }
   ],
   "source": [
    "avg_rainfall = df.loc[df.Year >= 2000].groupby(['Year']).rainfall_mm.mean()\n",
    "\n",
    "fig, axes = plt.subplots(nrows=2, ncols=1)\n",
    "\n",
    "avg_temp_year.plot(ax=axes[0]) #average temperature per year\n",
    "avg_rainfall.plot(ax=axes[1]) # avarege rain fall per year"
   ]
  },
  {
   "cell_type": "markdown",
   "id": "93f534f3",
   "metadata": {
    "papermill": {
     "duration": 0.042875,
     "end_time": "2022-05-01T22:04:15.125600",
     "exception": false,
     "start_time": "2022-05-01T22:04:15.082725",
     "status": "completed"
    },
    "tags": []
   },
   "source": [
    "We can see some similarities in some cases, for example in 2011 there was a considerable amount of rain. On the other hand, in 2010, which was also a hot year, the amount of rain was much lower. Also, let's take a look at the correlations between these data."
   ]
  },
  {
   "cell_type": "markdown",
   "id": "4decd625",
   "metadata": {
    "papermill": {
     "duration": 0.042966,
     "end_time": "2022-05-01T22:04:15.212546",
     "exception": false,
     "start_time": "2022-05-01T22:04:15.169580",
     "status": "completed"
    },
    "tags": []
   },
   "source": [
    "### 4.1.2 Months and Seasons"
   ]
  },
  {
   "cell_type": "markdown",
   "id": "a59ac132",
   "metadata": {
    "papermill": {
     "duration": 0.042916,
     "end_time": "2022-05-01T22:04:15.299249",
     "exception": false,
     "start_time": "2022-05-01T22:04:15.256333",
     "status": "completed"
    },
    "tags": []
   },
   "source": [
    "We have to keep in mind that the season column is a numerical column that represents the following:\n",
    "* 1: Spring\n",
    "* 2: Summer\n",
    "* 3: Autumn\n",
    "* 4: Winter\n",
    "\n",
    "Let's look how is the average temperature per season and per month:"
   ]
  },
  {
   "cell_type": "markdown",
   "id": "da34480f",
   "metadata": {
    "papermill": {
     "duration": 0.042673,
     "end_time": "2022-05-01T22:04:15.384881",
     "exception": false,
     "start_time": "2022-05-01T22:04:15.342208",
     "status": "completed"
    },
    "tags": []
   },
   "source": [
    "#### 4.1.2.1 Average temperature"
   ]
  },
  {
   "cell_type": "code",
   "execution_count": 14,
   "id": "85580b7f",
   "metadata": {
    "execution": {
     "iopub.execute_input": "2022-05-01T22:04:15.473038Z",
     "iopub.status.busy": "2022-05-01T22:04:15.472209Z",
     "iopub.status.idle": "2022-05-01T22:04:15.481324Z",
     "shell.execute_reply": "2022-05-01T22:04:15.480479Z"
    },
    "papermill": {
     "duration": 0.055562,
     "end_time": "2022-05-01T22:04:15.483192",
     "exception": false,
     "start_time": "2022-05-01T22:04:15.427630",
     "status": "completed"
    },
    "tags": []
   },
   "outputs": [
    {
     "data": {
      "text/plain": [
       "Season\n",
       "1    16.792358\n",
       "2    23.663393\n",
       "3    19.400956\n",
       "4    13.400396\n",
       "Name: daily_avg, dtype: float64"
      ]
     },
     "execution_count": 14,
     "metadata": {},
     "output_type": "execute_result"
    }
   ],
   "source": [
    "avg_temp_season = df.groupby('Season').daily_avg.mean()\n",
    "avg_temp_season"
   ]
  },
  {
   "cell_type": "code",
   "execution_count": 15,
   "id": "e5c10d18",
   "metadata": {
    "execution": {
     "iopub.execute_input": "2022-05-01T22:04:15.573008Z",
     "iopub.status.busy": "2022-05-01T22:04:15.572559Z",
     "iopub.status.idle": "2022-05-01T22:04:15.588202Z",
     "shell.execute_reply": "2022-05-01T22:04:15.587349Z"
    },
    "papermill": {
     "duration": 0.063947,
     "end_time": "2022-05-01T22:04:15.590422",
     "exception": false,
     "start_time": "2022-05-01T22:04:15.526475",
     "status": "completed"
    },
    "tags": []
   },
   "outputs": [
    {
     "data": {
      "text/plain": [
       "Season  Month\n",
       "Spring  9        14.527279\n",
       "        10       16.503459\n",
       "        11       19.355863\n",
       "Summer  1        24.407570\n",
       "        2        24.750890\n",
       "        12       21.956684\n",
       "Autumn  3        22.821666\n",
       "        4        19.295255\n",
       "        5        16.075798\n",
       "Winter  6        13.964777\n",
       "        7        12.957324\n",
       "        8        13.297807\n",
       "Name: daily_avg, dtype: float64"
      ]
     },
     "execution_count": 15,
     "metadata": {},
     "output_type": "execute_result"
    }
   ],
   "source": [
    "#to help us see better, let's group by Season and by Month\n",
    "\n",
    "avg_temp_month = df.groupby(['Season','Month']).daily_avg.mean()\n",
    "avg_temp_month.rename(index={1: 'Spring', 2: 'Summer', 3: 'Autumn', 4: 'Winter'}, level=0)"
   ]
  },
  {
   "cell_type": "markdown",
   "id": "3f920579",
   "metadata": {
    "papermill": {
     "duration": 0.043834,
     "end_time": "2022-05-01T22:04:15.678411",
     "exception": false,
     "start_time": "2022-05-01T22:04:15.634577",
     "status": "completed"
    },
    "tags": []
   },
   "source": [
    "As expected, Summer has the highest average temperature (23,66) and Winter has the lowest (13,4). Taking a deeper look, the months **12, 1 and 2** have the **highest temperature**, while the months 6, 7 and 8 have the lowest.\n",
    "\n",
    "Let's plot the values to visualize it better:"
   ]
  },
  {
   "cell_type": "code",
   "execution_count": 16,
   "id": "e0a13011",
   "metadata": {
    "execution": {
     "iopub.execute_input": "2022-05-01T22:04:15.767718Z",
     "iopub.status.busy": "2022-05-01T22:04:15.767300Z",
     "iopub.status.idle": "2022-05-01T22:04:15.917287Z",
     "shell.execute_reply": "2022-05-01T22:04:15.916204Z"
    },
    "papermill": {
     "duration": 0.197556,
     "end_time": "2022-05-01T22:04:15.919659",
     "exception": false,
     "start_time": "2022-05-01T22:04:15.722103",
     "status": "completed"
    },
    "tags": []
   },
   "outputs": [
    {
     "data": {
      "text/plain": [
       "<AxesSubplot:xlabel='Season,Month'>"
      ]
     },
     "execution_count": 16,
     "metadata": {},
     "output_type": "execute_result"
    },
    {
     "data": {
      "image/png": "[encoded data removed]",
      "text/plain": [
       "<Figure size 432x288 with 1 Axes>"
      ]
     },
     "metadata": {
      "needs_background": "light"
     },
     "output_type": "display_data"
    }
   ],
   "source": [
    "avg_temp_month.plot()"
   ]
  },
  {
   "cell_type": "markdown",
   "id": "2f4d2dda",
   "metadata": {
    "papermill": {
     "duration": 0.046032,
     "end_time": "2022-05-01T22:04:16.011974",
     "exception": false,
     "start_time": "2022-05-01T22:04:15.965942",
     "status": "completed"
    },
    "tags": []
   },
   "source": [
    "#### 4.1.2.2 Daily range\n",
    "\n",
    "Similar to the year, let's analyse the daily range over the months."
   ]
  },
  {
   "cell_type": "code",
   "execution_count": 17,
   "id": "afdf1011",
   "metadata": {
    "execution": {
     "iopub.execute_input": "2022-05-01T22:04:16.106208Z",
     "iopub.status.busy": "2022-05-01T22:04:16.105925Z",
     "iopub.status.idle": "2022-05-01T22:04:16.247969Z",
     "shell.execute_reply": "2022-05-01T22:04:16.246043Z"
    },
    "papermill": {
     "duration": 0.191318,
     "end_time": "2022-05-01T22:04:16.250176",
     "exception": false,
     "start_time": "2022-05-01T22:04:16.058858",
     "status": "completed"
    },
    "tags": []
   },
   "outputs": [
    {
     "data": {
      "text/plain": [
       "<AxesSubplot:xlabel='Month'>"
      ]
     },
     "execution_count": 17,
     "metadata": {},
     "output_type": "execute_result"
    },
    {
     "data": {
      "image/png": "[encoded data removed]",
      "text/plain": [
       "<Figure size 432x288 with 1 Axes>"
      ]
     },
     "metadata": {
      "needs_background": "light"
     },
     "output_type": "display_data"
    }
   ],
   "source": [
    "df.groupby(['Month']).daily_range.mean().plot()"
   ]
  },
  {
   "cell_type": "markdown",
   "id": "a48097c1",
   "metadata": {
    "papermill": {
     "duration": 0.046146,
     "end_time": "2022-05-01T22:04:16.343654",
     "exception": false,
     "start_time": "2022-05-01T22:04:16.297508",
     "status": "completed"
    },
    "tags": []
   },
   "source": [
    "#### 4.1.2.3 Daily rain fall\n",
    "\n",
    "Now, we will explore the average daily rain fall per month."
   ]
  },
  {
   "cell_type": "code",
   "execution_count": 18,
   "id": "46e71200",
   "metadata": {
    "execution": {
     "iopub.execute_input": "2022-05-01T22:04:16.439339Z",
     "iopub.status.busy": "2022-05-01T22:04:16.438789Z",
     "iopub.status.idle": "2022-05-01T22:04:16.629539Z",
     "shell.execute_reply": "2022-05-01T22:04:16.628830Z"
    },
    "papermill": {
     "duration": 0.240822,
     "end_time": "2022-05-01T22:04:16.631640",
     "exception": false,
     "start_time": "2022-05-01T22:04:16.390818",
     "status": "completed"
    },
    "tags": []
   },
   "outputs": [
    {
     "data": {
      "text/plain": [
       "<AxesSubplot:xlabel='Month'>"
      ]
     },
     "execution_count": 18,
     "metadata": {},
     "output_type": "execute_result"
    },
    {
     "data": {
      "image/png": "[encoded data removed]",
      "text/plain": [
       "<Figure size 432x288 with 1 Axes>"
      ]
     },
     "metadata": {
      "needs_background": "light"
     },
     "output_type": "display_data"
    }
   ],
   "source": [
    "df.groupby(['Month']).rainfall_mm.mean().plot()"
   ]
  },
  {
   "cell_type": "markdown",
   "id": "89215a15",
   "metadata": {
    "papermill": {
     "duration": 0.048121,
     "end_time": "2022-05-01T22:04:16.727740",
     "exception": false,
     "start_time": "2022-05-01T22:04:16.679619",
     "status": "completed"
    },
    "tags": []
   },
   "source": [
    "We can notice here that during the cold months, there are more rains then the hot months.\n",
    "\n",
    "To finish our analyses, we will see if there are correlation between the calumns."
   ]
  },
  {
   "cell_type": "markdown",
   "id": "dd75512b",
   "metadata": {
    "papermill": {
     "duration": 0.05115,
     "end_time": "2022-05-01T22:04:16.828179",
     "exception": false,
     "start_time": "2022-05-01T22:04:16.777029",
     "status": "completed"
    },
    "tags": []
   },
   "source": [
    "## 4.2 Correlations"
   ]
  },
  {
   "cell_type": "code",
   "execution_count": 19,
   "id": "9c4a6fd0",
   "metadata": {
    "execution": {
     "iopub.execute_input": "2022-05-01T22:04:16.926684Z",
     "iopub.status.busy": "2022-05-01T22:04:16.926076Z",
     "iopub.status.idle": "2022-05-01T22:04:16.952841Z",
     "shell.execute_reply": "2022-05-01T22:04:16.952191Z"
    },
    "papermill": {
     "duration": 0.078454,
     "end_time": "2022-05-01T22:04:16.954662",
     "exception": false,
     "start_time": "2022-05-01T22:04:16.876208",
     "status": "completed"
    },
    "tags": []
   },
   "outputs": [
    {
     "data": {
      "text/html": [
       "<div>\n",
       "<style scoped>\n",
       "    .dataframe tbody tr th:only-of-type {\n",
       "        vertical-align: middle;\n",
       "    }\n",
       "\n",
       "    .dataframe tbody tr th {\n",
       "        vertical-align: top;\n",
       "    }\n",
       "\n",
       "    .dataframe thead th {\n",
       "        text-align: right;\n",
       "    }\n",
       "</style>\n",
       "<table border=\"1\" class=\"dataframe\">\n",
       "  <thead>\n",
       "    <tr style=\"text-align: right;\">\n",
       "      <th></th>\n",
       "      <th>Year</th>\n",
       "      <th>Month</th>\n",
       "      <th>Day</th>\n",
       "      <th>rainfall_mm</th>\n",
       "      <th>min_temp_C</th>\n",
       "      <th>max_temp_C</th>\n",
       "      <th>daily_avg</th>\n",
       "      <th>daily_range</th>\n",
       "      <th>Season</th>\n",
       "    </tr>\n",
       "  </thead>\n",
       "  <tbody>\n",
       "    <tr>\n",
       "      <th>Year</th>\n",
       "      <td>1.000000</td>\n",
       "      <td>-0.010991</td>\n",
       "      <td>-0.000138</td>\n",
       "      <td>-0.032293</td>\n",
       "      <td>0.084970</td>\n",
       "      <td>0.083335</td>\n",
       "      <td>0.089983</td>\n",
       "      <td>0.028637</td>\n",
       "      <td>0.001156</td>\n",
       "    </tr>\n",
       "    <tr>\n",
       "      <th>Month</th>\n",
       "      <td>-0.010991</td>\n",
       "      <td>1.000000</td>\n",
       "      <td>0.010361</td>\n",
       "      <td>0.032049</td>\n",
       "      <td>-0.336073</td>\n",
       "      <td>-0.319211</td>\n",
       "      <td>-0.349554</td>\n",
       "      <td>-0.097832</td>\n",
       "      <td>-0.327211</td>\n",
       "    </tr>\n",
       "    <tr>\n",
       "      <th>Day</th>\n",
       "      <td>-0.000138</td>\n",
       "      <td>0.010361</td>\n",
       "      <td>1.000000</td>\n",
       "      <td>0.024214</td>\n",
       "      <td>-0.006476</td>\n",
       "      <td>-0.013222</td>\n",
       "      <td>-0.011052</td>\n",
       "      <td>-0.012383</td>\n",
       "      <td>0.010400</td>\n",
       "    </tr>\n",
       "    <tr>\n",
       "      <th>rainfall_mm</th>\n",
       "      <td>-0.032293</td>\n",
       "      <td>0.032049</td>\n",
       "      <td>0.024214</td>\n",
       "      <td>1.000000</td>\n",
       "      <td>-0.067025</td>\n",
       "      <td>-0.329182</td>\n",
       "      <td>-0.231825</td>\n",
       "      <td>-0.413736</td>\n",
       "      <td>0.204728</td>\n",
       "    </tr>\n",
       "    <tr>\n",
       "      <th>min_temp_C</th>\n",
       "      <td>0.084970</td>\n",
       "      <td>-0.336073</td>\n",
       "      <td>-0.006476</td>\n",
       "      <td>-0.067025</td>\n",
       "      <td>1.000000</td>\n",
       "      <td>0.739305</td>\n",
       "      <td>0.911580</td>\n",
       "      <td>-0.021460</td>\n",
       "      <td>-0.242992</td>\n",
       "    </tr>\n",
       "    <tr>\n",
       "      <th>max_temp_C</th>\n",
       "      <td>0.083335</td>\n",
       "      <td>-0.319211</td>\n",
       "      <td>-0.013222</td>\n",
       "      <td>-0.329182</td>\n",
       "      <td>0.739305</td>\n",
       "      <td>1.000000</td>\n",
       "      <td>0.950773</td>\n",
       "      <td>0.657350</td>\n",
       "      <td>-0.332649</td>\n",
       "    </tr>\n",
       "    <tr>\n",
       "      <th>daily_avg</th>\n",
       "      <td>0.089983</td>\n",
       "      <td>-0.349554</td>\n",
       "      <td>-0.011052</td>\n",
       "      <td>-0.231825</td>\n",
       "      <td>0.911580</td>\n",
       "      <td>0.950773</td>\n",
       "      <td>1.000000</td>\n",
       "      <td>0.391465</td>\n",
       "      <td>-0.314922</td>\n",
       "    </tr>\n",
       "    <tr>\n",
       "      <th>daily_range</th>\n",
       "      <td>0.028637</td>\n",
       "      <td>-0.097832</td>\n",
       "      <td>-0.012383</td>\n",
       "      <td>-0.413736</td>\n",
       "      <td>-0.021460</td>\n",
       "      <td>0.657350</td>\n",
       "      <td>0.391465</td>\n",
       "      <td>1.000000</td>\n",
       "      <td>-0.221953</td>\n",
       "    </tr>\n",
       "    <tr>\n",
       "      <th>Season</th>\n",
       "      <td>0.001156</td>\n",
       "      <td>-0.327211</td>\n",
       "      <td>0.010400</td>\n",
       "      <td>0.204728</td>\n",
       "      <td>-0.242992</td>\n",
       "      <td>-0.332649</td>\n",
       "      <td>-0.314922</td>\n",
       "      <td>-0.221953</td>\n",
       "      <td>1.000000</td>\n",
       "    </tr>\n",
       "  </tbody>\n",
       "</table>\n",
       "</div>"
      ],
      "text/plain": [
       "                 Year     Month       Day  rainfall_mm  min_temp_C  \\\n",
       "Year         1.000000 -0.010991 -0.000138    -0.032293    0.084970   \n",
       "Month       -0.010991  1.000000  0.010361     0.032049   -0.336073   \n",
       "Day         -0.000138  0.010361  1.000000     0.024214   -0.006476   \n",
       "rainfall_mm -0.032293  0.032049  0.024214     1.000000   -0.067025   \n",
       "min_temp_C   0.084970 -0.336073 -0.006476    -0.067025    1.000000   \n",
       "max_temp_C   0.083335 -0.319211 -0.013222    -0.329182    0.739305   \n",
       "daily_avg    0.089983 -0.349554 -0.011052    -0.231825    0.911580   \n",
       "daily_range  0.028637 -0.097832 -0.012383    -0.413736   -0.021460   \n",
       "Season       0.001156 -0.327211  0.010400     0.204728   -0.242992   \n",
       "\n",
       "             max_temp_C  daily_avg  daily_range    Season  \n",
       "Year           0.083335   0.089983     0.028637  0.001156  \n",
       "Month         -0.319211  -0.349554    -0.097832 -0.327211  \n",
       "Day           -0.013222  -0.011052    -0.012383  0.010400  \n",
       "rainfall_mm   -0.329182  -0.231825    -0.413736  0.204728  \n",
       "min_temp_C     0.739305   0.911580    -0.021460 -0.242992  \n",
       "max_temp_C     1.000000   0.950773     0.657350 -0.332649  \n",
       "daily_avg      0.950773   1.000000     0.391465 -0.314922  \n",
       "daily_range    0.657350   0.391465     1.000000 -0.221953  \n",
       "Season        -0.332649  -0.314922    -0.221953  1.000000  "
      ]
     },
     "execution_count": 19,
     "metadata": {},
     "output_type": "execute_result"
    }
   ],
   "source": [
    "df.corr()"
   ]
  }
 ],
 "metadata": {
  "kernelspec": {
   "display_name": "Python 3",
   "language": "python",
   "name": "python3"
  },
  "language_info": {
   "codemirror_mode": {
    "name": "ipython",
    "version": 3
   },
   "file_extension": ".py",
   "mimetype": "text/x-python",
   "name": "python",
   "nbconvert_exporter": "python",
   "pygments_lexer": "ipython3",
   "version": "3.7.12"
  },
  "papermill": {
   "default_parameters": {},
   "duration": 16.414359,
   "end_time": "2022-05-01T22:04:17.731032",
   "environment_variables": {},
   "exception": null,
   "input_path": "__notebook__.ipynb",
   "output_path": "__notebook__.ipynb",
   "parameters": {},
   "start_time": "2022-05-01T22:04:01.316673",
   "version": "2.3.4"
  }
 },
 "nbformat": 4,
 "nbformat_minor": 5
}
